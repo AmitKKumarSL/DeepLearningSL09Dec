{
  "nbformat": 4,
  "nbformat_minor": 0,
  "metadata": {
    "colab": {
      "provenance": []
    },
    "kernelspec": {
      "name": "python3",
      "display_name": "Python 3"
    },
    "language_info": {
      "name": "python"
    },
    "accelerator": "GPU"
  },
  "cells": [
    {
      "cell_type": "markdown",
      "source": [
        "# <strong>Hyperparameter Tuning</strong>"
      ],
      "metadata": {
        "id": "T7dK13YKcpKF"
      }
    },
    {
      "cell_type": "code",
      "execution_count": null,
      "metadata": {
        "id": "sY0i3HzSUm_5"
      },
      "outputs": [],
      "source": [
        "import pandas as pd\n",
        "import numpy as np\n",
        "\n",
        "import warnings\n",
        "warnings.filterwarnings('ignore')"
      ]
    },
    {
      "cell_type": "code",
      "source": [
        "np.random.seed(12345)"
      ],
      "metadata": {
        "id": "15oKoyQAl3OT"
      },
      "execution_count": null,
      "outputs": []
    },
    {
      "cell_type": "code",
      "source": [
        "df_diab = pd.read_csv('diabetes.csv')"
      ],
      "metadata": {
        "id": "VFh-uDNDU94r"
      },
      "execution_count": null,
      "outputs": []
    },
    {
      "cell_type": "code",
      "source": [
        "df_diab.head()"
      ],
      "metadata": {
        "id": "l-0WhE1uU_KM"
      },
      "execution_count": null,
      "outputs": []
    },
    {
      "cell_type": "code",
      "source": [
        "df_diab.Outcome.unique()"
      ],
      "metadata": {
        "id": "poKusIRIVAiS"
      },
      "execution_count": null,
      "outputs": []
    },
    {
      "cell_type": "code",
      "source": [
        "df_diab.shape"
      ],
      "metadata": {
        "id": "vIhNwqKqT4qU"
      },
      "execution_count": null,
      "outputs": []
    },
    {
      "cell_type": "code",
      "source": [
        "df_diab.isna().sum()"
      ],
      "metadata": {
        "id": "QLxcGFbaVCG9"
      },
      "execution_count": null,
      "outputs": []
    },
    {
      "cell_type": "code",
      "source": [
        "X = df_diab.drop(['Outcome'],axis=1)\n",
        "y = df_diab[['Outcome']]"
      ],
      "metadata": {
        "id": "wIk8UTIhVDkD"
      },
      "execution_count": null,
      "outputs": []
    },
    {
      "cell_type": "code",
      "source": [
        "from sklearn.model_selection import train_test_split"
      ],
      "metadata": {
        "id": "khMcWJrEVF-S"
      },
      "execution_count": null,
      "outputs": []
    },
    {
      "cell_type": "code",
      "source": [
        "X_train, X_test, y_train,y_test = train_test_split(X,\n",
        "                                                   y,\n",
        "                                                   stratify=y,\n",
        "                                                   test_size=0.2,\n",
        "                                                   random_state=12345)"
      ],
      "metadata": {
        "id": "kmiPAPcsVHeH"
      },
      "execution_count": null,
      "outputs": []
    },
    {
      "cell_type": "code",
      "source": [
        "from sklearn.preprocessing import StandardScaler"
      ],
      "metadata": {
        "id": "m5wuyz6CVJdf"
      },
      "execution_count": null,
      "outputs": []
    },
    {
      "cell_type": "code",
      "source": [
        "scaler = StandardScaler()\n",
        "X_train_scaled = scaler.fit_transform(X_train)\n",
        "X_test_scaled = scaler.transform(X_test)"
      ],
      "metadata": {
        "id": "sC7hjMxBVLTl"
      },
      "execution_count": null,
      "outputs": []
    },
    {
      "cell_type": "code",
      "source": [
        "import tensorflow as tf"
      ],
      "metadata": {
        "id": "2C18D-EWVM8g"
      },
      "execution_count": null,
      "outputs": []
    },
    {
      "cell_type": "code",
      "source": [
        "from tensorflow.keras.models import Sequential"
      ],
      "metadata": {
        "id": "aHqz-uMWVO7W"
      },
      "execution_count": null,
      "outputs": []
    },
    {
      "cell_type": "code",
      "source": [
        "from tensorflow.keras.layers import Dense, Dropout"
      ],
      "metadata": {
        "id": "lNsGZCeLVQUU"
      },
      "execution_count": null,
      "outputs": []
    },
    {
      "cell_type": "markdown",
      "source": [
        "### Hyperparameter Tuning\n"
      ],
      "metadata": {
        "id": "WYsTueyBWuil"
      }
    },
    {
      "cell_type": "code",
      "source": [
        "!pip install -q -U keras-tuner"
      ],
      "metadata": {
        "id": "_8J9XKiEWrpT"
      },
      "execution_count": null,
      "outputs": []
    },
    {
      "cell_type": "code",
      "source": [
        "def build_model(hp):\n",
        "    # Instantiate the model\n",
        "    model = Sequential()\n",
        "\n",
        "    # Define first layer -> optimization for number of units and activation function\n",
        "    model.add(Dense(units = hp.Int(\"units1\",min_value = 32, max_value=1024, step=16),\n",
        "                   activation = hp.Choice(\"activation1\",[\"relu\",\"tanh\"]),\n",
        "                    input_shape = (X_train_scaled.shape[1],)\n",
        "                   ))\n",
        "\n",
        "    # Define dropout layer by providing the optimization of dropout rate\n",
        "    model.add(Dropout(hp.Float(\"rate1\",min_value=0.1, max_value = 0.4, step=0.1),seed = 12345))\n",
        "\n",
        "    # Add second layer\n",
        "    model.add(Dense(units = hp.Int(\"units2\",min_value = 32, max_value=128, step=16),\n",
        "                   activation = hp.Choice(\"activation2\",[\"relu\",\"tanh\"])\n",
        "                   ))\n",
        "\n",
        "\n",
        "    model.add(Dropout(hp.Float(\"rate2\",min_value=0.1, max_value = 0.4, step=0.1),seed = 12345))\n",
        "\n",
        "    model.add(Dense(units = hp.Int(\"units3\",min_value = 32, max_value=128, step=16),\n",
        "                   activation = hp.Choice(\"activation3\",[\"relu\",\"tanh\"])\n",
        "                   ))\n",
        "    # Output Layer\n",
        "    model.add(Dense(units=1, activation='sigmoid'))\n",
        "\n",
        "    # define values for learning rate\n",
        "    learning_rate = hp.Float(\"learning_rate\",min_value = 0.001, max_value=0.1, step=0.01)\n",
        "\n",
        "    model.compile(optimizer = tf.keras.optimizers.Adam(learning_rate=learning_rate),\n",
        "                  loss = 'binary_crossentropy',\n",
        "                  metrics = ['accuracy']\n",
        "                 )\n",
        "    return model"
      ],
      "metadata": {
        "id": "VtR5Jaa1W1Ai"
      },
      "execution_count": null,
      "outputs": []
    },
    {
      "cell_type": "code",
      "source": [
        "import keras_tuner as kt\n",
        "\n",
        "build_model(kt.HyperParameters())"
      ],
      "metadata": {
        "id": "FE0M-vQJXcRX"
      },
      "execution_count": null,
      "outputs": []
    },
    {
      "cell_type": "code",
      "source": [
        "rtuner = kt.RandomSearch(hypermodel=build_model,\n",
        "    objective=\"val_accuracy\",\n",
        "    max_trials=5,\n",
        "    seed=12345,\n",
        "    overwrite=True,\n",
        "    directory=\"my_dir\",\n",
        "    project_name=\"diab\")"
      ],
      "metadata": {
        "id": "aiPQlkygXfUo"
      },
      "execution_count": null,
      "outputs": []
    },
    {
      "cell_type": "code",
      "source": [
        "rtuner.search(X_train_scaled,\n",
        "              y_train,\n",
        "              epochs=10,\n",
        "              validation_data=(X_test_scaled, y_test))"
      ],
      "metadata": {
        "id": "kG4OuHZkXvKx"
      },
      "execution_count": null,
      "outputs": []
    },
    {
      "cell_type": "code",
      "source": [
        "models = rtuner.get_best_models(num_models=2)"
      ],
      "metadata": {
        "id": "cis-pURvX0bm"
      },
      "execution_count": null,
      "outputs": []
    },
    {
      "cell_type": "code",
      "source": [
        "models[0].summary()"
      ],
      "metadata": {
        "id": "XlB2bdyYX806"
      },
      "execution_count": null,
      "outputs": []
    },
    {
      "cell_type": "code",
      "source": [
        "models[1].summary()"
      ],
      "metadata": {
        "id": "cmJJh5PXSC06"
      },
      "execution_count": null,
      "outputs": []
    },
    {
      "cell_type": "code",
      "source": [
        "y_test_pred =  models[0].predict(X_test_scaled) >= 0.5"
      ],
      "metadata": {
        "id": "SAniZNDoX-3d"
      },
      "execution_count": null,
      "outputs": []
    },
    {
      "cell_type": "code",
      "source": [
        "from sklearn.metrics import accuracy_score"
      ],
      "metadata": {
        "id": "32kqkWv4Kw-1"
      },
      "execution_count": null,
      "outputs": []
    },
    {
      "cell_type": "code",
      "source": [
        "accuracy_score(y_pred = y_test_pred, y_true = y_test )"
      ],
      "metadata": {
        "id": "12MMGaVbYI-U"
      },
      "execution_count": null,
      "outputs": []
    },
    {
      "cell_type": "code",
      "source": [
        "rtuner.get_best_hyperparameters()[0].get_config()['values']"
      ],
      "metadata": {
        "id": "77ULZ8-XaeE4"
      },
      "execution_count": null,
      "outputs": []
    },
    {
      "cell_type": "code",
      "source": [
        "m1 = models[0]"
      ],
      "metadata": {
        "id": "fWer61I3EPGw"
      },
      "execution_count": null,
      "outputs": []
    },
    {
      "cell_type": "markdown",
      "source": [
        "### Explainable AI"
      ],
      "metadata": {
        "id": "eABIVjG6cx6m"
      }
    },
    {
      "cell_type": "code",
      "source": [
        "!pip install shap==0.37"
      ],
      "metadata": {
        "id": "iRlwlHaWbG8d"
      },
      "execution_count": null,
      "outputs": []
    },
    {
      "cell_type": "code",
      "source": [
        "import shap"
      ],
      "metadata": {
        "id": "LBSyPrVnc8VX"
      },
      "execution_count": null,
      "outputs": []
    },
    {
      "cell_type": "code",
      "source": [
        "from tensorflow.python.ops.numpy_ops import np_config\n",
        "np_config.enable_numpy_behavior()"
      ],
      "metadata": {
        "id": "Ga4lfYvgs32c"
      },
      "execution_count": null,
      "outputs": []
    },
    {
      "cell_type": "code",
      "source": [
        "explainer = shap.KernelExplainer(m1, data=X_train_scaled)"
      ],
      "metadata": {
        "id": "IVYWtjV9dD_b"
      },
      "execution_count": null,
      "outputs": []
    },
    {
      "cell_type": "code",
      "source": [
        "features = df_diab.columns"
      ],
      "metadata": {
        "id": "9QlHigaeerT8"
      },
      "execution_count": null,
      "outputs": []
    },
    {
      "cell_type": "code",
      "source": [
        "features = features[0:-1]"
      ],
      "metadata": {
        "id": "5R6XfpKMevpy"
      },
      "execution_count": null,
      "outputs": []
    },
    {
      "cell_type": "code",
      "source": [
        "features"
      ],
      "metadata": {
        "id": "V2dXz2BRezoy"
      },
      "execution_count": null,
      "outputs": []
    },
    {
      "cell_type": "code",
      "source": [
        "df_diab.columns"
      ],
      "metadata": {
        "id": "6roySRZpe2Yq"
      },
      "execution_count": null,
      "outputs": []
    },
    {
      "cell_type": "code",
      "source": [
        "shap_values = explainer.shap_values(X_test_scaled)"
      ],
      "metadata": {
        "id": "y6pV7rTEdVxV"
      },
      "execution_count": null,
      "outputs": []
    },
    {
      "cell_type": "code",
      "source": [
        "shap.summary_plot(shap_values, X_test_scaled, feature_names = features)"
      ],
      "metadata": {
        "id": "UCYoQarafYzJ"
      },
      "execution_count": null,
      "outputs": []
    },
    {
      "cell_type": "code",
      "source": [
        "values = shap_values[0]\n",
        "base_values = [explainer.expected_value[0]]*len(shap_values[0])\n",
        "\n",
        "tmp = shap.Explanation(values = np.array(values, dtype=np.float32),\n",
        "                       base_values = np.array(base_values, dtype=np.float32),\n",
        "                       data=np.array(X_test_scaled),\n",
        "                       feature_names=features)\n",
        "\n",
        "shap.plots.waterfall(tmp[0])"
      ],
      "metadata": {
        "id": "SG2o3g-clRFN"
      },
      "execution_count": null,
      "outputs": []
    },
    {
      "cell_type": "code",
      "source": [],
      "metadata": {
        "id": "5g6Ehx-QxaCh"
      },
      "execution_count": null,
      "outputs": []
    }
  ]
}