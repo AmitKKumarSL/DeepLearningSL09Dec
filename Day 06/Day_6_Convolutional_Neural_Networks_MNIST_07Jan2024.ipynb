{
  "cells": [
    {
      "cell_type": "markdown",
      "metadata": {
        "id": "QSPk97j5Omjv"
      },
      "source": [
        "## Convolutional Neural Networks - MNIST dataset"
      ]
    },
    {
      "cell_type": "code",
      "execution_count": null,
      "metadata": {
        "id": "-laCjETUOmj2"
      },
      "outputs": [],
      "source": [
        "import warnings\n",
        "warnings.filterwarnings(\"ignore\")"
      ]
    },
    {
      "cell_type": "code",
      "execution_count": null,
      "metadata": {
        "id": "dgr4RstVOmj4"
      },
      "outputs": [],
      "source": [
        "import tensorflow as tf\n",
        "from tensorflow.keras.datasets import mnist"
      ]
    },
    {
      "cell_type": "code",
      "execution_count": null,
      "metadata": {
        "id": "Us8yq2elOmj5"
      },
      "outputs": [],
      "source": [
        "(X_train, y_train), (X_test, y_test) = mnist.load_data()"
      ]
    },
    {
      "cell_type": "code",
      "execution_count": null,
      "metadata": {
        "id": "mNf9KFhzOmj5"
      },
      "outputs": [],
      "source": [
        "X_train.shape"
      ]
    },
    {
      "cell_type": "code",
      "execution_count": null,
      "metadata": {
        "id": "4G9aDEowOmj7"
      },
      "outputs": [],
      "source": [
        "X_test.shape"
      ]
    },
    {
      "cell_type": "code",
      "execution_count": null,
      "metadata": {
        "id": "9GETcDOAOmj7"
      },
      "outputs": [],
      "source": [
        "import matplotlib.pyplot as plt\n",
        "plt.imshow(X_train[2], cmap='gray')"
      ]
    },
    {
      "cell_type": "code",
      "execution_count": null,
      "metadata": {
        "id": "N_5p4shZOmj8"
      },
      "outputs": [],
      "source": [
        "y_train[2]"
      ]
    },
    {
      "cell_type": "code",
      "execution_count": null,
      "metadata": {
        "id": "n0yI5yw4Omj8"
      },
      "outputs": [],
      "source": [
        "X_train = X_train.reshape(60000,28,28,1) # Now we are going to use the CNN\n",
        "X_test = X_test.reshape(10000,28,28,1)"
      ]
    },
    {
      "cell_type": "code",
      "execution_count": null,
      "metadata": {
        "id": "BE5fvVf3Omj9"
      },
      "outputs": [],
      "source": [
        "print(f\" Training Shape {X_train.shape} Test Shape {X_test.shape}\")"
      ]
    },
    {
      "cell_type": "code",
      "execution_count": null,
      "metadata": {
        "id": "OGjPJ4LkOmj-"
      },
      "outputs": [],
      "source": [
        "X_train = X_train/255.0\n",
        "X_test = X_test/255.0"
      ]
    },
    {
      "cell_type": "code",
      "source": [
        "tf.random.set_seed(12345)"
      ],
      "metadata": {
        "id": "LoXj5wAAaWk3"
      },
      "execution_count": null,
      "outputs": []
    },
    {
      "cell_type": "code",
      "execution_count": null,
      "metadata": {
        "id": "R0QFmAiiOmj_"
      },
      "outputs": [],
      "source": [
        "from tensorflow.keras.models import Sequential"
      ]
    },
    {
      "cell_type": "code",
      "execution_count": null,
      "metadata": {
        "id": "ATCDH4WwOmj_"
      },
      "outputs": [],
      "source": [
        "from tensorflow.keras.layers import Dense, Conv2D, Flatten, MaxPool2D"
      ]
    },
    {
      "cell_type": "code",
      "execution_count": null,
      "metadata": {
        "id": "WUQyh_SQOmj_"
      },
      "outputs": [],
      "source": [
        "#create model\n",
        "model = Sequential()"
      ]
    },
    {
      "cell_type": "code",
      "execution_count": null,
      "metadata": {
        "id": "R01BcFu2OmkA"
      },
      "outputs": [],
      "source": [
        "# Convolutional Layer with 32 filters, 3*3 filter size, stride = 1 and no padding\n",
        "model.add(Conv2D(32,\n",
        "                 kernel_size=3,\n",
        "                 activation='relu',\n",
        "                 padding='valid', # value = 'same' if padding is needed\n",
        "                 input_shape=(28,28,1)))"
      ]
    },
    {
      "cell_type": "code",
      "execution_count": null,
      "metadata": {
        "id": "XD0SDP69OmkA"
      },
      "outputs": [],
      "source": [
        "model.add(MaxPool2D(pool_size = 2)) #Maxpool2d"
      ]
    },
    {
      "cell_type": "code",
      "execution_count": null,
      "metadata": {
        "id": "H6W6XVVYOmkA"
      },
      "outputs": [],
      "source": [
        "model.add(Flatten()) # Flatten"
      ]
    },
    {
      "cell_type": "code",
      "execution_count": null,
      "metadata": {
        "id": "lSCtcRm9OmkB"
      },
      "outputs": [],
      "source": [
        "model.add(Dense(64, activation = 'relu')) # Fully Connected Layer"
      ]
    },
    {
      "cell_type": "code",
      "execution_count": null,
      "metadata": {
        "id": "ZR3IGuizOmkB"
      },
      "outputs": [],
      "source": [
        "model.add(Dense(10, activation='softmax')) # Output layer"
      ]
    },
    {
      "cell_type": "code",
      "execution_count": null,
      "metadata": {
        "id": "q71HJvKbOmkB"
      },
      "outputs": [],
      "source": [
        "28-3+1, (3*3+1)*32, 13*13*32, (5408+1)*64, (64+1)*10"
      ]
    },
    {
      "cell_type": "code",
      "execution_count": null,
      "metadata": {
        "id": "3XqHc4PTOmkC"
      },
      "outputs": [],
      "source": [
        "model.summary()"
      ]
    },
    {
      "cell_type": "code",
      "source": [
        "# n-f+1 where n is dimension of the image, f is dimension of the filer\n",
        "n = 28 # Image size\n",
        "f = 3 # Filter size\n",
        "n-f+1"
      ],
      "metadata": {
        "id": "OPeroc7zgwRK"
      },
      "execution_count": null,
      "outputs": []
    },
    {
      "cell_type": "code",
      "source": [
        "13*13*32, (5408+1)*64"
      ],
      "metadata": {
        "id": "9fTYJPDbhhjc"
      },
      "execution_count": null,
      "outputs": []
    },
    {
      "cell_type": "code",
      "execution_count": null,
      "metadata": {
        "id": "dyUm0hGTOmkD"
      },
      "outputs": [],
      "source": [
        "model.compile(optimizer='adam',\n",
        "              loss=tf.keras.losses.SparseCategoricalCrossentropy(),\n",
        "              metrics=['accuracy'])"
      ]
    },
    {
      "cell_type": "code",
      "execution_count": null,
      "metadata": {
        "id": "Hp25k6pGOmkD"
      },
      "outputs": [],
      "source": [
        "model.fit(X_train,\n",
        "          y_train,\n",
        "          validation_data=(X_test, y_test),\n",
        "          epochs=5)"
      ]
    },
    {
      "cell_type": "code",
      "execution_count": null,
      "metadata": {
        "id": "4HJwPYvOOmkE"
      },
      "outputs": [],
      "source": [
        "import numpy as np"
      ]
    },
    {
      "cell_type": "code",
      "execution_count": null,
      "metadata": {
        "id": "DczsPM3gOmkE"
      },
      "outputs": [],
      "source": [
        "print(model.predict(X_train)[0])\n",
        "print(np.argmax(model.predict(X_train)[0]))"
      ]
    },
    {
      "cell_type": "code",
      "execution_count": null,
      "metadata": {
        "id": "VnpxSOY4OmkH"
      },
      "outputs": [],
      "source": [
        "y_train_pred = np.argmax(model.predict(X_train),axis=1)"
      ]
    },
    {
      "cell_type": "code",
      "execution_count": null,
      "metadata": {
        "id": "0UcKZd7POmkI"
      },
      "outputs": [],
      "source": [
        "y_test_pred = np.argmax(model.predict(X_test), axis=1)"
      ]
    },
    {
      "cell_type": "code",
      "execution_count": null,
      "metadata": {
        "id": "cvYWUsnvOmkI"
      },
      "outputs": [],
      "source": [
        "from sklearn.metrics import confusion_matrix, accuracy_score"
      ]
    },
    {
      "cell_type": "code",
      "execution_count": null,
      "metadata": {
        "id": "QfKDUdUHOmkJ"
      },
      "outputs": [],
      "source": [
        "print(\"Training Set Confusion Matrix\")\n",
        "print(confusion_matrix(y_pred = y_train_pred, y_true=y_train))\n",
        "print(\"\\n\")\n",
        "print(f\" Accuracy {accuracy_score(y_pred = y_train_pred, y_true=y_train)}\")"
      ]
    },
    {
      "cell_type": "code",
      "execution_count": null,
      "metadata": {
        "id": "gsXImQ0zOmkJ"
      },
      "outputs": [],
      "source": [
        "print(\"Test Set Confusion Matrix\")\n",
        "print(confusion_matrix(y_pred = y_test_pred, y_true=y_test))\n",
        "print(\"\\n\")\n",
        "print(f\" Accuracy {accuracy_score(y_pred = y_test_pred, y_true=y_test)}\")"
      ]
    },
    {
      "cell_type": "code",
      "execution_count": null,
      "metadata": {
        "id": "rgTwp5A7OmkJ"
      },
      "outputs": [],
      "source": [
        "model.save('my_cnn_mnist_model_07Jan.h5')"
      ]
    },
    {
      "cell_type": "code",
      "execution_count": null,
      "metadata": {
        "id": "Zub6dCfmOmkK"
      },
      "outputs": [],
      "source": [
        "m1 = tf.keras.models.load_model('my_cnn_mnist_model_07Jan.h5')"
      ]
    },
    {
      "cell_type": "code",
      "execution_count": null,
      "metadata": {
        "id": "zM46roFjOmkK"
      },
      "outputs": [],
      "source": [
        "y_train_pred1 = np.argmax(m1.predict(X_train),axis=1)"
      ]
    },
    {
      "cell_type": "code",
      "execution_count": null,
      "metadata": {
        "id": "xR5KJbrcOmkL"
      },
      "outputs": [],
      "source": [
        "print(\"Confusion Matrix\")\n",
        "print(confusion_matrix(y_pred = y_train_pred1, y_true=y_train))\n",
        "print(\"\\n\")\n",
        "print(f\" Accuracy {accuracy_score(y_pred = y_train_pred1, y_true=y_train)}\")"
      ]
    },
    {
      "cell_type": "code",
      "execution_count": null,
      "metadata": {
        "id": "Nw1CWxAYOmkL"
      },
      "outputs": [],
      "source": []
    },
    {
      "cell_type": "code",
      "execution_count": null,
      "metadata": {
        "id": "tc7Xp9QfOmkL"
      },
      "outputs": [],
      "source": []
    }
  ],
  "metadata": {
    "kernelspec": {
      "display_name": "Python 3",
      "language": "python",
      "name": "python3"
    },
    "language_info": {
      "codemirror_mode": {
        "name": "ipython",
        "version": 3
      },
      "file_extension": ".py",
      "mimetype": "text/x-python",
      "name": "python",
      "nbconvert_exporter": "python",
      "pygments_lexer": "ipython3",
      "version": "3.7.6"
    },
    "colab": {
      "provenance": []
    }
  },
  "nbformat": 4,
  "nbformat_minor": 0
}