{
  "nbformat": 4,
  "nbformat_minor": 0,
  "metadata": {
    "colab": {
      "provenance": [],
      "gpuType": "T4"
    },
    "kernelspec": {
      "name": "python3",
      "display_name": "Python 3"
    },
    "language_info": {
      "name": "python"
    },
    "accelerator": "GPU"
  },
  "cells": [
    {
      "cell_type": "code",
      "execution_count": null,
      "metadata": {
        "id": "hTEde8n-iA4a"
      },
      "outputs": [],
      "source": [
        "!pip install -q kaggle"
      ]
    },
    {
      "cell_type": "code",
      "source": [
        "from google.colab import files\n",
        "files.upload()"
      ],
      "metadata": {
        "id": "N8C7ENhki0wD"
      },
      "execution_count": null,
      "outputs": []
    },
    {
      "cell_type": "code",
      "source": [
        "!mkdir ~/.kaggle\n",
        "!cp kaggle.json ~/.kaggle/\n",
        "!chmod 600 ~/.kaggle/kaggle.json\n",
        "!kaggle datasets download -d iarunava/cell-images-for-detecting-malaria"
      ],
      "metadata": {
        "id": "y-pN5PMoi_rS"
      },
      "execution_count": null,
      "outputs": []
    },
    {
      "cell_type": "code",
      "source": [
        "import os\n",
        "import zipfile"
      ],
      "metadata": {
        "id": "Rujz-LNPjNUG"
      },
      "execution_count": null,
      "outputs": []
    },
    {
      "cell_type": "code",
      "source": [
        "os.listdir()"
      ],
      "metadata": {
        "id": "bhJOwge4kQxC"
      },
      "execution_count": null,
      "outputs": []
    },
    {
      "cell_type": "code",
      "source": [
        "file = 'cell-images-for-detecting-malaria.zip'\n",
        "zip_ref = zipfile.ZipFile(file, 'r')\n",
        "zip_ref.extractall()\n",
        "zip_ref.close()"
      ],
      "metadata": {
        "id": "hic7LtjikSfZ"
      },
      "execution_count": null,
      "outputs": []
    },
    {
      "cell_type": "code",
      "source": [
        "dir_name = './cell_images/cell_images'\n",
        "os.listdir(dir_name)"
      ],
      "metadata": {
        "id": "LqpdUVhiltV8"
      },
      "execution_count": null,
      "outputs": []
    },
    {
      "cell_type": "code",
      "source": [
        "import tensorflow as tf\n",
        "tf.__version__"
      ],
      "metadata": {
        "id": "APbZ4C4ilzxE"
      },
      "execution_count": null,
      "outputs": []
    },
    {
      "cell_type": "code",
      "source": [
        "# ImageDataGenerator class provides the abilities to process image data efficiently\n",
        "from tensorflow.keras.preprocessing.image import ImageDataGenerator"
      ],
      "metadata": {
        "id": "t1VSA-Gml3ZT"
      },
      "execution_count": null,
      "outputs": []
    },
    {
      "cell_type": "code",
      "source": [
        "tf.random.set_seed(12345)"
      ],
      "metadata": {
        "id": "V6cTz98Bcnvs"
      },
      "execution_count": null,
      "outputs": []
    },
    {
      "cell_type": "code",
      "source": [
        "# Define the Dataset Generator. We will use this to read files. Validation split\n",
        "# determines the split into training and testing\n",
        "train_datagen = ImageDataGenerator(rescale = 1./255,\n",
        "                                   shear_range = 0.2,\n",
        "                                   zoom_range = 0.2,\n",
        "                                   validation_split = 0.2,\n",
        "                                   horizontal_flip = True)"
      ],
      "metadata": {
        "id": "Ja3IoZIwl-TH"
      },
      "execution_count": null,
      "outputs": []
    },
    {
      "cell_type": "code",
      "source": [
        "# Read the training set\n",
        "training_set = train_datagen.flow_from_directory(dir_name,\n",
        "                                                 target_size = (224, 224),\n",
        "                                                 batch_size = 32,\n",
        "                                                 subset='training',\n",
        "                                                 class_mode = 'binary')"
      ],
      "metadata": {
        "id": "40vieEvvmCNh"
      },
      "execution_count": null,
      "outputs": []
    },
    {
      "cell_type": "code",
      "source": [
        "validation_set = train_datagen.flow_from_directory(dir_name,\n",
        "                                                 target_size = (224, 224),\n",
        "                                                 batch_size = 32,\n",
        "                                                 subset='validation',\n",
        "                                                 class_mode = 'binary')"
      ],
      "metadata": {
        "id": "92mtvLcgmG8k"
      },
      "execution_count": null,
      "outputs": []
    },
    {
      "cell_type": "code",
      "source": [
        "print(dir_name)"
      ],
      "metadata": {
        "id": "Q94dzbY5EMw0"
      },
      "execution_count": null,
      "outputs": []
    },
    {
      "cell_type": "code",
      "source": [
        "training_set.class_indices, validation_set.class_indices"
      ],
      "metadata": {
        "id": "goABva5WmKV5"
      },
      "execution_count": null,
      "outputs": []
    },
    {
      "cell_type": "code",
      "source": [
        "from tensorflow.keras.models import Sequential\n",
        "from tensorflow.keras.layers import Conv2D, MaxPool2D,Flatten, Dense"
      ],
      "metadata": {
        "id": "kG7SAYyGmQEl"
      },
      "execution_count": null,
      "outputs": []
    },
    {
      "cell_type": "code",
      "source": [
        "model = Sequential() # Create a blank model"
      ],
      "metadata": {
        "id": "VdLge6JumVZr"
      },
      "execution_count": null,
      "outputs": []
    },
    {
      "cell_type": "code",
      "source": [
        "# Add the first Convolution Layer and Max Pool layer\n",
        "model.add(Conv2D(name='cnv_layer',\n",
        "                 filters=32,\n",
        "                 kernel_size=3,\n",
        "                 activation='relu',\n",
        "                 padding='same',\n",
        "                 input_shape=[224, 224, 3]))"
      ],
      "metadata": {
        "id": "HT3DSBhamX7D"
      },
      "execution_count": null,
      "outputs": []
    },
    {
      "cell_type": "code",
      "source": [
        "model.add(MaxPool2D(pool_size = 2)) # Maxpool Layer"
      ],
      "metadata": {
        "id": "6odHFSd_euil"
      },
      "execution_count": null,
      "outputs": []
    },
    {
      "cell_type": "code",
      "source": [
        "model.add(Flatten(name='flatten')) # Add the flatten layer"
      ],
      "metadata": {
        "id": "R35duMRAmbJS"
      },
      "execution_count": null,
      "outputs": []
    },
    {
      "cell_type": "code",
      "source": [
        "model.add(Dense(units = 64,\n",
        "                name='dense',\n",
        "                activation = 'relu')) #Add the dense layer"
      ],
      "metadata": {
        "id": "zyok1NOSmesz"
      },
      "execution_count": null,
      "outputs": []
    },
    {
      "cell_type": "code",
      "source": [
        "model.add(Dense(name='output',\n",
        "                units=1,\n",
        "                activation = 'sigmoid')) # Final Output layer"
      ],
      "metadata": {
        "id": "9ZH9dW7tmiNk"
      },
      "execution_count": null,
      "outputs": []
    },
    {
      "cell_type": "code",
      "source": [
        "model.summary()"
      ],
      "metadata": {
        "id": "7na5aD8smlQZ"
      },
      "execution_count": null,
      "outputs": []
    },
    {
      "cell_type": "code",
      "source": [
        "(3*3*3+1)*32"
      ],
      "metadata": {
        "id": "gNMZLxOAz3Y2"
      },
      "execution_count": null,
      "outputs": []
    },
    {
      "cell_type": "code",
      "source": [
        "(3*3*3+1)*32, 112*112*32, (401408+1)*64"
      ],
      "metadata": {
        "id": "QykZE6rhf5F7"
      },
      "execution_count": null,
      "outputs": []
    },
    {
      "cell_type": "code",
      "source": [
        "# Compile the model\n",
        "model.compile(optimizer='adam',\n",
        "             loss = 'binary_crossentropy',\n",
        "             metrics = ['accuracy'])"
      ],
      "metadata": {
        "id": "EZd9EjpHmoOg"
      },
      "execution_count": null,
      "outputs": []
    },
    {
      "cell_type": "code",
      "source": [
        "model.fit(training_set,\n",
        "          validation_data = validation_set,\n",
        "          epochs=3) # Train the model for 3 epochs"
      ],
      "metadata": {
        "id": "dA6JokS2oGv4"
      },
      "execution_count": null,
      "outputs": []
    },
    {
      "cell_type": "markdown",
      "source": [
        "# Transfer Learning"
      ],
      "metadata": {
        "id": "6eClYeA5oOl8"
      }
    },
    {
      "cell_type": "code",
      "source": [
        "from tensorflow.keras.applications import MobileNetV2"
      ],
      "metadata": {
        "id": "9npuk-sSoC1v"
      },
      "execution_count": null,
      "outputs": []
    },
    {
      "cell_type": "code",
      "source": [
        "mobile_net = MobileNetV2(input_shape=(224, 224, 3), include_top=False)\n",
        "mobile_net.trainable = False"
      ],
      "metadata": {
        "id": "JClNNitXnBG_"
      },
      "execution_count": null,
      "outputs": []
    },
    {
      "cell_type": "code",
      "source": [
        "trf_model = Sequential()"
      ],
      "metadata": {
        "id": "cJv0Jnhgofs1"
      },
      "execution_count": null,
      "outputs": []
    },
    {
      "cell_type": "code",
      "source": [
        "trf_model.add(mobile_net)"
      ],
      "metadata": {
        "id": "HtnVZIPLof36"
      },
      "execution_count": null,
      "outputs": []
    },
    {
      "cell_type": "code",
      "source": [
        "trf_model.add(Flatten())\n",
        "trf_model.add(Dense(256, activation = 'relu'))"
      ],
      "metadata": {
        "id": "NXV4rukcolqM"
      },
      "execution_count": null,
      "outputs": []
    },
    {
      "cell_type": "code",
      "source": [
        "trf_model.add(Dense(1, activation = 'sigmoid'))"
      ],
      "metadata": {
        "id": "MSjdCAL2owVt"
      },
      "execution_count": null,
      "outputs": []
    },
    {
      "cell_type": "code",
      "source": [
        "trf_model.summary()"
      ],
      "metadata": {
        "id": "bR4gDpJFoxzx"
      },
      "execution_count": null,
      "outputs": []
    },
    {
      "cell_type": "code",
      "source": [
        "# Compile the model\n",
        "trf_model.compile(optimizer='adam',\n",
        "             loss = 'binary_crossentropy',\n",
        "             metrics = ['accuracy'])"
      ],
      "metadata": {
        "id": "0MZFocfQox5C"
      },
      "execution_count": null,
      "outputs": []
    },
    {
      "cell_type": "code",
      "source": [
        "trf_model.fit(training_set,\n",
        "              validation_data = validation_set,\n",
        "              epochs = 3)"
      ],
      "metadata": {
        "id": "vdiIy09Mo7eG"
      },
      "execution_count": null,
      "outputs": []
    },
    {
      "cell_type": "code",
      "source": [],
      "metadata": {
        "id": "xkIjuTLQruLA"
      },
      "execution_count": null,
      "outputs": []
    }
  ]
}