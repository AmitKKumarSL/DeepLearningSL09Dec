{
  "cells": [
    {
      "cell_type": "markdown",
      "id": "0c874c17-9e6b-4ee0-85da-6f3f70873f47",
      "metadata": {
        "id": "0c874c17-9e6b-4ee0-85da-6f3f70873f47"
      },
      "source": [
        "# Sentiment Analyzer"
      ]
    },
    {
      "cell_type": "code",
      "execution_count": 1,
      "id": "129373f4-28d8-4a4c-bdd0-23ebaca23ee4",
      "metadata": {
        "id": "129373f4-28d8-4a4c-bdd0-23ebaca23ee4"
      },
      "outputs": [],
      "source": [
        "import pandas as pd\n",
        "import numpy as np"
      ]
    },
    {
      "cell_type": "code",
      "execution_count": 2,
      "id": "7c3bebda-d8d1-4e50-9035-c7660d707641",
      "metadata": {
        "id": "7c3bebda-d8d1-4e50-9035-c7660d707641"
      },
      "outputs": [],
      "source": [
        "import tensorflow as tf"
      ]
    },
    {
      "cell_type": "code",
      "execution_count": 3,
      "id": "684c5651-f988-4c32-b25c-803f9aa3ce6e",
      "metadata": {
        "id": "684c5651-f988-4c32-b25c-803f9aa3ce6e"
      },
      "outputs": [],
      "source": [
        "import tensorflow_datasets as tfds"
      ]
    },
    {
      "cell_type": "code",
      "execution_count": 4,
      "id": "4c792f55-b89c-4eee-9595-3227c2be1bfd",
      "metadata": {
        "colab": {
          "base_uri": "https://localhost:8080/",
          "height": 137,
          "referenced_widgets": [
            "f843c2e054294c3093182c88667d9038",
            "7ae21bf72e4c4c6a95a398b813ac64bd",
            "14b9e7a99a6541928ebafff57b14ec57",
            "bb3222f76d894956b209b0479ce6ca6f",
            "0bd4bb3cf5a0401bbebe0a80368d9dc2",
            "4f3f4aaa14d844bfb6cb806ee4debbbe",
            "c092ba97cd9c41a6903283d0505abcbe",
            "74e0e483b7274ff7b34db07dc0f266b1",
            "a05649adf3e348018455181b508f16c6",
            "fbdb4e92d2bb458dac38ea5f8670347b",
            "676de1aaee8644c2933118163681dfa5",
            "2e89fc8b9e31429d8f2af1a43fec75e1",
            "05b144a5eb464ea595245088ab801f94",
            "c92621e0eb914a1b9b79beade1084c27",
            "3b769b5daa2243cb80c53a126565889e",
            "f713a718c7f1468c94a1becb7eaa96e7",
            "3c1948f8d7ca4ccf880044f2ee52607f",
            "bdd2591c57b14375909d4d8e6f69d69b",
            "808eef1b506f4331910aebfde513efb0",
            "f1612556fa0448f2a61343ec4fe66073",
            "b846188c17d24140aec498df88fec0c9",
            "25ffa7fdfbb74ead984df0fb9e5bf9fe",
            "5c2c6e38909a4e739fead2dbcb2e7675",
            "cf456d282cf94695b94dfdb781666896",
            "9735d76338264c18add7018bec400d30",
            "f9d46dacdcf348bd8e783ceae84e4d52",
            "0c914d33b26643c3b3bf909f18e70823",
            "e8b5d46c1aea4706953f465ebafca0d0",
            "3b6a7dd54e8b4c9e8bca3d582a75063e",
            "c4cfaad8d1104a3bbc39f1930d5552f0",
            "467110f5298f45368efc3639067364ec",
            "49e6de765313402eb96f61045c852b74",
            "b951c435efc74632a69a0992dab0969e",
            "17eadc720e5d48a6afc5951b075bcfec",
            "e0e28c80dfa0463b9418b29c1100f43a",
            "42767ccd81e44ce3bdc86af073109f72",
            "855c3b68c8f9421f9f10fba3d7968f44",
            "176edf498b1848e0922e1280df2e327f",
            "4c30d5f0452444dcb571ce6a9d7ef334",
            "b088a5fc85074c2f9bea8c6f107dc9fb",
            "10cf1bbd4f0448cd8da4d67a2da650ec",
            "52eac574c0bb434b92f55af5b23e3b01",
            "9f1a251f71434681a336f304f2217c4c",
            "12793cdb03d14d32a4752b559b70a2ad",
            "fe0d526334604481aee2d5996450f09a",
            "b2d76e999aaf4301a1b7495cd26998f4",
            "9fa3ded6582c433493625c51445a98c4",
            "4486cbf23338413fb347915e9ad8ef85",
            "59451fc8d89b4ddd84773499263b957a",
            "b98bc6eb115842c9bf61e67371658809",
            "c8d8b06d58804055b145d1916c218c03",
            "3b9dde0579804134ae98563c8bd467c9",
            "ead44dcad8aa4ab1a2ad99e3ea9d2d40",
            "c5f466c3328c4de18b263a4078a1436e",
            "1be1a154cca644eca0a0afd36add863c",
            "90c29558a5a84e0681df5e46cf06fe50",
            "1005e4fe943b4d07bd4ab8e47e448f1d",
            "391d51d0044f4b11a3db65f84504bd70",
            "450732befba244b5a474988d950e373c",
            "917d71a92513405eb98e129b30020b1a",
            "a4138e4b256d45098cce80c18bb653a2",
            "d33b6db0e9c44ac986ff9e78f2afbee1",
            "e2c73193203f490789e7ea0151467f7c",
            "11ff436047044d9daa6789a92b57a038",
            "247b46402637440492d25989c04fa759",
            "e7ab8f633e0040efa290167d1be500b0",
            "58d5df92a9a2415cbdd3921f711ae1da",
            "2de1bb4d67e34c00ac3aa68428a8cb59",
            "8431fc8f06b944bda1d5f3061aee37c4",
            "40ae2b345e6c4e05a4ed0225fe3f8f53",
            "b2ab5fc37a224de4aec06c1c4b2635ad",
            "dc8b9db4189e4d9495dedc7b69fca7c5",
            "8c2ada537dac4be1be71240e5158e064",
            "d6323e3ae59d4fd3a2bf81d05ee6bab4",
            "d1c958a7f2aa4baf9b524b154bc1c211",
            "5f922801d3a94fcabb45dee1aa12dcd3",
            "afaac07644bd4ad2b27fef46e6b34ac7",
            "d3e4cd29a9c14859b35b9a6484871cbf",
            "f0b2d8fa0ce141af9d5bb587c558598e",
            "6347ecf7c2714f2080c83942921293dc",
            "cf8b829c70bb44798d7996f31a36fde1",
            "032193ac83e64020ab155ba2451be961",
            "ab6f5a85005c4a7a80d80e6d081e91bd",
            "fe5e42d3169048c38bd34034d3689926",
            "4c15515d882c46b19ffb2fca5d0d9eb9",
            "558faa50c988476681ac6787a7260409",
            "960537001c0a4684a52fa1aa43ec12db",
            "e2f448f33ced425f8d282fbc4cd06b86",
            "8bc6f30ba81948a79f15a2118efbcd23",
            "d2e26ae8c8044a58b07ce23ff54200cb",
            "4646037e3f494e9eb40adf5ef8088ab8",
            "bb9c3788e4264b4eb1d370ec1dcdea35",
            "cd66ea059e164b289ab20ac7f24a75e3",
            "71a16e63411a4d75b7a3c30d66f51430",
            "b2ed580e63f3499dbab64293afaa43aa",
            "01809d12ef9a4cc59d0790bbdf0d51c5",
            "02cf77d497ff46a59402002291878fb0",
            "58284476521f403481a9a40a72b4efa6",
            "e52a3be9665c487c9e9e2bc116196822"
          ]
        },
        "id": "4c792f55-b89c-4eee-9595-3227c2be1bfd",
        "outputId": "c257c831-df0f-47fe-b6e8-ca3370c9c4ef"
      },
      "outputs": [
        {
          "output_type": "stream",
          "name": "stdout",
          "text": [
            "Downloading and preparing dataset 80.23 MiB (download: 80.23 MiB, generated: Unknown size, total: 80.23 MiB) to /root/tensorflow_datasets/imdb_reviews/plain_text/1.0.0...\n"
          ]
        },
        {
          "output_type": "display_data",
          "data": {
            "text/plain": [
              "Dl Completed...: 0 url [00:00, ? url/s]"
            ],
            "application/vnd.jupyter.widget-view+json": {
              "version_major": 2,
              "version_minor": 0,
              "model_id": "f843c2e054294c3093182c88667d9038"
            }
          },
          "metadata": {}
        },
        {
          "output_type": "display_data",
          "data": {
            "text/plain": [
              "Dl Size...: 0 MiB [00:00, ? MiB/s]"
            ],
            "application/vnd.jupyter.widget-view+json": {
              "version_major": 2,
              "version_minor": 0,
              "model_id": "2e89fc8b9e31429d8f2af1a43fec75e1"
            }
          },
          "metadata": {}
        },
        {
          "output_type": "display_data",
          "data": {
            "text/plain": [
              "Generating splits...:   0%|          | 0/3 [00:00<?, ? splits/s]"
            ],
            "application/vnd.jupyter.widget-view+json": {
              "version_major": 2,
              "version_minor": 0,
              "model_id": "5c2c6e38909a4e739fead2dbcb2e7675"
            }
          },
          "metadata": {}
        },
        {
          "output_type": "display_data",
          "data": {
            "text/plain": [
              "Generating train examples...:   0%|          | 0/25000 [00:00<?, ? examples/s]"
            ],
            "application/vnd.jupyter.widget-view+json": {
              "version_major": 2,
              "version_minor": 0,
              "model_id": "17eadc720e5d48a6afc5951b075bcfec"
            }
          },
          "metadata": {}
        },
        {
          "output_type": "display_data",
          "data": {
            "text/plain": [
              "Shuffling /root/tensorflow_datasets/imdb_reviews/plain_text/1.0.0.incompleteTEJ9EG/imdb_reviews-train.tfrecord…"
            ],
            "application/vnd.jupyter.widget-view+json": {
              "version_major": 2,
              "version_minor": 0,
              "model_id": "fe0d526334604481aee2d5996450f09a"
            }
          },
          "metadata": {}
        },
        {
          "output_type": "display_data",
          "data": {
            "text/plain": [
              "Generating test examples...:   0%|          | 0/25000 [00:00<?, ? examples/s]"
            ],
            "application/vnd.jupyter.widget-view+json": {
              "version_major": 2,
              "version_minor": 0,
              "model_id": "90c29558a5a84e0681df5e46cf06fe50"
            }
          },
          "metadata": {}
        },
        {
          "output_type": "display_data",
          "data": {
            "text/plain": [
              "Shuffling /root/tensorflow_datasets/imdb_reviews/plain_text/1.0.0.incompleteTEJ9EG/imdb_reviews-test.tfrecord*…"
            ],
            "application/vnd.jupyter.widget-view+json": {
              "version_major": 2,
              "version_minor": 0,
              "model_id": "58d5df92a9a2415cbdd3921f711ae1da"
            }
          },
          "metadata": {}
        },
        {
          "output_type": "display_data",
          "data": {
            "text/plain": [
              "Generating unsupervised examples...:   0%|          | 0/50000 [00:00<?, ? examples/s]"
            ],
            "application/vnd.jupyter.widget-view+json": {
              "version_major": 2,
              "version_minor": 0,
              "model_id": "d3e4cd29a9c14859b35b9a6484871cbf"
            }
          },
          "metadata": {}
        },
        {
          "output_type": "display_data",
          "data": {
            "text/plain": [
              "Shuffling /root/tensorflow_datasets/imdb_reviews/plain_text/1.0.0.incompleteTEJ9EG/imdb_reviews-unsupervised.t…"
            ],
            "application/vnd.jupyter.widget-view+json": {
              "version_major": 2,
              "version_minor": 0,
              "model_id": "8bc6f30ba81948a79f15a2118efbcd23"
            }
          },
          "metadata": {}
        },
        {
          "output_type": "stream",
          "name": "stdout",
          "text": [
            "Dataset imdb_reviews downloaded and prepared to /root/tensorflow_datasets/imdb_reviews/plain_text/1.0.0. Subsequent calls will reuse this data.\n"
          ]
        }
      ],
      "source": [
        "imdb, info = tfds.load('imdb_reviews', with_info=True, as_supervised=True)"
      ]
    },
    {
      "cell_type": "code",
      "source": [
        "#info"
      ],
      "metadata": {
        "id": "WplJlyG9xy3A"
      },
      "id": "WplJlyG9xy3A",
      "execution_count": 7,
      "outputs": []
    },
    {
      "cell_type": "code",
      "execution_count": 8,
      "id": "9e02b233-d1ca-4328-b403-ee98106f89c9",
      "metadata": {
        "id": "9e02b233-d1ca-4328-b403-ee98106f89c9"
      },
      "outputs": [],
      "source": [
        "train, test = imdb['train'], imdb['test']"
      ]
    },
    {
      "cell_type": "code",
      "execution_count": 9,
      "id": "4abfe281-78e6-4899-8905-2fe15e55d838",
      "metadata": {
        "colab": {
          "base_uri": "https://localhost:8080/"
        },
        "id": "4abfe281-78e6-4899-8905-2fe15e55d838",
        "outputId": "e8fb4edd-05c3-4160-f337-d55126e58aa5"
      },
      "outputs": [
        {
          "output_type": "execute_result",
          "data": {
            "text/plain": [
              "tensorflow.python.data.ops.prefetch_op._PrefetchDataset"
            ]
          },
          "metadata": {},
          "execution_count": 9
        }
      ],
      "source": [
        "type(train)"
      ]
    },
    {
      "cell_type": "code",
      "execution_count": 13,
      "id": "f76b551f-aaf9-4d54-a950-4ba7bf278865",
      "metadata": {
        "id": "f76b551f-aaf9-4d54-a950-4ba7bf278865"
      },
      "outputs": [],
      "source": [
        "train_sent = []\n",
        "test_sent = []\n",
        "y_train = []\n",
        "y_test = []"
      ]
    },
    {
      "cell_type": "code",
      "execution_count": 14,
      "id": "e9296963-e0c1-4be2-bf4c-9543a0515d66",
      "metadata": {
        "id": "e9296963-e0c1-4be2-bf4c-9543a0515d66"
      },
      "outputs": [],
      "source": [
        "for sent, labels in train:\n",
        "    train_sent.append(sent.numpy().decode('utf8'))\n",
        "    y_train.append(labels)"
      ]
    },
    {
      "cell_type": "code",
      "execution_count": 15,
      "id": "65373df2-69dc-4ad8-9784-ef4bca3414d0",
      "metadata": {
        "id": "65373df2-69dc-4ad8-9784-ef4bca3414d0"
      },
      "outputs": [],
      "source": [
        "for sent, labels in test:\n",
        "    test_sent.append(sent.numpy().decode('utf8'))\n",
        "    y_test.append(labels)"
      ]
    },
    {
      "cell_type": "code",
      "execution_count": 16,
      "id": "2e10bb0b-6637-4f3c-a506-c39c2bf9bc7f",
      "metadata": {
        "colab": {
          "base_uri": "https://localhost:8080/"
        },
        "id": "2e10bb0b-6637-4f3c-a506-c39c2bf9bc7f",
        "outputId": "4d1a0d7b-a64d-4a21-9a06-f7354b8b4d98"
      },
      "outputs": [
        {
          "output_type": "execute_result",
          "data": {
            "text/plain": [
              "(25000, 25000, 25000, 25000)"
            ]
          },
          "metadata": {},
          "execution_count": 16
        }
      ],
      "source": [
        "len(train_sent), len(test_sent), len(y_train), len(y_test)"
      ]
    },
    {
      "cell_type": "code",
      "execution_count": 17,
      "id": "f6b564e1-5461-4cfa-9541-d322bf7372a9",
      "metadata": {
        "id": "f6b564e1-5461-4cfa-9541-d322bf7372a9"
      },
      "outputs": [],
      "source": [
        "y_train = np.array(y_train)\n",
        "y_test = np.array(y_test)"
      ]
    },
    {
      "cell_type": "code",
      "execution_count": 18,
      "id": "35997481-d7fd-4791-a3c2-3fa1b58b6775",
      "metadata": {
        "colab": {
          "base_uri": "https://localhost:8080/"
        },
        "id": "35997481-d7fd-4791-a3c2-3fa1b58b6775",
        "outputId": "1f693117-8863-4237-8389-0cc5fdf58806"
      },
      "outputs": [
        {
          "output_type": "execute_result",
          "data": {
            "text/plain": [
              "(25000, 25000, 25000, 25000)"
            ]
          },
          "metadata": {},
          "execution_count": 18
        }
      ],
      "source": [
        "len(train_sent), len(test_sent), len(y_train), len(y_test)"
      ]
    },
    {
      "cell_type": "code",
      "execution_count": 21,
      "id": "a0c1e351-2bab-4d8f-aff1-50b886c53d73",
      "metadata": {
        "colab": {
          "base_uri": "https://localhost:8080/",
          "height": 89
        },
        "id": "a0c1e351-2bab-4d8f-aff1-50b886c53d73",
        "outputId": "3f0af7a5-3db3-45a8-e6a1-dc53b1685853"
      },
      "outputs": [
        {
          "output_type": "execute_result",
          "data": {
            "text/plain": [
              "'This is the kind of film for a snowy Sunday afternoon when the rest of the world can go ahead with its own business as you descend into a big arm-chair and mellow for a couple of hours. Wonderful performances from Cher and Nicolas Cage (as always) gently row the plot along. There are no rapids to cross, no dangerous waters, just a warm and witty paddle through New York life at its best. A family film in every sense and one that deserves the praise it received.'"
            ],
            "application/vnd.google.colaboratory.intrinsic+json": {
              "type": "string"
            }
          },
          "metadata": {},
          "execution_count": 21
        }
      ],
      "source": [
        "train_sent[3]"
      ]
    },
    {
      "cell_type": "code",
      "execution_count": 22,
      "id": "59e73ab8-da64-4197-abae-bda9f4285635",
      "metadata": {
        "colab": {
          "base_uri": "https://localhost:8080/"
        },
        "id": "59e73ab8-da64-4197-abae-bda9f4285635",
        "outputId": "1450f47d-f6ae-48e0-aed4-2e8c1e1e9639"
      },
      "outputs": [
        {
          "output_type": "execute_result",
          "data": {
            "text/plain": [
              "1"
            ]
          },
          "metadata": {},
          "execution_count": 22
        }
      ],
      "source": [
        "y_train[3]"
      ]
    },
    {
      "cell_type": "code",
      "execution_count": 23,
      "id": "4f36075f-c263-4179-b2b3-01a660a47c58",
      "metadata": {
        "colab": {
          "base_uri": "https://localhost:8080/"
        },
        "id": "4f36075f-c263-4179-b2b3-01a660a47c58",
        "outputId": "c45fae8c-476b-4bcc-aa6e-adc006f1cf94"
      },
      "outputs": [
        {
          "output_type": "execute_result",
          "data": {
            "text/plain": [
              "array([0, 1])"
            ]
          },
          "metadata": {},
          "execution_count": 23
        }
      ],
      "source": [
        "np.unique(y_train)"
      ]
    },
    {
      "cell_type": "code",
      "execution_count": 24,
      "id": "dIQp1iVkVA0w",
      "metadata": {
        "id": "dIQp1iVkVA0w"
      },
      "outputs": [],
      "source": [
        "np.random.seed(12345)\n",
        "tf.random.set_seed(12345)"
      ]
    },
    {
      "cell_type": "code",
      "execution_count": 25,
      "id": "674b5304-da20-4540-a532-7f44975c1b10",
      "metadata": {
        "id": "674b5304-da20-4540-a532-7f44975c1b10"
      },
      "outputs": [],
      "source": [
        "# to encode text to int\n",
        "from tensorflow.keras.preprocessing.text import Tokenizer\n",
        "from tensorflow.keras.preprocessing.sequence import pad_sequences"
      ]
    },
    {
      "cell_type": "code",
      "execution_count": 26,
      "id": "4f15a4c2-13b7-45fc-83af-c00b4cb92655",
      "metadata": {
        "id": "4f15a4c2-13b7-45fc-83af-c00b4cb92655"
      },
      "outputs": [],
      "source": [
        "VOCAB = 1000 # Limit the vocabulary to 1000 words\n",
        "EMBED_DIM = 32 # n-dimension for embedding layer\n",
        "MAXLEN = 100 # Maximum length of Sentence"
      ]
    },
    {
      "cell_type": "code",
      "execution_count": 27,
      "id": "f7aa3482-bbd2-4b11-8895-a923ea8479a0",
      "metadata": {
        "id": "f7aa3482-bbd2-4b11-8895-a923ea8479a0"
      },
      "outputs": [],
      "source": [
        "token = Tokenizer(lower=True,\n",
        "                  num_words=VOCAB,\n",
        "                  oov_token=\"<UKW>\")"
      ]
    },
    {
      "cell_type": "code",
      "execution_count": 28,
      "id": "59058441-29dd-4b68-b3f0-25afe0357d76",
      "metadata": {
        "id": "59058441-29dd-4b68-b3f0-25afe0357d76"
      },
      "outputs": [],
      "source": [
        "token.fit_on_texts(train_sent)"
      ]
    },
    {
      "cell_type": "code",
      "execution_count": null,
      "id": "9d5a4f8a-c922-438c-a823-d317a5afe499",
      "metadata": {
        "id": "9d5a4f8a-c922-438c-a823-d317a5afe499"
      },
      "outputs": [],
      "source": [
        "#token.word_index"
      ]
    },
    {
      "cell_type": "code",
      "execution_count": 29,
      "id": "4daf3052-56e4-4dd0-b330-ef04e0b7c92c",
      "metadata": {
        "id": "4daf3052-56e4-4dd0-b330-ef04e0b7c92c"
      },
      "outputs": [],
      "source": [
        "train_sent_s = token.texts_to_sequences(train_sent)\n",
        "test_sent_s = token.texts_to_sequences(test_sent)"
      ]
    },
    {
      "cell_type": "code",
      "execution_count": 30,
      "id": "d77ae73e-2805-4d6a-90d0-13d0ef1138fa",
      "metadata": {
        "id": "d77ae73e-2805-4d6a-90d0-13d0ef1138fa"
      },
      "outputs": [],
      "source": [
        "train_sent_s = pad_sequences(train_sent_s,\n",
        "                             maxlen=MAXLEN,\n",
        "                             padding='post',\n",
        "                             truncating='post')"
      ]
    },
    {
      "cell_type": "code",
      "execution_count": 31,
      "id": "e7382421-b006-4fd3-8255-4f0447a7d55f",
      "metadata": {
        "id": "e7382421-b006-4fd3-8255-4f0447a7d55f"
      },
      "outputs": [],
      "source": [
        "test_sent_s = pad_sequences(test_sent_s,\n",
        "                            maxlen=MAXLEN,\n",
        "                            padding='post',\n",
        "                            truncating='post')"
      ]
    },
    {
      "cell_type": "code",
      "execution_count": 32,
      "id": "a77b562b-80ab-4623-9b8b-9840fbd9d4c0",
      "metadata": {
        "colab": {
          "base_uri": "https://localhost:8080/",
          "height": 89
        },
        "id": "a77b562b-80ab-4623-9b8b-9840fbd9d4c0",
        "outputId": "bed712d0-3647-4d50-bfca-b614cba463c3"
      },
      "outputs": [
        {
          "output_type": "execute_result",
          "data": {
            "text/plain": [
              "'This is the kind of film for a snowy Sunday afternoon when the rest of the world can go ahead with its own business as you descend into a big arm-chair and mellow for a couple of hours. Wonderful performances from Cher and Nicolas Cage (as always) gently row the plot along. There are no rapids to cross, no dangerous waters, just a warm and witty paddle through New York life at its best. A family film in every sense and one that deserves the praise it received.'"
            ],
            "application/vnd.google.colaboratory.intrinsic+json": {
              "type": "string"
            }
          },
          "metadata": {},
          "execution_count": 32
        }
      ],
      "source": [
        "train_sent[3]"
      ]
    },
    {
      "cell_type": "code",
      "execution_count": 33,
      "id": "92c3ee42-d798-42db-a09b-635a53f5272c",
      "metadata": {
        "colab": {
          "base_uri": "https://localhost:8080/"
        },
        "id": "92c3ee42-d798-42db-a09b-635a53f5272c",
        "outputId": "2dfb969e-3311-432a-c7aa-35410c305c0f"
      },
      "outputs": [
        {
          "output_type": "execute_result",
          "data": {
            "text/plain": [
              "array([ 12,   7,   2, 241,   5,  20,  16,   4,   1,   1,   1,  52,   2,\n",
              "       358,   5,   2, 180,  68, 138,   1,  17,  92, 203, 968,  15,  23,\n",
              "         1,  81,   4, 192,   1,   1,   3,   1,  16,   4, 376,   5, 632,\n",
              "       387, 352,  37,   1,   3,   1,   1,  15, 208,   1,   1,   2, 112,\n",
              "       365,  48,  24,  55,   1,   6,   1,  55,   1,   1,  41,   4,   1,\n",
              "         3,   1,   1, 141, 160, 780, 111,  31,  92, 116,   4, 221,  20,\n",
              "         9, 173, 279,   3,  29,  13,   1,   2,   1,  10,   1,   0,   0,\n",
              "         0,   0,   0,   0,   0,   0,   0,   0,   0], dtype=int32)"
            ]
          },
          "metadata": {},
          "execution_count": 33
        }
      ],
      "source": [
        "train_sent_s[3]"
      ]
    },
    {
      "cell_type": "code",
      "execution_count": 34,
      "id": "Ro87Hs9rZuYD",
      "metadata": {
        "cellView": "form",
        "colab": {
          "base_uri": "https://localhost:8080/"
        },
        "id": "Ro87Hs9rZuYD",
        "outputId": "1aa32e1c-942e-4bdf-94c1-fd6bd9ba7d6b"
      },
      "outputs": [
        {
          "output_type": "execute_result",
          "data": {
            "text/plain": [
              "(25000, 25000, 25000, 25000)"
            ]
          },
          "metadata": {},
          "execution_count": 34
        }
      ],
      "source": [
        "len(train_sent), len(test_sent), len(y_train), len(y_test)"
      ]
    },
    {
      "cell_type": "markdown",
      "id": "YL_WMQ1HjYDT",
      "metadata": {
        "id": "YL_WMQ1HjYDT"
      },
      "source": [
        "# Embeddings"
      ]
    },
    {
      "cell_type": "code",
      "execution_count": 35,
      "id": "APpRHDoGjPn5",
      "metadata": {
        "id": "APpRHDoGjPn5"
      },
      "outputs": [],
      "source": [
        "from tensorflow.keras.models import Sequential\n",
        "from tensorflow.keras.layers import Embedding, Dense, GlobalAveragePooling1D"
      ]
    },
    {
      "cell_type": "code",
      "execution_count": 36,
      "id": "DGR73onAjaMf",
      "metadata": {
        "id": "DGR73onAjaMf"
      },
      "outputs": [],
      "source": [
        "emb_model = Sequential()"
      ]
    },
    {
      "cell_type": "code",
      "execution_count": 37,
      "id": "EP8NOWYdjf3O",
      "metadata": {
        "id": "EP8NOWYdjf3O"
      },
      "outputs": [],
      "source": [
        "emb_model.add(Embedding(VOCAB,\n",
        "                        EMBED_DIM,\n",
        "                        input_length = MAXLEN)) # Embedding layer"
      ]
    },
    {
      "cell_type": "code",
      "execution_count": 38,
      "id": "_CfdcssmjhRW",
      "metadata": {
        "id": "_CfdcssmjhRW"
      },
      "outputs": [],
      "source": [
        "emb_model.add(GlobalAveragePooling1D()) # Average Pooling layer"
      ]
    },
    {
      "cell_type": "code",
      "execution_count": 39,
      "id": "yBCSmd3SjkfA",
      "metadata": {
        "id": "yBCSmd3SjkfA"
      },
      "outputs": [],
      "source": [
        "emb_model.add(Dense(128, activation = 'relu')) # Dense layer - intermediate FC layer"
      ]
    },
    {
      "cell_type": "code",
      "execution_count": 40,
      "id": "Q7UdUkUBjpF_",
      "metadata": {
        "id": "Q7UdUkUBjpF_"
      },
      "outputs": [],
      "source": [
        "emb_model.add(Dense(1, activation='sigmoid')) # Output layer"
      ]
    },
    {
      "cell_type": "code",
      "execution_count": 41,
      "id": "31c32623-9931-44e2-804e-87376406e069",
      "metadata": {
        "colab": {
          "base_uri": "https://localhost:8080/"
        },
        "id": "31c32623-9931-44e2-804e-87376406e069",
        "outputId": "61038f6e-dba3-442d-90b2-986dec036f61"
      },
      "outputs": [
        {
          "output_type": "stream",
          "name": "stdout",
          "text": [
            "Model: \"sequential\"\n",
            "_________________________________________________________________\n",
            " Layer (type)                Output Shape              Param #   \n",
            "=================================================================\n",
            " embedding (Embedding)       (None, 100, 32)           32000     \n",
            "                                                                 \n",
            " global_average_pooling1d (  (None, 32)                0         \n",
            " GlobalAveragePooling1D)                                         \n",
            "                                                                 \n",
            " dense (Dense)               (None, 128)               4224      \n",
            "                                                                 \n",
            " dense_1 (Dense)             (None, 1)                 129       \n",
            "                                                                 \n",
            "=================================================================\n",
            "Total params: 36353 (142.00 KB)\n",
            "Trainable params: 36353 (142.00 KB)\n",
            "Non-trainable params: 0 (0.00 Byte)\n",
            "_________________________________________________________________\n"
          ]
        }
      ],
      "source": [
        "emb_model.summary()"
      ]
    },
    {
      "cell_type": "code",
      "execution_count": null,
      "id": "ad881918-13a0-4db4-89e6-a752129b111c",
      "metadata": {
        "id": "ad881918-13a0-4db4-89e6-a752129b111c"
      },
      "outputs": [],
      "source": [
        "(32+1)*128"
      ]
    },
    {
      "cell_type": "code",
      "execution_count": 42,
      "id": "O0iUGTAijkkr",
      "metadata": {
        "id": "O0iUGTAijkkr"
      },
      "outputs": [],
      "source": [
        "emb_model.compile(optimizer = 'adam',\n",
        "                  loss = 'binary_crossentropy',\n",
        "                  metrics = ['accuracy'])"
      ]
    },
    {
      "cell_type": "code",
      "execution_count": null,
      "id": "eea527e2-29f8-43f6-abf0-a843a5c9eef1",
      "metadata": {
        "id": "eea527e2-29f8-43f6-abf0-a843a5c9eef1"
      },
      "outputs": [],
      "source": [
        "# Number of words = 1000\n",
        "# Each word is represented by 32 numbers/features\n",
        "# Total number of representations that need to be learnt by the model = 32*1000 = 32000 -> Number of parameters for the Embedding layer"
      ]
    },
    {
      "cell_type": "code",
      "execution_count": null,
      "id": "482c7f2d-0b49-4b73-b676-45e9168f7cb4",
      "metadata": {
        "id": "482c7f2d-0b49-4b73-b676-45e9168f7cb4"
      },
      "outputs": [],
      "source": [
        "# word1 = [10, 2]\n",
        "# word2 = [3,3]\n",
        "# word3 = [4,7]\n",
        "# sent1 = word1 word2 word3\n",
        "# [3,2]\n",
        "# Global Average Pooling - > [(10+3+4)/3, [(2+3+7)/3]"
      ]
    },
    {
      "cell_type": "code",
      "execution_count": null,
      "id": "f5870989-e71d-4a75-8918-8948142c68b2",
      "metadata": {
        "id": "f5870989-e71d-4a75-8918-8948142c68b2"
      },
      "outputs": [],
      "source": [
        "(32+1)*128 # Remember the bias"
      ]
    },
    {
      "cell_type": "code",
      "execution_count": null,
      "id": "92508ea2-2bb9-4ff2-8970-a9acb1836b1a",
      "metadata": {
        "id": "92508ea2-2bb9-4ff2-8970-a9acb1836b1a"
      },
      "outputs": [],
      "source": [
        "len(y_test)"
      ]
    },
    {
      "cell_type": "code",
      "execution_count": 43,
      "id": "a1Hu5hiJjzZx",
      "metadata": {
        "colab": {
          "base_uri": "https://localhost:8080/"
        },
        "id": "a1Hu5hiJjzZx",
        "outputId": "9e629e45-c8fe-4889-bc19-34b498395e4c"
      },
      "outputs": [
        {
          "output_type": "stream",
          "name": "stdout",
          "text": [
            "Epoch 1/10\n",
            "782/782 [==============================] - 4s 4ms/step - loss: 0.5130 - accuracy: 0.7384 - val_loss: 0.4328 - val_accuracy: 0.7952\n",
            "Epoch 2/10\n",
            "782/782 [==============================] - 2s 3ms/step - loss: 0.4217 - accuracy: 0.8028 - val_loss: 0.4292 - val_accuracy: 0.8001\n",
            "Epoch 3/10\n",
            "782/782 [==============================] - 3s 3ms/step - loss: 0.4151 - accuracy: 0.8080 - val_loss: 0.4379 - val_accuracy: 0.7909\n",
            "Epoch 4/10\n",
            "782/782 [==============================] - 2s 3ms/step - loss: 0.4125 - accuracy: 0.8103 - val_loss: 0.4303 - val_accuracy: 0.7980\n",
            "Epoch 5/10\n",
            "782/782 [==============================] - 2s 3ms/step - loss: 0.4110 - accuracy: 0.8128 - val_loss: 0.4367 - val_accuracy: 0.7964\n",
            "Epoch 6/10\n",
            "782/782 [==============================] - 3s 4ms/step - loss: 0.4097 - accuracy: 0.8114 - val_loss: 0.4302 - val_accuracy: 0.7988\n",
            "Epoch 7/10\n",
            "782/782 [==============================] - 3s 3ms/step - loss: 0.4088 - accuracy: 0.8108 - val_loss: 0.4306 - val_accuracy: 0.7965\n",
            "Epoch 8/10\n",
            "782/782 [==============================] - 3s 3ms/step - loss: 0.4075 - accuracy: 0.8110 - val_loss: 0.4307 - val_accuracy: 0.7974\n",
            "Epoch 9/10\n",
            "782/782 [==============================] - 3s 3ms/step - loss: 0.4064 - accuracy: 0.8131 - val_loss: 0.4286 - val_accuracy: 0.7985\n",
            "Epoch 10/10\n",
            "782/782 [==============================] - 3s 3ms/step - loss: 0.4053 - accuracy: 0.8109 - val_loss: 0.4288 - val_accuracy: 0.7972\n"
          ]
        }
      ],
      "source": [
        "result = emb_model.fit(train_sent_s,\n",
        "                       y_train,\n",
        "                       validation_data=(test_sent_s,y_test),\n",
        "                       epochs = 10)"
      ]
    },
    {
      "cell_type": "code",
      "execution_count": 56,
      "id": "5zQy2-jIrVNp",
      "metadata": {
        "id": "5zQy2-jIrVNp"
      },
      "outputs": [],
      "source": [
        "new_reviews = [\"I bought this for my husband who plays the piano.  He is having a wonderful time playing these old hymns.  The music  is at times hard to read because we think the book was published for singing from more than playing from.  Great purchase though!\"]"
      ]
    },
    {
      "cell_type": "code",
      "execution_count": 57,
      "id": "2ee2b368-2f9e-4679-97a7-2c8cc7ee4c9d",
      "metadata": {
        "id": "2ee2b368-2f9e-4679-97a7-2c8cc7ee4c9d",
        "colab": {
          "base_uri": "https://localhost:8080/"
        },
        "outputId": "873cecca-4321-43a8-cc0c-fd5ad5ba7372"
      },
      "outputs": [
        {
          "output_type": "execute_result",
          "data": {
            "text/plain": [
              "['I bought this for my husband who plays the piano.  He is having a wonderful time playing these old hymns.  The music  is at times hard to read because we think the book was published for singing from more than playing from.  Great purchase though!']"
            ]
          },
          "metadata": {},
          "execution_count": 57
        }
      ],
      "source": [
        "new_reviews"
      ]
    },
    {
      "cell_type": "code",
      "execution_count": 58,
      "id": "p_5GoxvxrYzS",
      "metadata": {
        "id": "p_5GoxvxrYzS"
      },
      "outputs": [],
      "source": [
        "new_reviews = token.texts_to_sequences(new_reviews)"
      ]
    },
    {
      "cell_type": "code",
      "execution_count": 59,
      "id": "8hg9qgWrrcFS",
      "metadata": {
        "id": "8hg9qgWrrcFS"
      },
      "outputs": [],
      "source": [
        "new_reviews = pad_sequences(new_reviews,\n",
        "                            maxlen=MAXLEN,\n",
        "                            padding='post',\n",
        "                            truncating='post')"
      ]
    },
    {
      "cell_type": "code",
      "execution_count": 60,
      "id": "dfce9d7b-69a6-4f2d-a13b-84a91dc02666",
      "metadata": {
        "id": "dfce9d7b-69a6-4f2d-a13b-84a91dc02666",
        "outputId": "577a0a8f-a535-4b5c-f62d-f313df84ecc3",
        "colab": {
          "base_uri": "https://localhost:8080/"
        }
      },
      "outputs": [
        {
          "output_type": "execute_result",
          "data": {
            "text/plain": [
              "array([[ 11,   1,  12,  16,  59, 657,  35, 297,   2,   1,  27,   7, 258,\n",
              "          4, 387,  56, 394, 132, 152,   1,   2, 226,   7,  31, 209, 252,\n",
              "          6, 330,  86,  73, 102,   2, 272,  14,   1,  16,   1,  37,  51,\n",
              "         72, 394,  37,  85,   1, 149,   0,   0,   0,   0,   0,   0,   0,\n",
              "          0,   0,   0,   0,   0,   0,   0,   0,   0,   0,   0,   0,   0,\n",
              "          0,   0,   0,   0,   0,   0,   0,   0,   0,   0,   0,   0,   0,\n",
              "          0,   0,   0,   0,   0,   0,   0,   0,   0,   0,   0,   0,   0,\n",
              "          0,   0,   0,   0,   0,   0,   0,   0,   0]], dtype=int32)"
            ]
          },
          "metadata": {},
          "execution_count": 60
        }
      ],
      "source": [
        "new_reviews"
      ]
    },
    {
      "cell_type": "code",
      "execution_count": 61,
      "id": "8DSSZDuvrd2X",
      "metadata": {
        "colab": {
          "base_uri": "https://localhost:8080/"
        },
        "id": "8DSSZDuvrd2X",
        "outputId": "cd7ba299-5b9d-437a-c850-8f7f45848bd1"
      },
      "outputs": [
        {
          "output_type": "stream",
          "name": "stdout",
          "text": [
            "1/1 [==============================] - 0s 18ms/step\n"
          ]
        },
        {
          "output_type": "execute_result",
          "data": {
            "text/plain": [
              "array([[0.9761543]], dtype=float32)"
            ]
          },
          "metadata": {},
          "execution_count": 61
        }
      ],
      "source": [
        "emb_model.predict(new_reviews)"
      ]
    },
    {
      "cell_type": "code",
      "execution_count": 62,
      "id": "sLyVdsopHIe0",
      "metadata": {
        "colab": {
          "base_uri": "https://localhost:8080/"
        },
        "id": "sLyVdsopHIe0",
        "outputId": "289e838f-7b82-40c8-c4c9-d12f1d708d4e"
      },
      "outputs": [
        {
          "output_type": "stream",
          "name": "stdout",
          "text": [
            "(1000, 32)\n"
          ]
        }
      ],
      "source": [
        "e = emb_model.layers[0]\n",
        "weights = e.get_weights()[0]\n",
        "print(weights.shape)"
      ]
    },
    {
      "cell_type": "code",
      "execution_count": 63,
      "id": "f84a8527-a663-49f3-913c-d1d9082fcf59",
      "metadata": {
        "id": "f84a8527-a663-49f3-913c-d1d9082fcf59"
      },
      "outputs": [],
      "source": [
        "reverse_word_index = token.index_word"
      ]
    },
    {
      "cell_type": "code",
      "execution_count": null,
      "id": "def60d90-a9d7-4827-b969-bd4e4cb76c4f",
      "metadata": {
        "id": "def60d90-a9d7-4827-b969-bd4e4cb76c4f"
      },
      "outputs": [],
      "source": [
        "#reverse_word_index"
      ]
    },
    {
      "cell_type": "code",
      "execution_count": 64,
      "id": "H2joVjKXIYfu",
      "metadata": {
        "id": "H2joVjKXIYfu"
      },
      "outputs": [],
      "source": [
        "import io\n",
        "vectors = io.open('vectors_emb_13Jan2024.tsv', 'w', encoding='utf-8') # Vectors\n",
        "metadata = io.open('metadata_emb_13Jan2024.tsv', 'w', encoding='utf-8') # Metadata\n",
        "for word_num in range(1, VOCAB):\n",
        "    word = reverse_word_index[word_num]\n",
        "    embeddings = weights[word_num]\n",
        "    metadata.write(word + \"\\n\")\n",
        "    vectors.write('\\t'.join([str(x) for x in embeddings]) + \"\\n\")\n",
        "vectors.close()\n",
        "metadata.close()"
      ]
    },
    {
      "cell_type": "markdown",
      "id": "4cc0b414-a01c-4d98-af07-4e85d95ea8d0",
      "metadata": {
        "id": "4cc0b414-a01c-4d98-af07-4e85d95ea8d0"
      },
      "source": [
        "# Bidirectional LSTM"
      ]
    },
    {
      "cell_type": "code",
      "execution_count": null,
      "id": "2b4892fd-df87-4c72-a69a-414c7b555822",
      "metadata": {
        "id": "2b4892fd-df87-4c72-a69a-414c7b555822"
      },
      "outputs": [],
      "source": [
        "# They said Teddy bears are on sale\n",
        "# They said Teddy Roosevelt was a great president"
      ]
    },
    {
      "cell_type": "code",
      "execution_count": null,
      "id": "866eeb46-cf53-4582-8508-7ce09571eb53",
      "metadata": {
        "id": "866eeb46-cf53-4582-8508-7ce09571eb53"
      },
      "outputs": [],
      "source": [
        "from tensorflow.keras.layers import  LSTM, Bidirectional"
      ]
    },
    {
      "cell_type": "code",
      "execution_count": null,
      "id": "cc73b7ca-f3d0-4ff1-be5b-9b0c570504eb",
      "metadata": {
        "id": "cc73b7ca-f3d0-4ff1-be5b-9b0c570504eb"
      },
      "outputs": [],
      "source": [
        "bidi_model = Sequential()"
      ]
    },
    {
      "cell_type": "code",
      "execution_count": null,
      "id": "3c4eac80-1f51-474a-b1bb-2e2d7ea7173b",
      "metadata": {
        "id": "3c4eac80-1f51-474a-b1bb-2e2d7ea7173b"
      },
      "outputs": [],
      "source": [
        "bidi_model.add(Embedding(VOCAB,\n",
        "                         EMBED_DIM,\n",
        "                         input_length = MAXLEN))"
      ]
    },
    {
      "cell_type": "code",
      "execution_count": null,
      "id": "4bc5f746-d804-427e-80f6-a51763ec1e40",
      "metadata": {
        "id": "4bc5f746-d804-427e-80f6-a51763ec1e40"
      },
      "outputs": [],
      "source": [
        "bidi_model.add(Bidirectional(LSTM(128)))"
      ]
    },
    {
      "cell_type": "code",
      "execution_count": null,
      "id": "95a43881-38bf-4ecf-9413-157920b00a25",
      "metadata": {
        "id": "95a43881-38bf-4ecf-9413-157920b00a25"
      },
      "outputs": [],
      "source": [
        "bidi_model.add(Dense(128,\n",
        "                     activation = 'relu',\n",
        "                     kernel_regularizer=tf.keras.regularizers.L2()))"
      ]
    },
    {
      "cell_type": "code",
      "execution_count": null,
      "id": "422448ef-2525-4fbd-8c90-28fe186c7a97",
      "metadata": {
        "id": "422448ef-2525-4fbd-8c90-28fe186c7a97"
      },
      "outputs": [],
      "source": [
        "bidi_model.add(Dense(1, activation='sigmoid'))"
      ]
    },
    {
      "cell_type": "code",
      "execution_count": null,
      "id": "c6f3355c-1c55-4d36-bf37-7b0c83358ee4",
      "metadata": {
        "id": "c6f3355c-1c55-4d36-bf37-7b0c83358ee4"
      },
      "outputs": [],
      "source": [
        "bidi_model.compile(optimizer = 'adam',\n",
        "                   loss = 'binary_crossentropy',\n",
        "                   metrics = ['accuracy'])\n",
        "print(bidi_model.summary())"
      ]
    },
    {
      "cell_type": "code",
      "execution_count": null,
      "id": "002d523b-d7cf-4c4b-b8d3-0855d985f306",
      "metadata": {
        "id": "002d523b-d7cf-4c4b-b8d3-0855d985f306"
      },
      "outputs": [],
      "source": [
        "cp = tf.keras.callbacks.ModelCheckpoint('MybestModelBIDI.h5',\n",
        "                                        monitor='val_accuracy',\n",
        "                                        save_weights=True,\n",
        "                                        save_best_only = True,\n",
        "                                        verbose=1)"
      ]
    },
    {
      "cell_type": "code",
      "execution_count": null,
      "id": "ae53cd39-5be2-4d5c-b6e1-415264937235",
      "metadata": {
        "id": "ae53cd39-5be2-4d5c-b6e1-415264937235"
      },
      "outputs": [],
      "source": [
        "result = bidi_model.fit(train_sent_s,\n",
        "                        y_train,\n",
        "                        validation_data=(test_sent_s,y_test),\n",
        "                        epochs = 20,\n",
        "                        batch_size = 500,\n",
        "                        callbacks = [cp])"
      ]
    },
    {
      "cell_type": "code",
      "execution_count": null,
      "id": "bb8546c0-9f8e-4e91-bc3c-5671b78c194a",
      "metadata": {
        "id": "bb8546c0-9f8e-4e91-bc3c-5671b78c194a"
      },
      "outputs": [],
      "source": [
        "new_model = tf.keras.models.load_model('MybestModelBIDI.h5')"
      ]
    },
    {
      "cell_type": "code",
      "execution_count": null,
      "id": "66fcbeb2-01d7-45af-a485-0b7f1f08b533",
      "metadata": {
        "id": "66fcbeb2-01d7-45af-a485-0b7f1f08b533"
      },
      "outputs": [],
      "source": [
        "new_model.predict(new_reviews)"
      ]
    }
  ],
  "metadata": {
    "colab": {
      "provenance": []
    },
    "kernelspec": {
      "display_name": "Python 3",
      "name": "python3"
    },
    "language_info": {
      "codemirror_mode": {
        "name": "ipython",
        "version": 3
      },
      "file_extension": ".py",
      "mimetype": "text/x-python",
      "name": "python",
      "nbconvert_exporter": "python",
      "pygments_lexer": "ipython3",
      "version": "3.7.6"
    },
    "widgets": {
      "application/vnd.jupyter.widget-state+json": {
        "f843c2e054294c3093182c88667d9038": {
          "model_module": "@jupyter-widgets/controls",
          "model_name": "HBoxModel",
          "model_module_version": "1.5.0",
          "state": {
            "_dom_classes": [],
            "_model_module": "@jupyter-widgets/controls",
            "_model_module_version": "1.5.0",
            "_model_name": "HBoxModel",
            "_view_count": null,
            "_view_module": "@jupyter-widgets/controls",
            "_view_module_version": "1.5.0",
            "_view_name": "HBoxView",
            "box_style": "",
            "children": [
              "IPY_MODEL_7ae21bf72e4c4c6a95a398b813ac64bd",
              "IPY_MODEL_14b9e7a99a6541928ebafff57b14ec57",
              "IPY_MODEL_bb3222f76d894956b209b0479ce6ca6f"
            ],
            "layout": "IPY_MODEL_0bd4bb3cf5a0401bbebe0a80368d9dc2"
          }
        },
        "7ae21bf72e4c4c6a95a398b813ac64bd": {
          "model_module": "@jupyter-widgets/controls",
          "model_name": "HTMLModel",
          "model_module_version": "1.5.0",
          "state": {
            "_dom_classes": [],
            "_model_module": "@jupyter-widgets/controls",
            "_model_module_version": "1.5.0",
            "_model_name": "HTMLModel",
            "_view_count": null,
            "_view_module": "@jupyter-widgets/controls",
            "_view_module_version": "1.5.0",
            "_view_name": "HTMLView",
            "description": "",
            "description_tooltip": null,
            "layout": "IPY_MODEL_4f3f4aaa14d844bfb6cb806ee4debbbe",
            "placeholder": "​",
            "style": "IPY_MODEL_c092ba97cd9c41a6903283d0505abcbe",
            "value": "Dl Completed...: 100%"
          }
        },
        "14b9e7a99a6541928ebafff57b14ec57": {
          "model_module": "@jupyter-widgets/controls",
          "model_name": "FloatProgressModel",
          "model_module_version": "1.5.0",
          "state": {
            "_dom_classes": [],
            "_model_module": "@jupyter-widgets/controls",
            "_model_module_version": "1.5.0",
            "_model_name": "FloatProgressModel",
            "_view_count": null,
            "_view_module": "@jupyter-widgets/controls",
            "_view_module_version": "1.5.0",
            "_view_name": "ProgressView",
            "bar_style": "success",
            "description": "",
            "description_tooltip": null,
            "layout": "IPY_MODEL_74e0e483b7274ff7b34db07dc0f266b1",
            "max": 1,
            "min": 0,
            "orientation": "horizontal",
            "style": "IPY_MODEL_a05649adf3e348018455181b508f16c6",
            "value": 1
          }
        },
        "bb3222f76d894956b209b0479ce6ca6f": {
          "model_module": "@jupyter-widgets/controls",
          "model_name": "HTMLModel",
          "model_module_version": "1.5.0",
          "state": {
            "_dom_classes": [],
            "_model_module": "@jupyter-widgets/controls",
            "_model_module_version": "1.5.0",
            "_model_name": "HTMLModel",
            "_view_count": null,
            "_view_module": "@jupyter-widgets/controls",
            "_view_module_version": "1.5.0",
            "_view_name": "HTMLView",
            "description": "",
            "description_tooltip": null,
            "layout": "IPY_MODEL_fbdb4e92d2bb458dac38ea5f8670347b",
            "placeholder": "​",
            "style": "IPY_MODEL_676de1aaee8644c2933118163681dfa5",
            "value": " 1/1 [00:02&lt;00:00,  2.67s/ url]"
          }
        },
        "0bd4bb3cf5a0401bbebe0a80368d9dc2": {
          "model_module": "@jupyter-widgets/base",
          "model_name": "LayoutModel",
          "model_module_version": "1.2.0",
          "state": {
            "_model_module": "@jupyter-widgets/base",
            "_model_module_version": "1.2.0",
            "_model_name": "LayoutModel",
            "_view_count": null,
            "_view_module": "@jupyter-widgets/base",
            "_view_module_version": "1.2.0",
            "_view_name": "LayoutView",
            "align_content": null,
            "align_items": null,
            "align_self": null,
            "border": null,
            "bottom": null,
            "display": null,
            "flex": null,
            "flex_flow": null,
            "grid_area": null,
            "grid_auto_columns": null,
            "grid_auto_flow": null,
            "grid_auto_rows": null,
            "grid_column": null,
            "grid_gap": null,
            "grid_row": null,
            "grid_template_areas": null,
            "grid_template_columns": null,
            "grid_template_rows": null,
            "height": null,
            "justify_content": null,
            "justify_items": null,
            "left": null,
            "margin": null,
            "max_height": null,
            "max_width": null,
            "min_height": null,
            "min_width": null,
            "object_fit": null,
            "object_position": null,
            "order": null,
            "overflow": null,
            "overflow_x": null,
            "overflow_y": null,
            "padding": null,
            "right": null,
            "top": null,
            "visibility": null,
            "width": null
          }
        },
        "4f3f4aaa14d844bfb6cb806ee4debbbe": {
          "model_module": "@jupyter-widgets/base",
          "model_name": "LayoutModel",
          "model_module_version": "1.2.0",
          "state": {
            "_model_module": "@jupyter-widgets/base",
            "_model_module_version": "1.2.0",
            "_model_name": "LayoutModel",
            "_view_count": null,
            "_view_module": "@jupyter-widgets/base",
            "_view_module_version": "1.2.0",
            "_view_name": "LayoutView",
            "align_content": null,
            "align_items": null,
            "align_self": null,
            "border": null,
            "bottom": null,
            "display": null,
            "flex": null,
            "flex_flow": null,
            "grid_area": null,
            "grid_auto_columns": null,
            "grid_auto_flow": null,
            "grid_auto_rows": null,
            "grid_column": null,
            "grid_gap": null,
            "grid_row": null,
            "grid_template_areas": null,
            "grid_template_columns": null,
            "grid_template_rows": null,
            "height": null,
            "justify_content": null,
            "justify_items": null,
            "left": null,
            "margin": null,
            "max_height": null,
            "max_width": null,
            "min_height": null,
            "min_width": null,
            "object_fit": null,
            "object_position": null,
            "order": null,
            "overflow": null,
            "overflow_x": null,
            "overflow_y": null,
            "padding": null,
            "right": null,
            "top": null,
            "visibility": null,
            "width": null
          }
        },
        "c092ba97cd9c41a6903283d0505abcbe": {
          "model_module": "@jupyter-widgets/controls",
          "model_name": "DescriptionStyleModel",
          "model_module_version": "1.5.0",
          "state": {
            "_model_module": "@jupyter-widgets/controls",
            "_model_module_version": "1.5.0",
            "_model_name": "DescriptionStyleModel",
            "_view_count": null,
            "_view_module": "@jupyter-widgets/base",
            "_view_module_version": "1.2.0",
            "_view_name": "StyleView",
            "description_width": ""
          }
        },
        "74e0e483b7274ff7b34db07dc0f266b1": {
          "model_module": "@jupyter-widgets/base",
          "model_name": "LayoutModel",
          "model_module_version": "1.2.0",
          "state": {
            "_model_module": "@jupyter-widgets/base",
            "_model_module_version": "1.2.0",
            "_model_name": "LayoutModel",
            "_view_count": null,
            "_view_module": "@jupyter-widgets/base",
            "_view_module_version": "1.2.0",
            "_view_name": "LayoutView",
            "align_content": null,
            "align_items": null,
            "align_self": null,
            "border": null,
            "bottom": null,
            "display": null,
            "flex": null,
            "flex_flow": null,
            "grid_area": null,
            "grid_auto_columns": null,
            "grid_auto_flow": null,
            "grid_auto_rows": null,
            "grid_column": null,
            "grid_gap": null,
            "grid_row": null,
            "grid_template_areas": null,
            "grid_template_columns": null,
            "grid_template_rows": null,
            "height": null,
            "justify_content": null,
            "justify_items": null,
            "left": null,
            "margin": null,
            "max_height": null,
            "max_width": null,
            "min_height": null,
            "min_width": null,
            "object_fit": null,
            "object_position": null,
            "order": null,
            "overflow": null,
            "overflow_x": null,
            "overflow_y": null,
            "padding": null,
            "right": null,
            "top": null,
            "visibility": null,
            "width": "20px"
          }
        },
        "a05649adf3e348018455181b508f16c6": {
          "model_module": "@jupyter-widgets/controls",
          "model_name": "ProgressStyleModel",
          "model_module_version": "1.5.0",
          "state": {
            "_model_module": "@jupyter-widgets/controls",
            "_model_module_version": "1.5.0",
            "_model_name": "ProgressStyleModel",
            "_view_count": null,
            "_view_module": "@jupyter-widgets/base",
            "_view_module_version": "1.2.0",
            "_view_name": "StyleView",
            "bar_color": null,
            "description_width": ""
          }
        },
        "fbdb4e92d2bb458dac38ea5f8670347b": {
          "model_module": "@jupyter-widgets/base",
          "model_name": "LayoutModel",
          "model_module_version": "1.2.0",
          "state": {
            "_model_module": "@jupyter-widgets/base",
            "_model_module_version": "1.2.0",
            "_model_name": "LayoutModel",
            "_view_count": null,
            "_view_module": "@jupyter-widgets/base",
            "_view_module_version": "1.2.0",
            "_view_name": "LayoutView",
            "align_content": null,
            "align_items": null,
            "align_self": null,
            "border": null,
            "bottom": null,
            "display": null,
            "flex": null,
            "flex_flow": null,
            "grid_area": null,
            "grid_auto_columns": null,
            "grid_auto_flow": null,
            "grid_auto_rows": null,
            "grid_column": null,
            "grid_gap": null,
            "grid_row": null,
            "grid_template_areas": null,
            "grid_template_columns": null,
            "grid_template_rows": null,
            "height": null,
            "justify_content": null,
            "justify_items": null,
            "left": null,
            "margin": null,
            "max_height": null,
            "max_width": null,
            "min_height": null,
            "min_width": null,
            "object_fit": null,
            "object_position": null,
            "order": null,
            "overflow": null,
            "overflow_x": null,
            "overflow_y": null,
            "padding": null,
            "right": null,
            "top": null,
            "visibility": null,
            "width": null
          }
        },
        "676de1aaee8644c2933118163681dfa5": {
          "model_module": "@jupyter-widgets/controls",
          "model_name": "DescriptionStyleModel",
          "model_module_version": "1.5.0",
          "state": {
            "_model_module": "@jupyter-widgets/controls",
            "_model_module_version": "1.5.0",
            "_model_name": "DescriptionStyleModel",
            "_view_count": null,
            "_view_module": "@jupyter-widgets/base",
            "_view_module_version": "1.2.0",
            "_view_name": "StyleView",
            "description_width": ""
          }
        },
        "2e89fc8b9e31429d8f2af1a43fec75e1": {
          "model_module": "@jupyter-widgets/controls",
          "model_name": "HBoxModel",
          "model_module_version": "1.5.0",
          "state": {
            "_dom_classes": [],
            "_model_module": "@jupyter-widgets/controls",
            "_model_module_version": "1.5.0",
            "_model_name": "HBoxModel",
            "_view_count": null,
            "_view_module": "@jupyter-widgets/controls",
            "_view_module_version": "1.5.0",
            "_view_name": "HBoxView",
            "box_style": "",
            "children": [
              "IPY_MODEL_05b144a5eb464ea595245088ab801f94",
              "IPY_MODEL_c92621e0eb914a1b9b79beade1084c27",
              "IPY_MODEL_3b769b5daa2243cb80c53a126565889e"
            ],
            "layout": "IPY_MODEL_f713a718c7f1468c94a1becb7eaa96e7"
          }
        },
        "05b144a5eb464ea595245088ab801f94": {
          "model_module": "@jupyter-widgets/controls",
          "model_name": "HTMLModel",
          "model_module_version": "1.5.0",
          "state": {
            "_dom_classes": [],
            "_model_module": "@jupyter-widgets/controls",
            "_model_module_version": "1.5.0",
            "_model_name": "HTMLModel",
            "_view_count": null,
            "_view_module": "@jupyter-widgets/controls",
            "_view_module_version": "1.5.0",
            "_view_name": "HTMLView",
            "description": "",
            "description_tooltip": null,
            "layout": "IPY_MODEL_3c1948f8d7ca4ccf880044f2ee52607f",
            "placeholder": "​",
            "style": "IPY_MODEL_bdd2591c57b14375909d4d8e6f69d69b",
            "value": "Dl Size...: 100%"
          }
        },
        "c92621e0eb914a1b9b79beade1084c27": {
          "model_module": "@jupyter-widgets/controls",
          "model_name": "FloatProgressModel",
          "model_module_version": "1.5.0",
          "state": {
            "_dom_classes": [],
            "_model_module": "@jupyter-widgets/controls",
            "_model_module_version": "1.5.0",
            "_model_name": "FloatProgressModel",
            "_view_count": null,
            "_view_module": "@jupyter-widgets/controls",
            "_view_module_version": "1.5.0",
            "_view_name": "ProgressView",
            "bar_style": "success",
            "description": "",
            "description_tooltip": null,
            "layout": "IPY_MODEL_808eef1b506f4331910aebfde513efb0",
            "max": 1,
            "min": 0,
            "orientation": "horizontal",
            "style": "IPY_MODEL_f1612556fa0448f2a61343ec4fe66073",
            "value": 1
          }
        },
        "3b769b5daa2243cb80c53a126565889e": {
          "model_module": "@jupyter-widgets/controls",
          "model_name": "HTMLModel",
          "model_module_version": "1.5.0",
          "state": {
            "_dom_classes": [],
            "_model_module": "@jupyter-widgets/controls",
            "_model_module_version": "1.5.0",
            "_model_name": "HTMLModel",
            "_view_count": null,
            "_view_module": "@jupyter-widgets/controls",
            "_view_module_version": "1.5.0",
            "_view_name": "HTMLView",
            "description": "",
            "description_tooltip": null,
            "layout": "IPY_MODEL_b846188c17d24140aec498df88fec0c9",
            "placeholder": "​",
            "style": "IPY_MODEL_25ffa7fdfbb74ead984df0fb9e5bf9fe",
            "value": " 80/80 [00:02&lt;00:00, 29.57 MiB/s]"
          }
        },
        "f713a718c7f1468c94a1becb7eaa96e7": {
          "model_module": "@jupyter-widgets/base",
          "model_name": "LayoutModel",
          "model_module_version": "1.2.0",
          "state": {
            "_model_module": "@jupyter-widgets/base",
            "_model_module_version": "1.2.0",
            "_model_name": "LayoutModel",
            "_view_count": null,
            "_view_module": "@jupyter-widgets/base",
            "_view_module_version": "1.2.0",
            "_view_name": "LayoutView",
            "align_content": null,
            "align_items": null,
            "align_self": null,
            "border": null,
            "bottom": null,
            "display": null,
            "flex": null,
            "flex_flow": null,
            "grid_area": null,
            "grid_auto_columns": null,
            "grid_auto_flow": null,
            "grid_auto_rows": null,
            "grid_column": null,
            "grid_gap": null,
            "grid_row": null,
            "grid_template_areas": null,
            "grid_template_columns": null,
            "grid_template_rows": null,
            "height": null,
            "justify_content": null,
            "justify_items": null,
            "left": null,
            "margin": null,
            "max_height": null,
            "max_width": null,
            "min_height": null,
            "min_width": null,
            "object_fit": null,
            "object_position": null,
            "order": null,
            "overflow": null,
            "overflow_x": null,
            "overflow_y": null,
            "padding": null,
            "right": null,
            "top": null,
            "visibility": null,
            "width": null
          }
        },
        "3c1948f8d7ca4ccf880044f2ee52607f": {
          "model_module": "@jupyter-widgets/base",
          "model_name": "LayoutModel",
          "model_module_version": "1.2.0",
          "state": {
            "_model_module": "@jupyter-widgets/base",
            "_model_module_version": "1.2.0",
            "_model_name": "LayoutModel",
            "_view_count": null,
            "_view_module": "@jupyter-widgets/base",
            "_view_module_version": "1.2.0",
            "_view_name": "LayoutView",
            "align_content": null,
            "align_items": null,
            "align_self": null,
            "border": null,
            "bottom": null,
            "display": null,
            "flex": null,
            "flex_flow": null,
            "grid_area": null,
            "grid_auto_columns": null,
            "grid_auto_flow": null,
            "grid_auto_rows": null,
            "grid_column": null,
            "grid_gap": null,
            "grid_row": null,
            "grid_template_areas": null,
            "grid_template_columns": null,
            "grid_template_rows": null,
            "height": null,
            "justify_content": null,
            "justify_items": null,
            "left": null,
            "margin": null,
            "max_height": null,
            "max_width": null,
            "min_height": null,
            "min_width": null,
            "object_fit": null,
            "object_position": null,
            "order": null,
            "overflow": null,
            "overflow_x": null,
            "overflow_y": null,
            "padding": null,
            "right": null,
            "top": null,
            "visibility": null,
            "width": null
          }
        },
        "bdd2591c57b14375909d4d8e6f69d69b": {
          "model_module": "@jupyter-widgets/controls",
          "model_name": "DescriptionStyleModel",
          "model_module_version": "1.5.0",
          "state": {
            "_model_module": "@jupyter-widgets/controls",
            "_model_module_version": "1.5.0",
            "_model_name": "DescriptionStyleModel",
            "_view_count": null,
            "_view_module": "@jupyter-widgets/base",
            "_view_module_version": "1.2.0",
            "_view_name": "StyleView",
            "description_width": ""
          }
        },
        "808eef1b506f4331910aebfde513efb0": {
          "model_module": "@jupyter-widgets/base",
          "model_name": "LayoutModel",
          "model_module_version": "1.2.0",
          "state": {
            "_model_module": "@jupyter-widgets/base",
            "_model_module_version": "1.2.0",
            "_model_name": "LayoutModel",
            "_view_count": null,
            "_view_module": "@jupyter-widgets/base",
            "_view_module_version": "1.2.0",
            "_view_name": "LayoutView",
            "align_content": null,
            "align_items": null,
            "align_self": null,
            "border": null,
            "bottom": null,
            "display": null,
            "flex": null,
            "flex_flow": null,
            "grid_area": null,
            "grid_auto_columns": null,
            "grid_auto_flow": null,
            "grid_auto_rows": null,
            "grid_column": null,
            "grid_gap": null,
            "grid_row": null,
            "grid_template_areas": null,
            "grid_template_columns": null,
            "grid_template_rows": null,
            "height": null,
            "justify_content": null,
            "justify_items": null,
            "left": null,
            "margin": null,
            "max_height": null,
            "max_width": null,
            "min_height": null,
            "min_width": null,
            "object_fit": null,
            "object_position": null,
            "order": null,
            "overflow": null,
            "overflow_x": null,
            "overflow_y": null,
            "padding": null,
            "right": null,
            "top": null,
            "visibility": null,
            "width": "20px"
          }
        },
        "f1612556fa0448f2a61343ec4fe66073": {
          "model_module": "@jupyter-widgets/controls",
          "model_name": "ProgressStyleModel",
          "model_module_version": "1.5.0",
          "state": {
            "_model_module": "@jupyter-widgets/controls",
            "_model_module_version": "1.5.0",
            "_model_name": "ProgressStyleModel",
            "_view_count": null,
            "_view_module": "@jupyter-widgets/base",
            "_view_module_version": "1.2.0",
            "_view_name": "StyleView",
            "bar_color": null,
            "description_width": ""
          }
        },
        "b846188c17d24140aec498df88fec0c9": {
          "model_module": "@jupyter-widgets/base",
          "model_name": "LayoutModel",
          "model_module_version": "1.2.0",
          "state": {
            "_model_module": "@jupyter-widgets/base",
            "_model_module_version": "1.2.0",
            "_model_name": "LayoutModel",
            "_view_count": null,
            "_view_module": "@jupyter-widgets/base",
            "_view_module_version": "1.2.0",
            "_view_name": "LayoutView",
            "align_content": null,
            "align_items": null,
            "align_self": null,
            "border": null,
            "bottom": null,
            "display": null,
            "flex": null,
            "flex_flow": null,
            "grid_area": null,
            "grid_auto_columns": null,
            "grid_auto_flow": null,
            "grid_auto_rows": null,
            "grid_column": null,
            "grid_gap": null,
            "grid_row": null,
            "grid_template_areas": null,
            "grid_template_columns": null,
            "grid_template_rows": null,
            "height": null,
            "justify_content": null,
            "justify_items": null,
            "left": null,
            "margin": null,
            "max_height": null,
            "max_width": null,
            "min_height": null,
            "min_width": null,
            "object_fit": null,
            "object_position": null,
            "order": null,
            "overflow": null,
            "overflow_x": null,
            "overflow_y": null,
            "padding": null,
            "right": null,
            "top": null,
            "visibility": null,
            "width": null
          }
        },
        "25ffa7fdfbb74ead984df0fb9e5bf9fe": {
          "model_module": "@jupyter-widgets/controls",
          "model_name": "DescriptionStyleModel",
          "model_module_version": "1.5.0",
          "state": {
            "_model_module": "@jupyter-widgets/controls",
            "_model_module_version": "1.5.0",
            "_model_name": "DescriptionStyleModel",
            "_view_count": null,
            "_view_module": "@jupyter-widgets/base",
            "_view_module_version": "1.2.0",
            "_view_name": "StyleView",
            "description_width": ""
          }
        },
        "5c2c6e38909a4e739fead2dbcb2e7675": {
          "model_module": "@jupyter-widgets/controls",
          "model_name": "HBoxModel",
          "model_module_version": "1.5.0",
          "state": {
            "_dom_classes": [],
            "_model_module": "@jupyter-widgets/controls",
            "_model_module_version": "1.5.0",
            "_model_name": "HBoxModel",
            "_view_count": null,
            "_view_module": "@jupyter-widgets/controls",
            "_view_module_version": "1.5.0",
            "_view_name": "HBoxView",
            "box_style": "",
            "children": [
              "IPY_MODEL_cf456d282cf94695b94dfdb781666896",
              "IPY_MODEL_9735d76338264c18add7018bec400d30",
              "IPY_MODEL_f9d46dacdcf348bd8e783ceae84e4d52"
            ],
            "layout": "IPY_MODEL_0c914d33b26643c3b3bf909f18e70823"
          }
        },
        "cf456d282cf94695b94dfdb781666896": {
          "model_module": "@jupyter-widgets/controls",
          "model_name": "HTMLModel",
          "model_module_version": "1.5.0",
          "state": {
            "_dom_classes": [],
            "_model_module": "@jupyter-widgets/controls",
            "_model_module_version": "1.5.0",
            "_model_name": "HTMLModel",
            "_view_count": null,
            "_view_module": "@jupyter-widgets/controls",
            "_view_module_version": "1.5.0",
            "_view_name": "HTMLView",
            "description": "",
            "description_tooltip": null,
            "layout": "IPY_MODEL_e8b5d46c1aea4706953f465ebafca0d0",
            "placeholder": "​",
            "style": "IPY_MODEL_3b6a7dd54e8b4c9e8bca3d582a75063e",
            "value": "Generating splits...: 100%"
          }
        },
        "9735d76338264c18add7018bec400d30": {
          "model_module": "@jupyter-widgets/controls",
          "model_name": "FloatProgressModel",
          "model_module_version": "1.5.0",
          "state": {
            "_dom_classes": [],
            "_model_module": "@jupyter-widgets/controls",
            "_model_module_version": "1.5.0",
            "_model_name": "FloatProgressModel",
            "_view_count": null,
            "_view_module": "@jupyter-widgets/controls",
            "_view_module_version": "1.5.0",
            "_view_name": "ProgressView",
            "bar_style": "",
            "description": "",
            "description_tooltip": null,
            "layout": "IPY_MODEL_c4cfaad8d1104a3bbc39f1930d5552f0",
            "max": 3,
            "min": 0,
            "orientation": "horizontal",
            "style": "IPY_MODEL_467110f5298f45368efc3639067364ec",
            "value": 3
          }
        },
        "f9d46dacdcf348bd8e783ceae84e4d52": {
          "model_module": "@jupyter-widgets/controls",
          "model_name": "HTMLModel",
          "model_module_version": "1.5.0",
          "state": {
            "_dom_classes": [],
            "_model_module": "@jupyter-widgets/controls",
            "_model_module_version": "1.5.0",
            "_model_name": "HTMLModel",
            "_view_count": null,
            "_view_module": "@jupyter-widgets/controls",
            "_view_module_version": "1.5.0",
            "_view_name": "HTMLView",
            "description": "",
            "description_tooltip": null,
            "layout": "IPY_MODEL_49e6de765313402eb96f61045c852b74",
            "placeholder": "​",
            "style": "IPY_MODEL_b951c435efc74632a69a0992dab0969e",
            "value": " 3/3 [00:28&lt;00:00,  9.98s/ splits]"
          }
        },
        "0c914d33b26643c3b3bf909f18e70823": {
          "model_module": "@jupyter-widgets/base",
          "model_name": "LayoutModel",
          "model_module_version": "1.2.0",
          "state": {
            "_model_module": "@jupyter-widgets/base",
            "_model_module_version": "1.2.0",
            "_model_name": "LayoutModel",
            "_view_count": null,
            "_view_module": "@jupyter-widgets/base",
            "_view_module_version": "1.2.0",
            "_view_name": "LayoutView",
            "align_content": null,
            "align_items": null,
            "align_self": null,
            "border": null,
            "bottom": null,
            "display": null,
            "flex": null,
            "flex_flow": null,
            "grid_area": null,
            "grid_auto_columns": null,
            "grid_auto_flow": null,
            "grid_auto_rows": null,
            "grid_column": null,
            "grid_gap": null,
            "grid_row": null,
            "grid_template_areas": null,
            "grid_template_columns": null,
            "grid_template_rows": null,
            "height": null,
            "justify_content": null,
            "justify_items": null,
            "left": null,
            "margin": null,
            "max_height": null,
            "max_width": null,
            "min_height": null,
            "min_width": null,
            "object_fit": null,
            "object_position": null,
            "order": null,
            "overflow": null,
            "overflow_x": null,
            "overflow_y": null,
            "padding": null,
            "right": null,
            "top": null,
            "visibility": "hidden",
            "width": null
          }
        },
        "e8b5d46c1aea4706953f465ebafca0d0": {
          "model_module": "@jupyter-widgets/base",
          "model_name": "LayoutModel",
          "model_module_version": "1.2.0",
          "state": {
            "_model_module": "@jupyter-widgets/base",
            "_model_module_version": "1.2.0",
            "_model_name": "LayoutModel",
            "_view_count": null,
            "_view_module": "@jupyter-widgets/base",
            "_view_module_version": "1.2.0",
            "_view_name": "LayoutView",
            "align_content": null,
            "align_items": null,
            "align_self": null,
            "border": null,
            "bottom": null,
            "display": null,
            "flex": null,
            "flex_flow": null,
            "grid_area": null,
            "grid_auto_columns": null,
            "grid_auto_flow": null,
            "grid_auto_rows": null,
            "grid_column": null,
            "grid_gap": null,
            "grid_row": null,
            "grid_template_areas": null,
            "grid_template_columns": null,
            "grid_template_rows": null,
            "height": null,
            "justify_content": null,
            "justify_items": null,
            "left": null,
            "margin": null,
            "max_height": null,
            "max_width": null,
            "min_height": null,
            "min_width": null,
            "object_fit": null,
            "object_position": null,
            "order": null,
            "overflow": null,
            "overflow_x": null,
            "overflow_y": null,
            "padding": null,
            "right": null,
            "top": null,
            "visibility": null,
            "width": null
          }
        },
        "3b6a7dd54e8b4c9e8bca3d582a75063e": {
          "model_module": "@jupyter-widgets/controls",
          "model_name": "DescriptionStyleModel",
          "model_module_version": "1.5.0",
          "state": {
            "_model_module": "@jupyter-widgets/controls",
            "_model_module_version": "1.5.0",
            "_model_name": "DescriptionStyleModel",
            "_view_count": null,
            "_view_module": "@jupyter-widgets/base",
            "_view_module_version": "1.2.0",
            "_view_name": "StyleView",
            "description_width": ""
          }
        },
        "c4cfaad8d1104a3bbc39f1930d5552f0": {
          "model_module": "@jupyter-widgets/base",
          "model_name": "LayoutModel",
          "model_module_version": "1.2.0",
          "state": {
            "_model_module": "@jupyter-widgets/base",
            "_model_module_version": "1.2.0",
            "_model_name": "LayoutModel",
            "_view_count": null,
            "_view_module": "@jupyter-widgets/base",
            "_view_module_version": "1.2.0",
            "_view_name": "LayoutView",
            "align_content": null,
            "align_items": null,
            "align_self": null,
            "border": null,
            "bottom": null,
            "display": null,
            "flex": null,
            "flex_flow": null,
            "grid_area": null,
            "grid_auto_columns": null,
            "grid_auto_flow": null,
            "grid_auto_rows": null,
            "grid_column": null,
            "grid_gap": null,
            "grid_row": null,
            "grid_template_areas": null,
            "grid_template_columns": null,
            "grid_template_rows": null,
            "height": null,
            "justify_content": null,
            "justify_items": null,
            "left": null,
            "margin": null,
            "max_height": null,
            "max_width": null,
            "min_height": null,
            "min_width": null,
            "object_fit": null,
            "object_position": null,
            "order": null,
            "overflow": null,
            "overflow_x": null,
            "overflow_y": null,
            "padding": null,
            "right": null,
            "top": null,
            "visibility": null,
            "width": null
          }
        },
        "467110f5298f45368efc3639067364ec": {
          "model_module": "@jupyter-widgets/controls",
          "model_name": "ProgressStyleModel",
          "model_module_version": "1.5.0",
          "state": {
            "_model_module": "@jupyter-widgets/controls",
            "_model_module_version": "1.5.0",
            "_model_name": "ProgressStyleModel",
            "_view_count": null,
            "_view_module": "@jupyter-widgets/base",
            "_view_module_version": "1.2.0",
            "_view_name": "StyleView",
            "bar_color": null,
            "description_width": ""
          }
        },
        "49e6de765313402eb96f61045c852b74": {
          "model_module": "@jupyter-widgets/base",
          "model_name": "LayoutModel",
          "model_module_version": "1.2.0",
          "state": {
            "_model_module": "@jupyter-widgets/base",
            "_model_module_version": "1.2.0",
            "_model_name": "LayoutModel",
            "_view_count": null,
            "_view_module": "@jupyter-widgets/base",
            "_view_module_version": "1.2.0",
            "_view_name": "LayoutView",
            "align_content": null,
            "align_items": null,
            "align_self": null,
            "border": null,
            "bottom": null,
            "display": null,
            "flex": null,
            "flex_flow": null,
            "grid_area": null,
            "grid_auto_columns": null,
            "grid_auto_flow": null,
            "grid_auto_rows": null,
            "grid_column": null,
            "grid_gap": null,
            "grid_row": null,
            "grid_template_areas": null,
            "grid_template_columns": null,
            "grid_template_rows": null,
            "height": null,
            "justify_content": null,
            "justify_items": null,
            "left": null,
            "margin": null,
            "max_height": null,
            "max_width": null,
            "min_height": null,
            "min_width": null,
            "object_fit": null,
            "object_position": null,
            "order": null,
            "overflow": null,
            "overflow_x": null,
            "overflow_y": null,
            "padding": null,
            "right": null,
            "top": null,
            "visibility": null,
            "width": null
          }
        },
        "b951c435efc74632a69a0992dab0969e": {
          "model_module": "@jupyter-widgets/controls",
          "model_name": "DescriptionStyleModel",
          "model_module_version": "1.5.0",
          "state": {
            "_model_module": "@jupyter-widgets/controls",
            "_model_module_version": "1.5.0",
            "_model_name": "DescriptionStyleModel",
            "_view_count": null,
            "_view_module": "@jupyter-widgets/base",
            "_view_module_version": "1.2.0",
            "_view_name": "StyleView",
            "description_width": ""
          }
        },
        "17eadc720e5d48a6afc5951b075bcfec": {
          "model_module": "@jupyter-widgets/controls",
          "model_name": "HBoxModel",
          "model_module_version": "1.5.0",
          "state": {
            "_dom_classes": [],
            "_model_module": "@jupyter-widgets/controls",
            "_model_module_version": "1.5.0",
            "_model_name": "HBoxModel",
            "_view_count": null,
            "_view_module": "@jupyter-widgets/controls",
            "_view_module_version": "1.5.0",
            "_view_name": "HBoxView",
            "box_style": "",
            "children": [
              "IPY_MODEL_e0e28c80dfa0463b9418b29c1100f43a",
              "IPY_MODEL_42767ccd81e44ce3bdc86af073109f72",
              "IPY_MODEL_855c3b68c8f9421f9f10fba3d7968f44"
            ],
            "layout": "IPY_MODEL_176edf498b1848e0922e1280df2e327f"
          }
        },
        "e0e28c80dfa0463b9418b29c1100f43a": {
          "model_module": "@jupyter-widgets/controls",
          "model_name": "HTMLModel",
          "model_module_version": "1.5.0",
          "state": {
            "_dom_classes": [],
            "_model_module": "@jupyter-widgets/controls",
            "_model_module_version": "1.5.0",
            "_model_name": "HTMLModel",
            "_view_count": null,
            "_view_module": "@jupyter-widgets/controls",
            "_view_module_version": "1.5.0",
            "_view_name": "HTMLView",
            "description": "",
            "description_tooltip": null,
            "layout": "IPY_MODEL_4c30d5f0452444dcb571ce6a9d7ef334",
            "placeholder": "​",
            "style": "IPY_MODEL_b088a5fc85074c2f9bea8c6f107dc9fb",
            "value": "Generating train examples...:  79%"
          }
        },
        "42767ccd81e44ce3bdc86af073109f72": {
          "model_module": "@jupyter-widgets/controls",
          "model_name": "FloatProgressModel",
          "model_module_version": "1.5.0",
          "state": {
            "_dom_classes": [],
            "_model_module": "@jupyter-widgets/controls",
            "_model_module_version": "1.5.0",
            "_model_name": "FloatProgressModel",
            "_view_count": null,
            "_view_module": "@jupyter-widgets/controls",
            "_view_module_version": "1.5.0",
            "_view_name": "ProgressView",
            "bar_style": "",
            "description": "",
            "description_tooltip": null,
            "layout": "IPY_MODEL_10cf1bbd4f0448cd8da4d67a2da650ec",
            "max": 25000,
            "min": 0,
            "orientation": "horizontal",
            "style": "IPY_MODEL_52eac574c0bb434b92f55af5b23e3b01",
            "value": 25000
          }
        },
        "855c3b68c8f9421f9f10fba3d7968f44": {
          "model_module": "@jupyter-widgets/controls",
          "model_name": "HTMLModel",
          "model_module_version": "1.5.0",
          "state": {
            "_dom_classes": [],
            "_model_module": "@jupyter-widgets/controls",
            "_model_module_version": "1.5.0",
            "_model_name": "HTMLModel",
            "_view_count": null,
            "_view_module": "@jupyter-widgets/controls",
            "_view_module_version": "1.5.0",
            "_view_name": "HTMLView",
            "description": "",
            "description_tooltip": null,
            "layout": "IPY_MODEL_9f1a251f71434681a336f304f2217c4c",
            "placeholder": "​",
            "style": "IPY_MODEL_12793cdb03d14d32a4752b559b70a2ad",
            "value": " 19866/25000 [00:04&lt;00:01, 5053.55 examples/s]"
          }
        },
        "176edf498b1848e0922e1280df2e327f": {
          "model_module": "@jupyter-widgets/base",
          "model_name": "LayoutModel",
          "model_module_version": "1.2.0",
          "state": {
            "_model_module": "@jupyter-widgets/base",
            "_model_module_version": "1.2.0",
            "_model_name": "LayoutModel",
            "_view_count": null,
            "_view_module": "@jupyter-widgets/base",
            "_view_module_version": "1.2.0",
            "_view_name": "LayoutView",
            "align_content": null,
            "align_items": null,
            "align_self": null,
            "border": null,
            "bottom": null,
            "display": null,
            "flex": null,
            "flex_flow": null,
            "grid_area": null,
            "grid_auto_columns": null,
            "grid_auto_flow": null,
            "grid_auto_rows": null,
            "grid_column": null,
            "grid_gap": null,
            "grid_row": null,
            "grid_template_areas": null,
            "grid_template_columns": null,
            "grid_template_rows": null,
            "height": null,
            "justify_content": null,
            "justify_items": null,
            "left": null,
            "margin": null,
            "max_height": null,
            "max_width": null,
            "min_height": null,
            "min_width": null,
            "object_fit": null,
            "object_position": null,
            "order": null,
            "overflow": null,
            "overflow_x": null,
            "overflow_y": null,
            "padding": null,
            "right": null,
            "top": null,
            "visibility": "hidden",
            "width": null
          }
        },
        "4c30d5f0452444dcb571ce6a9d7ef334": {
          "model_module": "@jupyter-widgets/base",
          "model_name": "LayoutModel",
          "model_module_version": "1.2.0",
          "state": {
            "_model_module": "@jupyter-widgets/base",
            "_model_module_version": "1.2.0",
            "_model_name": "LayoutModel",
            "_view_count": null,
            "_view_module": "@jupyter-widgets/base",
            "_view_module_version": "1.2.0",
            "_view_name": "LayoutView",
            "align_content": null,
            "align_items": null,
            "align_self": null,
            "border": null,
            "bottom": null,
            "display": null,
            "flex": null,
            "flex_flow": null,
            "grid_area": null,
            "grid_auto_columns": null,
            "grid_auto_flow": null,
            "grid_auto_rows": null,
            "grid_column": null,
            "grid_gap": null,
            "grid_row": null,
            "grid_template_areas": null,
            "grid_template_columns": null,
            "grid_template_rows": null,
            "height": null,
            "justify_content": null,
            "justify_items": null,
            "left": null,
            "margin": null,
            "max_height": null,
            "max_width": null,
            "min_height": null,
            "min_width": null,
            "object_fit": null,
            "object_position": null,
            "order": null,
            "overflow": null,
            "overflow_x": null,
            "overflow_y": null,
            "padding": null,
            "right": null,
            "top": null,
            "visibility": null,
            "width": null
          }
        },
        "b088a5fc85074c2f9bea8c6f107dc9fb": {
          "model_module": "@jupyter-widgets/controls",
          "model_name": "DescriptionStyleModel",
          "model_module_version": "1.5.0",
          "state": {
            "_model_module": "@jupyter-widgets/controls",
            "_model_module_version": "1.5.0",
            "_model_name": "DescriptionStyleModel",
            "_view_count": null,
            "_view_module": "@jupyter-widgets/base",
            "_view_module_version": "1.2.0",
            "_view_name": "StyleView",
            "description_width": ""
          }
        },
        "10cf1bbd4f0448cd8da4d67a2da650ec": {
          "model_module": "@jupyter-widgets/base",
          "model_name": "LayoutModel",
          "model_module_version": "1.2.0",
          "state": {
            "_model_module": "@jupyter-widgets/base",
            "_model_module_version": "1.2.0",
            "_model_name": "LayoutModel",
            "_view_count": null,
            "_view_module": "@jupyter-widgets/base",
            "_view_module_version": "1.2.0",
            "_view_name": "LayoutView",
            "align_content": null,
            "align_items": null,
            "align_self": null,
            "border": null,
            "bottom": null,
            "display": null,
            "flex": null,
            "flex_flow": null,
            "grid_area": null,
            "grid_auto_columns": null,
            "grid_auto_flow": null,
            "grid_auto_rows": null,
            "grid_column": null,
            "grid_gap": null,
            "grid_row": null,
            "grid_template_areas": null,
            "grid_template_columns": null,
            "grid_template_rows": null,
            "height": null,
            "justify_content": null,
            "justify_items": null,
            "left": null,
            "margin": null,
            "max_height": null,
            "max_width": null,
            "min_height": null,
            "min_width": null,
            "object_fit": null,
            "object_position": null,
            "order": null,
            "overflow": null,
            "overflow_x": null,
            "overflow_y": null,
            "padding": null,
            "right": null,
            "top": null,
            "visibility": null,
            "width": null
          }
        },
        "52eac574c0bb434b92f55af5b23e3b01": {
          "model_module": "@jupyter-widgets/controls",
          "model_name": "ProgressStyleModel",
          "model_module_version": "1.5.0",
          "state": {
            "_model_module": "@jupyter-widgets/controls",
            "_model_module_version": "1.5.0",
            "_model_name": "ProgressStyleModel",
            "_view_count": null,
            "_view_module": "@jupyter-widgets/base",
            "_view_module_version": "1.2.0",
            "_view_name": "StyleView",
            "bar_color": null,
            "description_width": ""
          }
        },
        "9f1a251f71434681a336f304f2217c4c": {
          "model_module": "@jupyter-widgets/base",
          "model_name": "LayoutModel",
          "model_module_version": "1.2.0",
          "state": {
            "_model_module": "@jupyter-widgets/base",
            "_model_module_version": "1.2.0",
            "_model_name": "LayoutModel",
            "_view_count": null,
            "_view_module": "@jupyter-widgets/base",
            "_view_module_version": "1.2.0",
            "_view_name": "LayoutView",
            "align_content": null,
            "align_items": null,
            "align_self": null,
            "border": null,
            "bottom": null,
            "display": null,
            "flex": null,
            "flex_flow": null,
            "grid_area": null,
            "grid_auto_columns": null,
            "grid_auto_flow": null,
            "grid_auto_rows": null,
            "grid_column": null,
            "grid_gap": null,
            "grid_row": null,
            "grid_template_areas": null,
            "grid_template_columns": null,
            "grid_template_rows": null,
            "height": null,
            "justify_content": null,
            "justify_items": null,
            "left": null,
            "margin": null,
            "max_height": null,
            "max_width": null,
            "min_height": null,
            "min_width": null,
            "object_fit": null,
            "object_position": null,
            "order": null,
            "overflow": null,
            "overflow_x": null,
            "overflow_y": null,
            "padding": null,
            "right": null,
            "top": null,
            "visibility": null,
            "width": null
          }
        },
        "12793cdb03d14d32a4752b559b70a2ad": {
          "model_module": "@jupyter-widgets/controls",
          "model_name": "DescriptionStyleModel",
          "model_module_version": "1.5.0",
          "state": {
            "_model_module": "@jupyter-widgets/controls",
            "_model_module_version": "1.5.0",
            "_model_name": "DescriptionStyleModel",
            "_view_count": null,
            "_view_module": "@jupyter-widgets/base",
            "_view_module_version": "1.2.0",
            "_view_name": "StyleView",
            "description_width": ""
          }
        },
        "fe0d526334604481aee2d5996450f09a": {
          "model_module": "@jupyter-widgets/controls",
          "model_name": "HBoxModel",
          "model_module_version": "1.5.0",
          "state": {
            "_dom_classes": [],
            "_model_module": "@jupyter-widgets/controls",
            "_model_module_version": "1.5.0",
            "_model_name": "HBoxModel",
            "_view_count": null,
            "_view_module": "@jupyter-widgets/controls",
            "_view_module_version": "1.5.0",
            "_view_name": "HBoxView",
            "box_style": "",
            "children": [
              "IPY_MODEL_b2d76e999aaf4301a1b7495cd26998f4",
              "IPY_MODEL_9fa3ded6582c433493625c51445a98c4",
              "IPY_MODEL_4486cbf23338413fb347915e9ad8ef85"
            ],
            "layout": "IPY_MODEL_59451fc8d89b4ddd84773499263b957a"
          }
        },
        "b2d76e999aaf4301a1b7495cd26998f4": {
          "model_module": "@jupyter-widgets/controls",
          "model_name": "HTMLModel",
          "model_module_version": "1.5.0",
          "state": {
            "_dom_classes": [],
            "_model_module": "@jupyter-widgets/controls",
            "_model_module_version": "1.5.0",
            "_model_name": "HTMLModel",
            "_view_count": null,
            "_view_module": "@jupyter-widgets/controls",
            "_view_module_version": "1.5.0",
            "_view_name": "HTMLView",
            "description": "",
            "description_tooltip": null,
            "layout": "IPY_MODEL_b98bc6eb115842c9bf61e67371658809",
            "placeholder": "​",
            "style": "IPY_MODEL_c8d8b06d58804055b145d1916c218c03",
            "value": "Shuffling /root/tensorflow_datasets/imdb_reviews/plain_text/1.0.0.incompleteTEJ9EG/imdb_reviews-train.tfrecord*...:  69%"
          }
        },
        "9fa3ded6582c433493625c51445a98c4": {
          "model_module": "@jupyter-widgets/controls",
          "model_name": "FloatProgressModel",
          "model_module_version": "1.5.0",
          "state": {
            "_dom_classes": [],
            "_model_module": "@jupyter-widgets/controls",
            "_model_module_version": "1.5.0",
            "_model_name": "FloatProgressModel",
            "_view_count": null,
            "_view_module": "@jupyter-widgets/controls",
            "_view_module_version": "1.5.0",
            "_view_name": "ProgressView",
            "bar_style": "",
            "description": "",
            "description_tooltip": null,
            "layout": "IPY_MODEL_3b9dde0579804134ae98563c8bd467c9",
            "max": 25000,
            "min": 0,
            "orientation": "horizontal",
            "style": "IPY_MODEL_ead44dcad8aa4ab1a2ad99e3ea9d2d40",
            "value": 25000
          }
        },
        "4486cbf23338413fb347915e9ad8ef85": {
          "model_module": "@jupyter-widgets/controls",
          "model_name": "HTMLModel",
          "model_module_version": "1.5.0",
          "state": {
            "_dom_classes": [],
            "_model_module": "@jupyter-widgets/controls",
            "_model_module_version": "1.5.0",
            "_model_name": "HTMLModel",
            "_view_count": null,
            "_view_module": "@jupyter-widgets/controls",
            "_view_module_version": "1.5.0",
            "_view_name": "HTMLView",
            "description": "",
            "description_tooltip": null,
            "layout": "IPY_MODEL_c5f466c3328c4de18b263a4078a1436e",
            "placeholder": "​",
            "style": "IPY_MODEL_1be1a154cca644eca0a0afd36add863c",
            "value": " 17174/25000 [00:00&lt;00:00, 171714.37 examples/s]"
          }
        },
        "59451fc8d89b4ddd84773499263b957a": {
          "model_module": "@jupyter-widgets/base",
          "model_name": "LayoutModel",
          "model_module_version": "1.2.0",
          "state": {
            "_model_module": "@jupyter-widgets/base",
            "_model_module_version": "1.2.0",
            "_model_name": "LayoutModel",
            "_view_count": null,
            "_view_module": "@jupyter-widgets/base",
            "_view_module_version": "1.2.0",
            "_view_name": "LayoutView",
            "align_content": null,
            "align_items": null,
            "align_self": null,
            "border": null,
            "bottom": null,
            "display": null,
            "flex": null,
            "flex_flow": null,
            "grid_area": null,
            "grid_auto_columns": null,
            "grid_auto_flow": null,
            "grid_auto_rows": null,
            "grid_column": null,
            "grid_gap": null,
            "grid_row": null,
            "grid_template_areas": null,
            "grid_template_columns": null,
            "grid_template_rows": null,
            "height": null,
            "justify_content": null,
            "justify_items": null,
            "left": null,
            "margin": null,
            "max_height": null,
            "max_width": null,
            "min_height": null,
            "min_width": null,
            "object_fit": null,
            "object_position": null,
            "order": null,
            "overflow": null,
            "overflow_x": null,
            "overflow_y": null,
            "padding": null,
            "right": null,
            "top": null,
            "visibility": "hidden",
            "width": null
          }
        },
        "b98bc6eb115842c9bf61e67371658809": {
          "model_module": "@jupyter-widgets/base",
          "model_name": "LayoutModel",
          "model_module_version": "1.2.0",
          "state": {
            "_model_module": "@jupyter-widgets/base",
            "_model_module_version": "1.2.0",
            "_model_name": "LayoutModel",
            "_view_count": null,
            "_view_module": "@jupyter-widgets/base",
            "_view_module_version": "1.2.0",
            "_view_name": "LayoutView",
            "align_content": null,
            "align_items": null,
            "align_self": null,
            "border": null,
            "bottom": null,
            "display": null,
            "flex": null,
            "flex_flow": null,
            "grid_area": null,
            "grid_auto_columns": null,
            "grid_auto_flow": null,
            "grid_auto_rows": null,
            "grid_column": null,
            "grid_gap": null,
            "grid_row": null,
            "grid_template_areas": null,
            "grid_template_columns": null,
            "grid_template_rows": null,
            "height": null,
            "justify_content": null,
            "justify_items": null,
            "left": null,
            "margin": null,
            "max_height": null,
            "max_width": null,
            "min_height": null,
            "min_width": null,
            "object_fit": null,
            "object_position": null,
            "order": null,
            "overflow": null,
            "overflow_x": null,
            "overflow_y": null,
            "padding": null,
            "right": null,
            "top": null,
            "visibility": null,
            "width": null
          }
        },
        "c8d8b06d58804055b145d1916c218c03": {
          "model_module": "@jupyter-widgets/controls",
          "model_name": "DescriptionStyleModel",
          "model_module_version": "1.5.0",
          "state": {
            "_model_module": "@jupyter-widgets/controls",
            "_model_module_version": "1.5.0",
            "_model_name": "DescriptionStyleModel",
            "_view_count": null,
            "_view_module": "@jupyter-widgets/base",
            "_view_module_version": "1.2.0",
            "_view_name": "StyleView",
            "description_width": ""
          }
        },
        "3b9dde0579804134ae98563c8bd467c9": {
          "model_module": "@jupyter-widgets/base",
          "model_name": "LayoutModel",
          "model_module_version": "1.2.0",
          "state": {
            "_model_module": "@jupyter-widgets/base",
            "_model_module_version": "1.2.0",
            "_model_name": "LayoutModel",
            "_view_count": null,
            "_view_module": "@jupyter-widgets/base",
            "_view_module_version": "1.2.0",
            "_view_name": "LayoutView",
            "align_content": null,
            "align_items": null,
            "align_self": null,
            "border": null,
            "bottom": null,
            "display": null,
            "flex": null,
            "flex_flow": null,
            "grid_area": null,
            "grid_auto_columns": null,
            "grid_auto_flow": null,
            "grid_auto_rows": null,
            "grid_column": null,
            "grid_gap": null,
            "grid_row": null,
            "grid_template_areas": null,
            "grid_template_columns": null,
            "grid_template_rows": null,
            "height": null,
            "justify_content": null,
            "justify_items": null,
            "left": null,
            "margin": null,
            "max_height": null,
            "max_width": null,
            "min_height": null,
            "min_width": null,
            "object_fit": null,
            "object_position": null,
            "order": null,
            "overflow": null,
            "overflow_x": null,
            "overflow_y": null,
            "padding": null,
            "right": null,
            "top": null,
            "visibility": null,
            "width": null
          }
        },
        "ead44dcad8aa4ab1a2ad99e3ea9d2d40": {
          "model_module": "@jupyter-widgets/controls",
          "model_name": "ProgressStyleModel",
          "model_module_version": "1.5.0",
          "state": {
            "_model_module": "@jupyter-widgets/controls",
            "_model_module_version": "1.5.0",
            "_model_name": "ProgressStyleModel",
            "_view_count": null,
            "_view_module": "@jupyter-widgets/base",
            "_view_module_version": "1.2.0",
            "_view_name": "StyleView",
            "bar_color": null,
            "description_width": ""
          }
        },
        "c5f466c3328c4de18b263a4078a1436e": {
          "model_module": "@jupyter-widgets/base",
          "model_name": "LayoutModel",
          "model_module_version": "1.2.0",
          "state": {
            "_model_module": "@jupyter-widgets/base",
            "_model_module_version": "1.2.0",
            "_model_name": "LayoutModel",
            "_view_count": null,
            "_view_module": "@jupyter-widgets/base",
            "_view_module_version": "1.2.0",
            "_view_name": "LayoutView",
            "align_content": null,
            "align_items": null,
            "align_self": null,
            "border": null,
            "bottom": null,
            "display": null,
            "flex": null,
            "flex_flow": null,
            "grid_area": null,
            "grid_auto_columns": null,
            "grid_auto_flow": null,
            "grid_auto_rows": null,
            "grid_column": null,
            "grid_gap": null,
            "grid_row": null,
            "grid_template_areas": null,
            "grid_template_columns": null,
            "grid_template_rows": null,
            "height": null,
            "justify_content": null,
            "justify_items": null,
            "left": null,
            "margin": null,
            "max_height": null,
            "max_width": null,
            "min_height": null,
            "min_width": null,
            "object_fit": null,
            "object_position": null,
            "order": null,
            "overflow": null,
            "overflow_x": null,
            "overflow_y": null,
            "padding": null,
            "right": null,
            "top": null,
            "visibility": null,
            "width": null
          }
        },
        "1be1a154cca644eca0a0afd36add863c": {
          "model_module": "@jupyter-widgets/controls",
          "model_name": "DescriptionStyleModel",
          "model_module_version": "1.5.0",
          "state": {
            "_model_module": "@jupyter-widgets/controls",
            "_model_module_version": "1.5.0",
            "_model_name": "DescriptionStyleModel",
            "_view_count": null,
            "_view_module": "@jupyter-widgets/base",
            "_view_module_version": "1.2.0",
            "_view_name": "StyleView",
            "description_width": ""
          }
        },
        "90c29558a5a84e0681df5e46cf06fe50": {
          "model_module": "@jupyter-widgets/controls",
          "model_name": "HBoxModel",
          "model_module_version": "1.5.0",
          "state": {
            "_dom_classes": [],
            "_model_module": "@jupyter-widgets/controls",
            "_model_module_version": "1.5.0",
            "_model_name": "HBoxModel",
            "_view_count": null,
            "_view_module": "@jupyter-widgets/controls",
            "_view_module_version": "1.5.0",
            "_view_name": "HBoxView",
            "box_style": "",
            "children": [
              "IPY_MODEL_1005e4fe943b4d07bd4ab8e47e448f1d",
              "IPY_MODEL_391d51d0044f4b11a3db65f84504bd70",
              "IPY_MODEL_450732befba244b5a474988d950e373c"
            ],
            "layout": "IPY_MODEL_917d71a92513405eb98e129b30020b1a"
          }
        },
        "1005e4fe943b4d07bd4ab8e47e448f1d": {
          "model_module": "@jupyter-widgets/controls",
          "model_name": "HTMLModel",
          "model_module_version": "1.5.0",
          "state": {
            "_dom_classes": [],
            "_model_module": "@jupyter-widgets/controls",
            "_model_module_version": "1.5.0",
            "_model_name": "HTMLModel",
            "_view_count": null,
            "_view_module": "@jupyter-widgets/controls",
            "_view_module_version": "1.5.0",
            "_view_name": "HTMLView",
            "description": "",
            "description_tooltip": null,
            "layout": "IPY_MODEL_a4138e4b256d45098cce80c18bb653a2",
            "placeholder": "​",
            "style": "IPY_MODEL_d33b6db0e9c44ac986ff9e78f2afbee1",
            "value": "Generating test examples...:  85%"
          }
        },
        "391d51d0044f4b11a3db65f84504bd70": {
          "model_module": "@jupyter-widgets/controls",
          "model_name": "FloatProgressModel",
          "model_module_version": "1.5.0",
          "state": {
            "_dom_classes": [],
            "_model_module": "@jupyter-widgets/controls",
            "_model_module_version": "1.5.0",
            "_model_name": "FloatProgressModel",
            "_view_count": null,
            "_view_module": "@jupyter-widgets/controls",
            "_view_module_version": "1.5.0",
            "_view_name": "ProgressView",
            "bar_style": "",
            "description": "",
            "description_tooltip": null,
            "layout": "IPY_MODEL_e2c73193203f490789e7ea0151467f7c",
            "max": 25000,
            "min": 0,
            "orientation": "horizontal",
            "style": "IPY_MODEL_11ff436047044d9daa6789a92b57a038",
            "value": 25000
          }
        },
        "450732befba244b5a474988d950e373c": {
          "model_module": "@jupyter-widgets/controls",
          "model_name": "HTMLModel",
          "model_module_version": "1.5.0",
          "state": {
            "_dom_classes": [],
            "_model_module": "@jupyter-widgets/controls",
            "_model_module_version": "1.5.0",
            "_model_name": "HTMLModel",
            "_view_count": null,
            "_view_module": "@jupyter-widgets/controls",
            "_view_module_version": "1.5.0",
            "_view_name": "HTMLView",
            "description": "",
            "description_tooltip": null,
            "layout": "IPY_MODEL_247b46402637440492d25989c04fa759",
            "placeholder": "​",
            "style": "IPY_MODEL_e7ab8f633e0040efa290167d1be500b0",
            "value": " 21238/25000 [00:04&lt;00:00, 5445.43 examples/s]"
          }
        },
        "917d71a92513405eb98e129b30020b1a": {
          "model_module": "@jupyter-widgets/base",
          "model_name": "LayoutModel",
          "model_module_version": "1.2.0",
          "state": {
            "_model_module": "@jupyter-widgets/base",
            "_model_module_version": "1.2.0",
            "_model_name": "LayoutModel",
            "_view_count": null,
            "_view_module": "@jupyter-widgets/base",
            "_view_module_version": "1.2.0",
            "_view_name": "LayoutView",
            "align_content": null,
            "align_items": null,
            "align_self": null,
            "border": null,
            "bottom": null,
            "display": null,
            "flex": null,
            "flex_flow": null,
            "grid_area": null,
            "grid_auto_columns": null,
            "grid_auto_flow": null,
            "grid_auto_rows": null,
            "grid_column": null,
            "grid_gap": null,
            "grid_row": null,
            "grid_template_areas": null,
            "grid_template_columns": null,
            "grid_template_rows": null,
            "height": null,
            "justify_content": null,
            "justify_items": null,
            "left": null,
            "margin": null,
            "max_height": null,
            "max_width": null,
            "min_height": null,
            "min_width": null,
            "object_fit": null,
            "object_position": null,
            "order": null,
            "overflow": null,
            "overflow_x": null,
            "overflow_y": null,
            "padding": null,
            "right": null,
            "top": null,
            "visibility": "hidden",
            "width": null
          }
        },
        "a4138e4b256d45098cce80c18bb653a2": {
          "model_module": "@jupyter-widgets/base",
          "model_name": "LayoutModel",
          "model_module_version": "1.2.0",
          "state": {
            "_model_module": "@jupyter-widgets/base",
            "_model_module_version": "1.2.0",
            "_model_name": "LayoutModel",
            "_view_count": null,
            "_view_module": "@jupyter-widgets/base",
            "_view_module_version": "1.2.0",
            "_view_name": "LayoutView",
            "align_content": null,
            "align_items": null,
            "align_self": null,
            "border": null,
            "bottom": null,
            "display": null,
            "flex": null,
            "flex_flow": null,
            "grid_area": null,
            "grid_auto_columns": null,
            "grid_auto_flow": null,
            "grid_auto_rows": null,
            "grid_column": null,
            "grid_gap": null,
            "grid_row": null,
            "grid_template_areas": null,
            "grid_template_columns": null,
            "grid_template_rows": null,
            "height": null,
            "justify_content": null,
            "justify_items": null,
            "left": null,
            "margin": null,
            "max_height": null,
            "max_width": null,
            "min_height": null,
            "min_width": null,
            "object_fit": null,
            "object_position": null,
            "order": null,
            "overflow": null,
            "overflow_x": null,
            "overflow_y": null,
            "padding": null,
            "right": null,
            "top": null,
            "visibility": null,
            "width": null
          }
        },
        "d33b6db0e9c44ac986ff9e78f2afbee1": {
          "model_module": "@jupyter-widgets/controls",
          "model_name": "DescriptionStyleModel",
          "model_module_version": "1.5.0",
          "state": {
            "_model_module": "@jupyter-widgets/controls",
            "_model_module_version": "1.5.0",
            "_model_name": "DescriptionStyleModel",
            "_view_count": null,
            "_view_module": "@jupyter-widgets/base",
            "_view_module_version": "1.2.0",
            "_view_name": "StyleView",
            "description_width": ""
          }
        },
        "e2c73193203f490789e7ea0151467f7c": {
          "model_module": "@jupyter-widgets/base",
          "model_name": "LayoutModel",
          "model_module_version": "1.2.0",
          "state": {
            "_model_module": "@jupyter-widgets/base",
            "_model_module_version": "1.2.0",
            "_model_name": "LayoutModel",
            "_view_count": null,
            "_view_module": "@jupyter-widgets/base",
            "_view_module_version": "1.2.0",
            "_view_name": "LayoutView",
            "align_content": null,
            "align_items": null,
            "align_self": null,
            "border": null,
            "bottom": null,
            "display": null,
            "flex": null,
            "flex_flow": null,
            "grid_area": null,
            "grid_auto_columns": null,
            "grid_auto_flow": null,
            "grid_auto_rows": null,
            "grid_column": null,
            "grid_gap": null,
            "grid_row": null,
            "grid_template_areas": null,
            "grid_template_columns": null,
            "grid_template_rows": null,
            "height": null,
            "justify_content": null,
            "justify_items": null,
            "left": null,
            "margin": null,
            "max_height": null,
            "max_width": null,
            "min_height": null,
            "min_width": null,
            "object_fit": null,
            "object_position": null,
            "order": null,
            "overflow": null,
            "overflow_x": null,
            "overflow_y": null,
            "padding": null,
            "right": null,
            "top": null,
            "visibility": null,
            "width": null
          }
        },
        "11ff436047044d9daa6789a92b57a038": {
          "model_module": "@jupyter-widgets/controls",
          "model_name": "ProgressStyleModel",
          "model_module_version": "1.5.0",
          "state": {
            "_model_module": "@jupyter-widgets/controls",
            "_model_module_version": "1.5.0",
            "_model_name": "ProgressStyleModel",
            "_view_count": null,
            "_view_module": "@jupyter-widgets/base",
            "_view_module_version": "1.2.0",
            "_view_name": "StyleView",
            "bar_color": null,
            "description_width": ""
          }
        },
        "247b46402637440492d25989c04fa759": {
          "model_module": "@jupyter-widgets/base",
          "model_name": "LayoutModel",
          "model_module_version": "1.2.0",
          "state": {
            "_model_module": "@jupyter-widgets/base",
            "_model_module_version": "1.2.0",
            "_model_name": "LayoutModel",
            "_view_count": null,
            "_view_module": "@jupyter-widgets/base",
            "_view_module_version": "1.2.0",
            "_view_name": "LayoutView",
            "align_content": null,
            "align_items": null,
            "align_self": null,
            "border": null,
            "bottom": null,
            "display": null,
            "flex": null,
            "flex_flow": null,
            "grid_area": null,
            "grid_auto_columns": null,
            "grid_auto_flow": null,
            "grid_auto_rows": null,
            "grid_column": null,
            "grid_gap": null,
            "grid_row": null,
            "grid_template_areas": null,
            "grid_template_columns": null,
            "grid_template_rows": null,
            "height": null,
            "justify_content": null,
            "justify_items": null,
            "left": null,
            "margin": null,
            "max_height": null,
            "max_width": null,
            "min_height": null,
            "min_width": null,
            "object_fit": null,
            "object_position": null,
            "order": null,
            "overflow": null,
            "overflow_x": null,
            "overflow_y": null,
            "padding": null,
            "right": null,
            "top": null,
            "visibility": null,
            "width": null
          }
        },
        "e7ab8f633e0040efa290167d1be500b0": {
          "model_module": "@jupyter-widgets/controls",
          "model_name": "DescriptionStyleModel",
          "model_module_version": "1.5.0",
          "state": {
            "_model_module": "@jupyter-widgets/controls",
            "_model_module_version": "1.5.0",
            "_model_name": "DescriptionStyleModel",
            "_view_count": null,
            "_view_module": "@jupyter-widgets/base",
            "_view_module_version": "1.2.0",
            "_view_name": "StyleView",
            "description_width": ""
          }
        },
        "58d5df92a9a2415cbdd3921f711ae1da": {
          "model_module": "@jupyter-widgets/controls",
          "model_name": "HBoxModel",
          "model_module_version": "1.5.0",
          "state": {
            "_dom_classes": [],
            "_model_module": "@jupyter-widgets/controls",
            "_model_module_version": "1.5.0",
            "_model_name": "HBoxModel",
            "_view_count": null,
            "_view_module": "@jupyter-widgets/controls",
            "_view_module_version": "1.5.0",
            "_view_name": "HBoxView",
            "box_style": "",
            "children": [
              "IPY_MODEL_2de1bb4d67e34c00ac3aa68428a8cb59",
              "IPY_MODEL_8431fc8f06b944bda1d5f3061aee37c4",
              "IPY_MODEL_40ae2b345e6c4e05a4ed0225fe3f8f53"
            ],
            "layout": "IPY_MODEL_b2ab5fc37a224de4aec06c1c4b2635ad"
          }
        },
        "2de1bb4d67e34c00ac3aa68428a8cb59": {
          "model_module": "@jupyter-widgets/controls",
          "model_name": "HTMLModel",
          "model_module_version": "1.5.0",
          "state": {
            "_dom_classes": [],
            "_model_module": "@jupyter-widgets/controls",
            "_model_module_version": "1.5.0",
            "_model_name": "HTMLModel",
            "_view_count": null,
            "_view_module": "@jupyter-widgets/controls",
            "_view_module_version": "1.5.0",
            "_view_name": "HTMLView",
            "description": "",
            "description_tooltip": null,
            "layout": "IPY_MODEL_dc8b9db4189e4d9495dedc7b69fca7c5",
            "placeholder": "​",
            "style": "IPY_MODEL_8c2ada537dac4be1be71240e5158e064",
            "value": "Shuffling /root/tensorflow_datasets/imdb_reviews/plain_text/1.0.0.incompleteTEJ9EG/imdb_reviews-test.tfrecord*...:  68%"
          }
        },
        "8431fc8f06b944bda1d5f3061aee37c4": {
          "model_module": "@jupyter-widgets/controls",
          "model_name": "FloatProgressModel",
          "model_module_version": "1.5.0",
          "state": {
            "_dom_classes": [],
            "_model_module": "@jupyter-widgets/controls",
            "_model_module_version": "1.5.0",
            "_model_name": "FloatProgressModel",
            "_view_count": null,
            "_view_module": "@jupyter-widgets/controls",
            "_view_module_version": "1.5.0",
            "_view_name": "ProgressView",
            "bar_style": "",
            "description": "",
            "description_tooltip": null,
            "layout": "IPY_MODEL_d6323e3ae59d4fd3a2bf81d05ee6bab4",
            "max": 25000,
            "min": 0,
            "orientation": "horizontal",
            "style": "IPY_MODEL_d1c958a7f2aa4baf9b524b154bc1c211",
            "value": 25000
          }
        },
        "40ae2b345e6c4e05a4ed0225fe3f8f53": {
          "model_module": "@jupyter-widgets/controls",
          "model_name": "HTMLModel",
          "model_module_version": "1.5.0",
          "state": {
            "_dom_classes": [],
            "_model_module": "@jupyter-widgets/controls",
            "_model_module_version": "1.5.0",
            "_model_name": "HTMLModel",
            "_view_count": null,
            "_view_module": "@jupyter-widgets/controls",
            "_view_module_version": "1.5.0",
            "_view_name": "HTMLView",
            "description": "",
            "description_tooltip": null,
            "layout": "IPY_MODEL_5f922801d3a94fcabb45dee1aa12dcd3",
            "placeholder": "​",
            "style": "IPY_MODEL_afaac07644bd4ad2b27fef46e6b34ac7",
            "value": " 16961/25000 [00:00&lt;00:00, 169583.48 examples/s]"
          }
        },
        "b2ab5fc37a224de4aec06c1c4b2635ad": {
          "model_module": "@jupyter-widgets/base",
          "model_name": "LayoutModel",
          "model_module_version": "1.2.0",
          "state": {
            "_model_module": "@jupyter-widgets/base",
            "_model_module_version": "1.2.0",
            "_model_name": "LayoutModel",
            "_view_count": null,
            "_view_module": "@jupyter-widgets/base",
            "_view_module_version": "1.2.0",
            "_view_name": "LayoutView",
            "align_content": null,
            "align_items": null,
            "align_self": null,
            "border": null,
            "bottom": null,
            "display": null,
            "flex": null,
            "flex_flow": null,
            "grid_area": null,
            "grid_auto_columns": null,
            "grid_auto_flow": null,
            "grid_auto_rows": null,
            "grid_column": null,
            "grid_gap": null,
            "grid_row": null,
            "grid_template_areas": null,
            "grid_template_columns": null,
            "grid_template_rows": null,
            "height": null,
            "justify_content": null,
            "justify_items": null,
            "left": null,
            "margin": null,
            "max_height": null,
            "max_width": null,
            "min_height": null,
            "min_width": null,
            "object_fit": null,
            "object_position": null,
            "order": null,
            "overflow": null,
            "overflow_x": null,
            "overflow_y": null,
            "padding": null,
            "right": null,
            "top": null,
            "visibility": "hidden",
            "width": null
          }
        },
        "dc8b9db4189e4d9495dedc7b69fca7c5": {
          "model_module": "@jupyter-widgets/base",
          "model_name": "LayoutModel",
          "model_module_version": "1.2.0",
          "state": {
            "_model_module": "@jupyter-widgets/base",
            "_model_module_version": "1.2.0",
            "_model_name": "LayoutModel",
            "_view_count": null,
            "_view_module": "@jupyter-widgets/base",
            "_view_module_version": "1.2.0",
            "_view_name": "LayoutView",
            "align_content": null,
            "align_items": null,
            "align_self": null,
            "border": null,
            "bottom": null,
            "display": null,
            "flex": null,
            "flex_flow": null,
            "grid_area": null,
            "grid_auto_columns": null,
            "grid_auto_flow": null,
            "grid_auto_rows": null,
            "grid_column": null,
            "grid_gap": null,
            "grid_row": null,
            "grid_template_areas": null,
            "grid_template_columns": null,
            "grid_template_rows": null,
            "height": null,
            "justify_content": null,
            "justify_items": null,
            "left": null,
            "margin": null,
            "max_height": null,
            "max_width": null,
            "min_height": null,
            "min_width": null,
            "object_fit": null,
            "object_position": null,
            "order": null,
            "overflow": null,
            "overflow_x": null,
            "overflow_y": null,
            "padding": null,
            "right": null,
            "top": null,
            "visibility": null,
            "width": null
          }
        },
        "8c2ada537dac4be1be71240e5158e064": {
          "model_module": "@jupyter-widgets/controls",
          "model_name": "DescriptionStyleModel",
          "model_module_version": "1.5.0",
          "state": {
            "_model_module": "@jupyter-widgets/controls",
            "_model_module_version": "1.5.0",
            "_model_name": "DescriptionStyleModel",
            "_view_count": null,
            "_view_module": "@jupyter-widgets/base",
            "_view_module_version": "1.2.0",
            "_view_name": "StyleView",
            "description_width": ""
          }
        },
        "d6323e3ae59d4fd3a2bf81d05ee6bab4": {
          "model_module": "@jupyter-widgets/base",
          "model_name": "LayoutModel",
          "model_module_version": "1.2.0",
          "state": {
            "_model_module": "@jupyter-widgets/base",
            "_model_module_version": "1.2.0",
            "_model_name": "LayoutModel",
            "_view_count": null,
            "_view_module": "@jupyter-widgets/base",
            "_view_module_version": "1.2.0",
            "_view_name": "LayoutView",
            "align_content": null,
            "align_items": null,
            "align_self": null,
            "border": null,
            "bottom": null,
            "display": null,
            "flex": null,
            "flex_flow": null,
            "grid_area": null,
            "grid_auto_columns": null,
            "grid_auto_flow": null,
            "grid_auto_rows": null,
            "grid_column": null,
            "grid_gap": null,
            "grid_row": null,
            "grid_template_areas": null,
            "grid_template_columns": null,
            "grid_template_rows": null,
            "height": null,
            "justify_content": null,
            "justify_items": null,
            "left": null,
            "margin": null,
            "max_height": null,
            "max_width": null,
            "min_height": null,
            "min_width": null,
            "object_fit": null,
            "object_position": null,
            "order": null,
            "overflow": null,
            "overflow_x": null,
            "overflow_y": null,
            "padding": null,
            "right": null,
            "top": null,
            "visibility": null,
            "width": null
          }
        },
        "d1c958a7f2aa4baf9b524b154bc1c211": {
          "model_module": "@jupyter-widgets/controls",
          "model_name": "ProgressStyleModel",
          "model_module_version": "1.5.0",
          "state": {
            "_model_module": "@jupyter-widgets/controls",
            "_model_module_version": "1.5.0",
            "_model_name": "ProgressStyleModel",
            "_view_count": null,
            "_view_module": "@jupyter-widgets/base",
            "_view_module_version": "1.2.0",
            "_view_name": "StyleView",
            "bar_color": null,
            "description_width": ""
          }
        },
        "5f922801d3a94fcabb45dee1aa12dcd3": {
          "model_module": "@jupyter-widgets/base",
          "model_name": "LayoutModel",
          "model_module_version": "1.2.0",
          "state": {
            "_model_module": "@jupyter-widgets/base",
            "_model_module_version": "1.2.0",
            "_model_name": "LayoutModel",
            "_view_count": null,
            "_view_module": "@jupyter-widgets/base",
            "_view_module_version": "1.2.0",
            "_view_name": "LayoutView",
            "align_content": null,
            "align_items": null,
            "align_self": null,
            "border": null,
            "bottom": null,
            "display": null,
            "flex": null,
            "flex_flow": null,
            "grid_area": null,
            "grid_auto_columns": null,
            "grid_auto_flow": null,
            "grid_auto_rows": null,
            "grid_column": null,
            "grid_gap": null,
            "grid_row": null,
            "grid_template_areas": null,
            "grid_template_columns": null,
            "grid_template_rows": null,
            "height": null,
            "justify_content": null,
            "justify_items": null,
            "left": null,
            "margin": null,
            "max_height": null,
            "max_width": null,
            "min_height": null,
            "min_width": null,
            "object_fit": null,
            "object_position": null,
            "order": null,
            "overflow": null,
            "overflow_x": null,
            "overflow_y": null,
            "padding": null,
            "right": null,
            "top": null,
            "visibility": null,
            "width": null
          }
        },
        "afaac07644bd4ad2b27fef46e6b34ac7": {
          "model_module": "@jupyter-widgets/controls",
          "model_name": "DescriptionStyleModel",
          "model_module_version": "1.5.0",
          "state": {
            "_model_module": "@jupyter-widgets/controls",
            "_model_module_version": "1.5.0",
            "_model_name": "DescriptionStyleModel",
            "_view_count": null,
            "_view_module": "@jupyter-widgets/base",
            "_view_module_version": "1.2.0",
            "_view_name": "StyleView",
            "description_width": ""
          }
        },
        "d3e4cd29a9c14859b35b9a6484871cbf": {
          "model_module": "@jupyter-widgets/controls",
          "model_name": "HBoxModel",
          "model_module_version": "1.5.0",
          "state": {
            "_dom_classes": [],
            "_model_module": "@jupyter-widgets/controls",
            "_model_module_version": "1.5.0",
            "_model_name": "HBoxModel",
            "_view_count": null,
            "_view_module": "@jupyter-widgets/controls",
            "_view_module_version": "1.5.0",
            "_view_name": "HBoxView",
            "box_style": "",
            "children": [
              "IPY_MODEL_f0b2d8fa0ce141af9d5bb587c558598e",
              "IPY_MODEL_6347ecf7c2714f2080c83942921293dc",
              "IPY_MODEL_cf8b829c70bb44798d7996f31a36fde1"
            ],
            "layout": "IPY_MODEL_032193ac83e64020ab155ba2451be961"
          }
        },
        "f0b2d8fa0ce141af9d5bb587c558598e": {
          "model_module": "@jupyter-widgets/controls",
          "model_name": "HTMLModel",
          "model_module_version": "1.5.0",
          "state": {
            "_dom_classes": [],
            "_model_module": "@jupyter-widgets/controls",
            "_model_module_version": "1.5.0",
            "_model_name": "HTMLModel",
            "_view_count": null,
            "_view_module": "@jupyter-widgets/controls",
            "_view_module_version": "1.5.0",
            "_view_name": "HTMLView",
            "description": "",
            "description_tooltip": null,
            "layout": "IPY_MODEL_ab6f5a85005c4a7a80d80e6d081e91bd",
            "placeholder": "​",
            "style": "IPY_MODEL_fe5e42d3169048c38bd34034d3689926",
            "value": "Generating unsupervised examples...:  89%"
          }
        },
        "6347ecf7c2714f2080c83942921293dc": {
          "model_module": "@jupyter-widgets/controls",
          "model_name": "FloatProgressModel",
          "model_module_version": "1.5.0",
          "state": {
            "_dom_classes": [],
            "_model_module": "@jupyter-widgets/controls",
            "_model_module_version": "1.5.0",
            "_model_name": "FloatProgressModel",
            "_view_count": null,
            "_view_module": "@jupyter-widgets/controls",
            "_view_module_version": "1.5.0",
            "_view_name": "ProgressView",
            "bar_style": "",
            "description": "",
            "description_tooltip": null,
            "layout": "IPY_MODEL_4c15515d882c46b19ffb2fca5d0d9eb9",
            "max": 50000,
            "min": 0,
            "orientation": "horizontal",
            "style": "IPY_MODEL_558faa50c988476681ac6787a7260409",
            "value": 50000
          }
        },
        "cf8b829c70bb44798d7996f31a36fde1": {
          "model_module": "@jupyter-widgets/controls",
          "model_name": "HTMLModel",
          "model_module_version": "1.5.0",
          "state": {
            "_dom_classes": [],
            "_model_module": "@jupyter-widgets/controls",
            "_model_module_version": "1.5.0",
            "_model_name": "HTMLModel",
            "_view_count": null,
            "_view_module": "@jupyter-widgets/controls",
            "_view_module_version": "1.5.0",
            "_view_name": "HTMLView",
            "description": "",
            "description_tooltip": null,
            "layout": "IPY_MODEL_960537001c0a4684a52fa1aa43ec12db",
            "placeholder": "​",
            "style": "IPY_MODEL_e2f448f33ced425f8d282fbc4cd06b86",
            "value": " 44690/50000 [00:10&lt;00:00, 5784.88 examples/s]"
          }
        },
        "032193ac83e64020ab155ba2451be961": {
          "model_module": "@jupyter-widgets/base",
          "model_name": "LayoutModel",
          "model_module_version": "1.2.0",
          "state": {
            "_model_module": "@jupyter-widgets/base",
            "_model_module_version": "1.2.0",
            "_model_name": "LayoutModel",
            "_view_count": null,
            "_view_module": "@jupyter-widgets/base",
            "_view_module_version": "1.2.0",
            "_view_name": "LayoutView",
            "align_content": null,
            "align_items": null,
            "align_self": null,
            "border": null,
            "bottom": null,
            "display": null,
            "flex": null,
            "flex_flow": null,
            "grid_area": null,
            "grid_auto_columns": null,
            "grid_auto_flow": null,
            "grid_auto_rows": null,
            "grid_column": null,
            "grid_gap": null,
            "grid_row": null,
            "grid_template_areas": null,
            "grid_template_columns": null,
            "grid_template_rows": null,
            "height": null,
            "justify_content": null,
            "justify_items": null,
            "left": null,
            "margin": null,
            "max_height": null,
            "max_width": null,
            "min_height": null,
            "min_width": null,
            "object_fit": null,
            "object_position": null,
            "order": null,
            "overflow": null,
            "overflow_x": null,
            "overflow_y": null,
            "padding": null,
            "right": null,
            "top": null,
            "visibility": "hidden",
            "width": null
          }
        },
        "ab6f5a85005c4a7a80d80e6d081e91bd": {
          "model_module": "@jupyter-widgets/base",
          "model_name": "LayoutModel",
          "model_module_version": "1.2.0",
          "state": {
            "_model_module": "@jupyter-widgets/base",
            "_model_module_version": "1.2.0",
            "_model_name": "LayoutModel",
            "_view_count": null,
            "_view_module": "@jupyter-widgets/base",
            "_view_module_version": "1.2.0",
            "_view_name": "LayoutView",
            "align_content": null,
            "align_items": null,
            "align_self": null,
            "border": null,
            "bottom": null,
            "display": null,
            "flex": null,
            "flex_flow": null,
            "grid_area": null,
            "grid_auto_columns": null,
            "grid_auto_flow": null,
            "grid_auto_rows": null,
            "grid_column": null,
            "grid_gap": null,
            "grid_row": null,
            "grid_template_areas": null,
            "grid_template_columns": null,
            "grid_template_rows": null,
            "height": null,
            "justify_content": null,
            "justify_items": null,
            "left": null,
            "margin": null,
            "max_height": null,
            "max_width": null,
            "min_height": null,
            "min_width": null,
            "object_fit": null,
            "object_position": null,
            "order": null,
            "overflow": null,
            "overflow_x": null,
            "overflow_y": null,
            "padding": null,
            "right": null,
            "top": null,
            "visibility": null,
            "width": null
          }
        },
        "fe5e42d3169048c38bd34034d3689926": {
          "model_module": "@jupyter-widgets/controls",
          "model_name": "DescriptionStyleModel",
          "model_module_version": "1.5.0",
          "state": {
            "_model_module": "@jupyter-widgets/controls",
            "_model_module_version": "1.5.0",
            "_model_name": "DescriptionStyleModel",
            "_view_count": null,
            "_view_module": "@jupyter-widgets/base",
            "_view_module_version": "1.2.0",
            "_view_name": "StyleView",
            "description_width": ""
          }
        },
        "4c15515d882c46b19ffb2fca5d0d9eb9": {
          "model_module": "@jupyter-widgets/base",
          "model_name": "LayoutModel",
          "model_module_version": "1.2.0",
          "state": {
            "_model_module": "@jupyter-widgets/base",
            "_model_module_version": "1.2.0",
            "_model_name": "LayoutModel",
            "_view_count": null,
            "_view_module": "@jupyter-widgets/base",
            "_view_module_version": "1.2.0",
            "_view_name": "LayoutView",
            "align_content": null,
            "align_items": null,
            "align_self": null,
            "border": null,
            "bottom": null,
            "display": null,
            "flex": null,
            "flex_flow": null,
            "grid_area": null,
            "grid_auto_columns": null,
            "grid_auto_flow": null,
            "grid_auto_rows": null,
            "grid_column": null,
            "grid_gap": null,
            "grid_row": null,
            "grid_template_areas": null,
            "grid_template_columns": null,
            "grid_template_rows": null,
            "height": null,
            "justify_content": null,
            "justify_items": null,
            "left": null,
            "margin": null,
            "max_height": null,
            "max_width": null,
            "min_height": null,
            "min_width": null,
            "object_fit": null,
            "object_position": null,
            "order": null,
            "overflow": null,
            "overflow_x": null,
            "overflow_y": null,
            "padding": null,
            "right": null,
            "top": null,
            "visibility": null,
            "width": null
          }
        },
        "558faa50c988476681ac6787a7260409": {
          "model_module": "@jupyter-widgets/controls",
          "model_name": "ProgressStyleModel",
          "model_module_version": "1.5.0",
          "state": {
            "_model_module": "@jupyter-widgets/controls",
            "_model_module_version": "1.5.0",
            "_model_name": "ProgressStyleModel",
            "_view_count": null,
            "_view_module": "@jupyter-widgets/base",
            "_view_module_version": "1.2.0",
            "_view_name": "StyleView",
            "bar_color": null,
            "description_width": ""
          }
        },
        "960537001c0a4684a52fa1aa43ec12db": {
          "model_module": "@jupyter-widgets/base",
          "model_name": "LayoutModel",
          "model_module_version": "1.2.0",
          "state": {
            "_model_module": "@jupyter-widgets/base",
            "_model_module_version": "1.2.0",
            "_model_name": "LayoutModel",
            "_view_count": null,
            "_view_module": "@jupyter-widgets/base",
            "_view_module_version": "1.2.0",
            "_view_name": "LayoutView",
            "align_content": null,
            "align_items": null,
            "align_self": null,
            "border": null,
            "bottom": null,
            "display": null,
            "flex": null,
            "flex_flow": null,
            "grid_area": null,
            "grid_auto_columns": null,
            "grid_auto_flow": null,
            "grid_auto_rows": null,
            "grid_column": null,
            "grid_gap": null,
            "grid_row": null,
            "grid_template_areas": null,
            "grid_template_columns": null,
            "grid_template_rows": null,
            "height": null,
            "justify_content": null,
            "justify_items": null,
            "left": null,
            "margin": null,
            "max_height": null,
            "max_width": null,
            "min_height": null,
            "min_width": null,
            "object_fit": null,
            "object_position": null,
            "order": null,
            "overflow": null,
            "overflow_x": null,
            "overflow_y": null,
            "padding": null,
            "right": null,
            "top": null,
            "visibility": null,
            "width": null
          }
        },
        "e2f448f33ced425f8d282fbc4cd06b86": {
          "model_module": "@jupyter-widgets/controls",
          "model_name": "DescriptionStyleModel",
          "model_module_version": "1.5.0",
          "state": {
            "_model_module": "@jupyter-widgets/controls",
            "_model_module_version": "1.5.0",
            "_model_name": "DescriptionStyleModel",
            "_view_count": null,
            "_view_module": "@jupyter-widgets/base",
            "_view_module_version": "1.2.0",
            "_view_name": "StyleView",
            "description_width": ""
          }
        },
        "8bc6f30ba81948a79f15a2118efbcd23": {
          "model_module": "@jupyter-widgets/controls",
          "model_name": "HBoxModel",
          "model_module_version": "1.5.0",
          "state": {
            "_dom_classes": [],
            "_model_module": "@jupyter-widgets/controls",
            "_model_module_version": "1.5.0",
            "_model_name": "HBoxModel",
            "_view_count": null,
            "_view_module": "@jupyter-widgets/controls",
            "_view_module_version": "1.5.0",
            "_view_name": "HBoxView",
            "box_style": "",
            "children": [
              "IPY_MODEL_d2e26ae8c8044a58b07ce23ff54200cb",
              "IPY_MODEL_4646037e3f494e9eb40adf5ef8088ab8",
              "IPY_MODEL_bb9c3788e4264b4eb1d370ec1dcdea35"
            ],
            "layout": "IPY_MODEL_cd66ea059e164b289ab20ac7f24a75e3"
          }
        },
        "d2e26ae8c8044a58b07ce23ff54200cb": {
          "model_module": "@jupyter-widgets/controls",
          "model_name": "HTMLModel",
          "model_module_version": "1.5.0",
          "state": {
            "_dom_classes": [],
            "_model_module": "@jupyter-widgets/controls",
            "_model_module_version": "1.5.0",
            "_model_name": "HTMLModel",
            "_view_count": null,
            "_view_module": "@jupyter-widgets/controls",
            "_view_module_version": "1.5.0",
            "_view_name": "HTMLView",
            "description": "",
            "description_tooltip": null,
            "layout": "IPY_MODEL_71a16e63411a4d75b7a3c30d66f51430",
            "placeholder": "​",
            "style": "IPY_MODEL_b2ed580e63f3499dbab64293afaa43aa",
            "value": "Shuffling /root/tensorflow_datasets/imdb_reviews/plain_text/1.0.0.incompleteTEJ9EG/imdb_reviews-unsupervised.tfrecord*...:  70%"
          }
        },
        "4646037e3f494e9eb40adf5ef8088ab8": {
          "model_module": "@jupyter-widgets/controls",
          "model_name": "FloatProgressModel",
          "model_module_version": "1.5.0",
          "state": {
            "_dom_classes": [],
            "_model_module": "@jupyter-widgets/controls",
            "_model_module_version": "1.5.0",
            "_model_name": "FloatProgressModel",
            "_view_count": null,
            "_view_module": "@jupyter-widgets/controls",
            "_view_module_version": "1.5.0",
            "_view_name": "ProgressView",
            "bar_style": "",
            "description": "",
            "description_tooltip": null,
            "layout": "IPY_MODEL_01809d12ef9a4cc59d0790bbdf0d51c5",
            "max": 50000,
            "min": 0,
            "orientation": "horizontal",
            "style": "IPY_MODEL_02cf77d497ff46a59402002291878fb0",
            "value": 50000
          }
        },
        "bb9c3788e4264b4eb1d370ec1dcdea35": {
          "model_module": "@jupyter-widgets/controls",
          "model_name": "HTMLModel",
          "model_module_version": "1.5.0",
          "state": {
            "_dom_classes": [],
            "_model_module": "@jupyter-widgets/controls",
            "_model_module_version": "1.5.0",
            "_model_name": "HTMLModel",
            "_view_count": null,
            "_view_module": "@jupyter-widgets/controls",
            "_view_module_version": "1.5.0",
            "_view_name": "HTMLView",
            "description": "",
            "description_tooltip": null,
            "layout": "IPY_MODEL_58284476521f403481a9a40a72b4efa6",
            "placeholder": "​",
            "style": "IPY_MODEL_e52a3be9665c487c9e9e2bc116196822",
            "value": " 35250/50000 [00:00&lt;00:00, 192973.11 examples/s]"
          }
        },
        "cd66ea059e164b289ab20ac7f24a75e3": {
          "model_module": "@jupyter-widgets/base",
          "model_name": "LayoutModel",
          "model_module_version": "1.2.0",
          "state": {
            "_model_module": "@jupyter-widgets/base",
            "_model_module_version": "1.2.0",
            "_model_name": "LayoutModel",
            "_view_count": null,
            "_view_module": "@jupyter-widgets/base",
            "_view_module_version": "1.2.0",
            "_view_name": "LayoutView",
            "align_content": null,
            "align_items": null,
            "align_self": null,
            "border": null,
            "bottom": null,
            "display": null,
            "flex": null,
            "flex_flow": null,
            "grid_area": null,
            "grid_auto_columns": null,
            "grid_auto_flow": null,
            "grid_auto_rows": null,
            "grid_column": null,
            "grid_gap": null,
            "grid_row": null,
            "grid_template_areas": null,
            "grid_template_columns": null,
            "grid_template_rows": null,
            "height": null,
            "justify_content": null,
            "justify_items": null,
            "left": null,
            "margin": null,
            "max_height": null,
            "max_width": null,
            "min_height": null,
            "min_width": null,
            "object_fit": null,
            "object_position": null,
            "order": null,
            "overflow": null,
            "overflow_x": null,
            "overflow_y": null,
            "padding": null,
            "right": null,
            "top": null,
            "visibility": "hidden",
            "width": null
          }
        },
        "71a16e63411a4d75b7a3c30d66f51430": {
          "model_module": "@jupyter-widgets/base",
          "model_name": "LayoutModel",
          "model_module_version": "1.2.0",
          "state": {
            "_model_module": "@jupyter-widgets/base",
            "_model_module_version": "1.2.0",
            "_model_name": "LayoutModel",
            "_view_count": null,
            "_view_module": "@jupyter-widgets/base",
            "_view_module_version": "1.2.0",
            "_view_name": "LayoutView",
            "align_content": null,
            "align_items": null,
            "align_self": null,
            "border": null,
            "bottom": null,
            "display": null,
            "flex": null,
            "flex_flow": null,
            "grid_area": null,
            "grid_auto_columns": null,
            "grid_auto_flow": null,
            "grid_auto_rows": null,
            "grid_column": null,
            "grid_gap": null,
            "grid_row": null,
            "grid_template_areas": null,
            "grid_template_columns": null,
            "grid_template_rows": null,
            "height": null,
            "justify_content": null,
            "justify_items": null,
            "left": null,
            "margin": null,
            "max_height": null,
            "max_width": null,
            "min_height": null,
            "min_width": null,
            "object_fit": null,
            "object_position": null,
            "order": null,
            "overflow": null,
            "overflow_x": null,
            "overflow_y": null,
            "padding": null,
            "right": null,
            "top": null,
            "visibility": null,
            "width": null
          }
        },
        "b2ed580e63f3499dbab64293afaa43aa": {
          "model_module": "@jupyter-widgets/controls",
          "model_name": "DescriptionStyleModel",
          "model_module_version": "1.5.0",
          "state": {
            "_model_module": "@jupyter-widgets/controls",
            "_model_module_version": "1.5.0",
            "_model_name": "DescriptionStyleModel",
            "_view_count": null,
            "_view_module": "@jupyter-widgets/base",
            "_view_module_version": "1.2.0",
            "_view_name": "StyleView",
            "description_width": ""
          }
        },
        "01809d12ef9a4cc59d0790bbdf0d51c5": {
          "model_module": "@jupyter-widgets/base",
          "model_name": "LayoutModel",
          "model_module_version": "1.2.0",
          "state": {
            "_model_module": "@jupyter-widgets/base",
            "_model_module_version": "1.2.0",
            "_model_name": "LayoutModel",
            "_view_count": null,
            "_view_module": "@jupyter-widgets/base",
            "_view_module_version": "1.2.0",
            "_view_name": "LayoutView",
            "align_content": null,
            "align_items": null,
            "align_self": null,
            "border": null,
            "bottom": null,
            "display": null,
            "flex": null,
            "flex_flow": null,
            "grid_area": null,
            "grid_auto_columns": null,
            "grid_auto_flow": null,
            "grid_auto_rows": null,
            "grid_column": null,
            "grid_gap": null,
            "grid_row": null,
            "grid_template_areas": null,
            "grid_template_columns": null,
            "grid_template_rows": null,
            "height": null,
            "justify_content": null,
            "justify_items": null,
            "left": null,
            "margin": null,
            "max_height": null,
            "max_width": null,
            "min_height": null,
            "min_width": null,
            "object_fit": null,
            "object_position": null,
            "order": null,
            "overflow": null,
            "overflow_x": null,
            "overflow_y": null,
            "padding": null,
            "right": null,
            "top": null,
            "visibility": null,
            "width": null
          }
        },
        "02cf77d497ff46a59402002291878fb0": {
          "model_module": "@jupyter-widgets/controls",
          "model_name": "ProgressStyleModel",
          "model_module_version": "1.5.0",
          "state": {
            "_model_module": "@jupyter-widgets/controls",
            "_model_module_version": "1.5.0",
            "_model_name": "ProgressStyleModel",
            "_view_count": null,
            "_view_module": "@jupyter-widgets/base",
            "_view_module_version": "1.2.0",
            "_view_name": "StyleView",
            "bar_color": null,
            "description_width": ""
          }
        },
        "58284476521f403481a9a40a72b4efa6": {
          "model_module": "@jupyter-widgets/base",
          "model_name": "LayoutModel",
          "model_module_version": "1.2.0",
          "state": {
            "_model_module": "@jupyter-widgets/base",
            "_model_module_version": "1.2.0",
            "_model_name": "LayoutModel",
            "_view_count": null,
            "_view_module": "@jupyter-widgets/base",
            "_view_module_version": "1.2.0",
            "_view_name": "LayoutView",
            "align_content": null,
            "align_items": null,
            "align_self": null,
            "border": null,
            "bottom": null,
            "display": null,
            "flex": null,
            "flex_flow": null,
            "grid_area": null,
            "grid_auto_columns": null,
            "grid_auto_flow": null,
            "grid_auto_rows": null,
            "grid_column": null,
            "grid_gap": null,
            "grid_row": null,
            "grid_template_areas": null,
            "grid_template_columns": null,
            "grid_template_rows": null,
            "height": null,
            "justify_content": null,
            "justify_items": null,
            "left": null,
            "margin": null,
            "max_height": null,
            "max_width": null,
            "min_height": null,
            "min_width": null,
            "object_fit": null,
            "object_position": null,
            "order": null,
            "overflow": null,
            "overflow_x": null,
            "overflow_y": null,
            "padding": null,
            "right": null,
            "top": null,
            "visibility": null,
            "width": null
          }
        },
        "e52a3be9665c487c9e9e2bc116196822": {
          "model_module": "@jupyter-widgets/controls",
          "model_name": "DescriptionStyleModel",
          "model_module_version": "1.5.0",
          "state": {
            "_model_module": "@jupyter-widgets/controls",
            "_model_module_version": "1.5.0",
            "_model_name": "DescriptionStyleModel",
            "_view_count": null,
            "_view_module": "@jupyter-widgets/base",
            "_view_module_version": "1.2.0",
            "_view_name": "StyleView",
            "description_width": ""
          }
        }
      }
    }
  },
  "nbformat": 4,
  "nbformat_minor": 5
}