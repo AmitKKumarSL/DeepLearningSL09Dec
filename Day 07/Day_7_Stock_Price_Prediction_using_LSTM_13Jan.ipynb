{
  "cells": [
    {
      "cell_type": "code",
      "execution_count": 1,
      "id": "d97fb638-c196-4224-a9ef-c61544dceb3c",
      "metadata": {
        "id": "d97fb638-c196-4224-a9ef-c61544dceb3c"
      },
      "outputs": [],
      "source": [
        "import warnings\n",
        "warnings.filterwarnings('ignore')"
      ]
    },
    {
      "cell_type": "code",
      "execution_count": 2,
      "id": "83f438b9-f1b3-4afb-88d7-486e2b6f34ae",
      "metadata": {
        "id": "83f438b9-f1b3-4afb-88d7-486e2b6f34ae"
      },
      "outputs": [],
      "source": [
        "import pandas as pd\n",
        "import numpy as np"
      ]
    },
    {
      "cell_type": "code",
      "execution_count": 3,
      "id": "aaa61731-e603-4c87-842f-4355eaa9ffc2",
      "metadata": {
        "id": "aaa61731-e603-4c87-842f-4355eaa9ffc2"
      },
      "outputs": [],
      "source": [
        "np.random.seed(12345)"
      ]
    },
    {
      "cell_type": "code",
      "execution_count": 4,
      "id": "8b724d24-cedb-49c3-b8d2-4da826034ad9",
      "metadata": {
        "id": "8b724d24-cedb-49c3-b8d2-4da826034ad9"
      },
      "outputs": [],
      "source": [
        "data = pd.read_csv('GOOG3.csv',parse_dates=True)"
      ]
    },
    {
      "cell_type": "code",
      "execution_count": 5,
      "id": "ee7f02e4-f483-4803-aeb4-303c6b9e25da",
      "metadata": {
        "colab": {
          "base_uri": "https://localhost:8080/",
          "height": 206
        },
        "id": "ee7f02e4-f483-4803-aeb4-303c6b9e25da",
        "outputId": "4cc2f79a-abbe-4150-974e-a940e6d6e26d"
      },
      "outputs": [
        {
          "output_type": "execute_result",
          "data": {
            "text/plain": [
              "         Date       Open       High        Low      Close  Adj Close    Volume\n",
              "0  2020-08-27  82.683998  82.750000  81.287498  81.716499  81.716499  37232000\n",
              "1  2020-08-28  81.674500  82.358498  81.537498  82.220497  82.220497  29980000\n",
              "2  2020-08-31  82.394501  82.398247  81.515503  81.709000  81.709000  36468000\n",
              "3  2020-09-01  81.831497  83.286499  81.611000  83.035500  83.035500  36506000\n",
              "4  2020-09-02  83.688751  86.658997  83.316498  86.414001  86.414001  50224000"
            ],
            "text/html": [
              "\n",
              "  <div id=\"df-2c1576a7-64a3-4729-9475-52915f520749\" class=\"colab-df-container\">\n",
              "    <div>\n",
              "<style scoped>\n",
              "    .dataframe tbody tr th:only-of-type {\n",
              "        vertical-align: middle;\n",
              "    }\n",
              "\n",
              "    .dataframe tbody tr th {\n",
              "        vertical-align: top;\n",
              "    }\n",
              "\n",
              "    .dataframe thead th {\n",
              "        text-align: right;\n",
              "    }\n",
              "</style>\n",
              "<table border=\"1\" class=\"dataframe\">\n",
              "  <thead>\n",
              "    <tr style=\"text-align: right;\">\n",
              "      <th></th>\n",
              "      <th>Date</th>\n",
              "      <th>Open</th>\n",
              "      <th>High</th>\n",
              "      <th>Low</th>\n",
              "      <th>Close</th>\n",
              "      <th>Adj Close</th>\n",
              "      <th>Volume</th>\n",
              "    </tr>\n",
              "  </thead>\n",
              "  <tbody>\n",
              "    <tr>\n",
              "      <th>0</th>\n",
              "      <td>2020-08-27</td>\n",
              "      <td>82.683998</td>\n",
              "      <td>82.750000</td>\n",
              "      <td>81.287498</td>\n",
              "      <td>81.716499</td>\n",
              "      <td>81.716499</td>\n",
              "      <td>37232000</td>\n",
              "    </tr>\n",
              "    <tr>\n",
              "      <th>1</th>\n",
              "      <td>2020-08-28</td>\n",
              "      <td>81.674500</td>\n",
              "      <td>82.358498</td>\n",
              "      <td>81.537498</td>\n",
              "      <td>82.220497</td>\n",
              "      <td>82.220497</td>\n",
              "      <td>29980000</td>\n",
              "    </tr>\n",
              "    <tr>\n",
              "      <th>2</th>\n",
              "      <td>2020-08-31</td>\n",
              "      <td>82.394501</td>\n",
              "      <td>82.398247</td>\n",
              "      <td>81.515503</td>\n",
              "      <td>81.709000</td>\n",
              "      <td>81.709000</td>\n",
              "      <td>36468000</td>\n",
              "    </tr>\n",
              "    <tr>\n",
              "      <th>3</th>\n",
              "      <td>2020-09-01</td>\n",
              "      <td>81.831497</td>\n",
              "      <td>83.286499</td>\n",
              "      <td>81.611000</td>\n",
              "      <td>83.035500</td>\n",
              "      <td>83.035500</td>\n",
              "      <td>36506000</td>\n",
              "    </tr>\n",
              "    <tr>\n",
              "      <th>4</th>\n",
              "      <td>2020-09-02</td>\n",
              "      <td>83.688751</td>\n",
              "      <td>86.658997</td>\n",
              "      <td>83.316498</td>\n",
              "      <td>86.414001</td>\n",
              "      <td>86.414001</td>\n",
              "      <td>50224000</td>\n",
              "    </tr>\n",
              "  </tbody>\n",
              "</table>\n",
              "</div>\n",
              "    <div class=\"colab-df-buttons\">\n",
              "\n",
              "  <div class=\"colab-df-container\">\n",
              "    <button class=\"colab-df-convert\" onclick=\"convertToInteractive('df-2c1576a7-64a3-4729-9475-52915f520749')\"\n",
              "            title=\"Convert this dataframe to an interactive table.\"\n",
              "            style=\"display:none;\">\n",
              "\n",
              "  <svg xmlns=\"http://www.w3.org/2000/svg\" height=\"24px\" viewBox=\"0 -960 960 960\">\n",
              "    <path d=\"M120-120v-720h720v720H120Zm60-500h600v-160H180v160Zm220 220h160v-160H400v160Zm0 220h160v-160H400v160ZM180-400h160v-160H180v160Zm440 0h160v-160H620v160ZM180-180h160v-160H180v160Zm440 0h160v-160H620v160Z\"/>\n",
              "  </svg>\n",
              "    </button>\n",
              "\n",
              "  <style>\n",
              "    .colab-df-container {\n",
              "      display:flex;\n",
              "      gap: 12px;\n",
              "    }\n",
              "\n",
              "    .colab-df-convert {\n",
              "      background-color: #E8F0FE;\n",
              "      border: none;\n",
              "      border-radius: 50%;\n",
              "      cursor: pointer;\n",
              "      display: none;\n",
              "      fill: #1967D2;\n",
              "      height: 32px;\n",
              "      padding: 0 0 0 0;\n",
              "      width: 32px;\n",
              "    }\n",
              "\n",
              "    .colab-df-convert:hover {\n",
              "      background-color: #E2EBFA;\n",
              "      box-shadow: 0px 1px 2px rgba(60, 64, 67, 0.3), 0px 1px 3px 1px rgba(60, 64, 67, 0.15);\n",
              "      fill: #174EA6;\n",
              "    }\n",
              "\n",
              "    .colab-df-buttons div {\n",
              "      margin-bottom: 4px;\n",
              "    }\n",
              "\n",
              "    [theme=dark] .colab-df-convert {\n",
              "      background-color: #3B4455;\n",
              "      fill: #D2E3FC;\n",
              "    }\n",
              "\n",
              "    [theme=dark] .colab-df-convert:hover {\n",
              "      background-color: #434B5C;\n",
              "      box-shadow: 0px 1px 3px 1px rgba(0, 0, 0, 0.15);\n",
              "      filter: drop-shadow(0px 1px 2px rgba(0, 0, 0, 0.3));\n",
              "      fill: #FFFFFF;\n",
              "    }\n",
              "  </style>\n",
              "\n",
              "    <script>\n",
              "      const buttonEl =\n",
              "        document.querySelector('#df-2c1576a7-64a3-4729-9475-52915f520749 button.colab-df-convert');\n",
              "      buttonEl.style.display =\n",
              "        google.colab.kernel.accessAllowed ? 'block' : 'none';\n",
              "\n",
              "      async function convertToInteractive(key) {\n",
              "        const element = document.querySelector('#df-2c1576a7-64a3-4729-9475-52915f520749');\n",
              "        const dataTable =\n",
              "          await google.colab.kernel.invokeFunction('convertToInteractive',\n",
              "                                                    [key], {});\n",
              "        if (!dataTable) return;\n",
              "\n",
              "        const docLinkHtml = 'Like what you see? Visit the ' +\n",
              "          '<a target=\"_blank\" href=https://colab.research.google.com/notebooks/data_table.ipynb>data table notebook</a>'\n",
              "          + ' to learn more about interactive tables.';\n",
              "        element.innerHTML = '';\n",
              "        dataTable['output_type'] = 'display_data';\n",
              "        await google.colab.output.renderOutput(dataTable, element);\n",
              "        const docLink = document.createElement('div');\n",
              "        docLink.innerHTML = docLinkHtml;\n",
              "        element.appendChild(docLink);\n",
              "      }\n",
              "    </script>\n",
              "  </div>\n",
              "\n",
              "\n",
              "<div id=\"df-4463c92c-d8d9-4285-b464-a3e45eca420f\">\n",
              "  <button class=\"colab-df-quickchart\" onclick=\"quickchart('df-4463c92c-d8d9-4285-b464-a3e45eca420f')\"\n",
              "            title=\"Suggest charts\"\n",
              "            style=\"display:none;\">\n",
              "\n",
              "<svg xmlns=\"http://www.w3.org/2000/svg\" height=\"24px\"viewBox=\"0 0 24 24\"\n",
              "     width=\"24px\">\n",
              "    <g>\n",
              "        <path d=\"M19 3H5c-1.1 0-2 .9-2 2v14c0 1.1.9 2 2 2h14c1.1 0 2-.9 2-2V5c0-1.1-.9-2-2-2zM9 17H7v-7h2v7zm4 0h-2V7h2v10zm4 0h-2v-4h2v4z\"/>\n",
              "    </g>\n",
              "</svg>\n",
              "  </button>\n",
              "\n",
              "<style>\n",
              "  .colab-df-quickchart {\n",
              "      --bg-color: #E8F0FE;\n",
              "      --fill-color: #1967D2;\n",
              "      --hover-bg-color: #E2EBFA;\n",
              "      --hover-fill-color: #174EA6;\n",
              "      --disabled-fill-color: #AAA;\n",
              "      --disabled-bg-color: #DDD;\n",
              "  }\n",
              "\n",
              "  [theme=dark] .colab-df-quickchart {\n",
              "      --bg-color: #3B4455;\n",
              "      --fill-color: #D2E3FC;\n",
              "      --hover-bg-color: #434B5C;\n",
              "      --hover-fill-color: #FFFFFF;\n",
              "      --disabled-bg-color: #3B4455;\n",
              "      --disabled-fill-color: #666;\n",
              "  }\n",
              "\n",
              "  .colab-df-quickchart {\n",
              "    background-color: var(--bg-color);\n",
              "    border: none;\n",
              "    border-radius: 50%;\n",
              "    cursor: pointer;\n",
              "    display: none;\n",
              "    fill: var(--fill-color);\n",
              "    height: 32px;\n",
              "    padding: 0;\n",
              "    width: 32px;\n",
              "  }\n",
              "\n",
              "  .colab-df-quickchart:hover {\n",
              "    background-color: var(--hover-bg-color);\n",
              "    box-shadow: 0 1px 2px rgba(60, 64, 67, 0.3), 0 1px 3px 1px rgba(60, 64, 67, 0.15);\n",
              "    fill: var(--button-hover-fill-color);\n",
              "  }\n",
              "\n",
              "  .colab-df-quickchart-complete:disabled,\n",
              "  .colab-df-quickchart-complete:disabled:hover {\n",
              "    background-color: var(--disabled-bg-color);\n",
              "    fill: var(--disabled-fill-color);\n",
              "    box-shadow: none;\n",
              "  }\n",
              "\n",
              "  .colab-df-spinner {\n",
              "    border: 2px solid var(--fill-color);\n",
              "    border-color: transparent;\n",
              "    border-bottom-color: var(--fill-color);\n",
              "    animation:\n",
              "      spin 1s steps(1) infinite;\n",
              "  }\n",
              "\n",
              "  @keyframes spin {\n",
              "    0% {\n",
              "      border-color: transparent;\n",
              "      border-bottom-color: var(--fill-color);\n",
              "      border-left-color: var(--fill-color);\n",
              "    }\n",
              "    20% {\n",
              "      border-color: transparent;\n",
              "      border-left-color: var(--fill-color);\n",
              "      border-top-color: var(--fill-color);\n",
              "    }\n",
              "    30% {\n",
              "      border-color: transparent;\n",
              "      border-left-color: var(--fill-color);\n",
              "      border-top-color: var(--fill-color);\n",
              "      border-right-color: var(--fill-color);\n",
              "    }\n",
              "    40% {\n",
              "      border-color: transparent;\n",
              "      border-right-color: var(--fill-color);\n",
              "      border-top-color: var(--fill-color);\n",
              "    }\n",
              "    60% {\n",
              "      border-color: transparent;\n",
              "      border-right-color: var(--fill-color);\n",
              "    }\n",
              "    80% {\n",
              "      border-color: transparent;\n",
              "      border-right-color: var(--fill-color);\n",
              "      border-bottom-color: var(--fill-color);\n",
              "    }\n",
              "    90% {\n",
              "      border-color: transparent;\n",
              "      border-bottom-color: var(--fill-color);\n",
              "    }\n",
              "  }\n",
              "</style>\n",
              "\n",
              "  <script>\n",
              "    async function quickchart(key) {\n",
              "      const quickchartButtonEl =\n",
              "        document.querySelector('#' + key + ' button');\n",
              "      quickchartButtonEl.disabled = true;  // To prevent multiple clicks.\n",
              "      quickchartButtonEl.classList.add('colab-df-spinner');\n",
              "      try {\n",
              "        const charts = await google.colab.kernel.invokeFunction(\n",
              "            'suggestCharts', [key], {});\n",
              "      } catch (error) {\n",
              "        console.error('Error during call to suggestCharts:', error);\n",
              "      }\n",
              "      quickchartButtonEl.classList.remove('colab-df-spinner');\n",
              "      quickchartButtonEl.classList.add('colab-df-quickchart-complete');\n",
              "    }\n",
              "    (() => {\n",
              "      let quickchartButtonEl =\n",
              "        document.querySelector('#df-4463c92c-d8d9-4285-b464-a3e45eca420f button');\n",
              "      quickchartButtonEl.style.display =\n",
              "        google.colab.kernel.accessAllowed ? 'block' : 'none';\n",
              "    })();\n",
              "  </script>\n",
              "</div>\n",
              "    </div>\n",
              "  </div>\n"
            ]
          },
          "metadata": {},
          "execution_count": 5
        }
      ],
      "source": [
        "data.head()"
      ]
    },
    {
      "cell_type": "code",
      "execution_count": 6,
      "id": "f17a0573-1f3c-402f-a3a1-400163fefab7",
      "metadata": {
        "colab": {
          "base_uri": "https://localhost:8080/",
          "height": 206
        },
        "id": "f17a0573-1f3c-402f-a3a1-400163fefab7",
        "outputId": "f2730c96-0816-4f7a-db5c-13686315a058"
      },
      "outputs": [
        {
          "output_type": "execute_result",
          "data": {
            "text/plain": [
              "           Date        Open        High         Low       Close   Adj Close  \\\n",
              "499  2022-08-22  116.099998  116.500000  114.669998  115.070000  115.070000   \n",
              "500  2022-08-23  114.320000  115.930000  114.300003  114.769997  114.769997   \n",
              "501  2022-08-24  114.449997  115.717003  113.779999  114.699997  114.699997   \n",
              "502  2022-08-25  115.150002  117.779999  115.050003  117.699997  117.699997   \n",
              "503  2022-08-26  115.809998  116.449997  111.250000  111.300003  111.300003   \n",
              "\n",
              "       Volume  \n",
              "499  19316000  \n",
              "500  14390700  \n",
              "501  16051200  \n",
              "502  14874700  \n",
              "503  31590470  "
            ],
            "text/html": [
              "\n",
              "  <div id=\"df-fe235ccf-d020-41fd-9aaa-e3ef7dbdbfb9\" class=\"colab-df-container\">\n",
              "    <div>\n",
              "<style scoped>\n",
              "    .dataframe tbody tr th:only-of-type {\n",
              "        vertical-align: middle;\n",
              "    }\n",
              "\n",
              "    .dataframe tbody tr th {\n",
              "        vertical-align: top;\n",
              "    }\n",
              "\n",
              "    .dataframe thead th {\n",
              "        text-align: right;\n",
              "    }\n",
              "</style>\n",
              "<table border=\"1\" class=\"dataframe\">\n",
              "  <thead>\n",
              "    <tr style=\"text-align: right;\">\n",
              "      <th></th>\n",
              "      <th>Date</th>\n",
              "      <th>Open</th>\n",
              "      <th>High</th>\n",
              "      <th>Low</th>\n",
              "      <th>Close</th>\n",
              "      <th>Adj Close</th>\n",
              "      <th>Volume</th>\n",
              "    </tr>\n",
              "  </thead>\n",
              "  <tbody>\n",
              "    <tr>\n",
              "      <th>499</th>\n",
              "      <td>2022-08-22</td>\n",
              "      <td>116.099998</td>\n",
              "      <td>116.500000</td>\n",
              "      <td>114.669998</td>\n",
              "      <td>115.070000</td>\n",
              "      <td>115.070000</td>\n",
              "      <td>19316000</td>\n",
              "    </tr>\n",
              "    <tr>\n",
              "      <th>500</th>\n",
              "      <td>2022-08-23</td>\n",
              "      <td>114.320000</td>\n",
              "      <td>115.930000</td>\n",
              "      <td>114.300003</td>\n",
              "      <td>114.769997</td>\n",
              "      <td>114.769997</td>\n",
              "      <td>14390700</td>\n",
              "    </tr>\n",
              "    <tr>\n",
              "      <th>501</th>\n",
              "      <td>2022-08-24</td>\n",
              "      <td>114.449997</td>\n",
              "      <td>115.717003</td>\n",
              "      <td>113.779999</td>\n",
              "      <td>114.699997</td>\n",
              "      <td>114.699997</td>\n",
              "      <td>16051200</td>\n",
              "    </tr>\n",
              "    <tr>\n",
              "      <th>502</th>\n",
              "      <td>2022-08-25</td>\n",
              "      <td>115.150002</td>\n",
              "      <td>117.779999</td>\n",
              "      <td>115.050003</td>\n",
              "      <td>117.699997</td>\n",
              "      <td>117.699997</td>\n",
              "      <td>14874700</td>\n",
              "    </tr>\n",
              "    <tr>\n",
              "      <th>503</th>\n",
              "      <td>2022-08-26</td>\n",
              "      <td>115.809998</td>\n",
              "      <td>116.449997</td>\n",
              "      <td>111.250000</td>\n",
              "      <td>111.300003</td>\n",
              "      <td>111.300003</td>\n",
              "      <td>31590470</td>\n",
              "    </tr>\n",
              "  </tbody>\n",
              "</table>\n",
              "</div>\n",
              "    <div class=\"colab-df-buttons\">\n",
              "\n",
              "  <div class=\"colab-df-container\">\n",
              "    <button class=\"colab-df-convert\" onclick=\"convertToInteractive('df-fe235ccf-d020-41fd-9aaa-e3ef7dbdbfb9')\"\n",
              "            title=\"Convert this dataframe to an interactive table.\"\n",
              "            style=\"display:none;\">\n",
              "\n",
              "  <svg xmlns=\"http://www.w3.org/2000/svg\" height=\"24px\" viewBox=\"0 -960 960 960\">\n",
              "    <path d=\"M120-120v-720h720v720H120Zm60-500h600v-160H180v160Zm220 220h160v-160H400v160Zm0 220h160v-160H400v160ZM180-400h160v-160H180v160Zm440 0h160v-160H620v160ZM180-180h160v-160H180v160Zm440 0h160v-160H620v160Z\"/>\n",
              "  </svg>\n",
              "    </button>\n",
              "\n",
              "  <style>\n",
              "    .colab-df-container {\n",
              "      display:flex;\n",
              "      gap: 12px;\n",
              "    }\n",
              "\n",
              "    .colab-df-convert {\n",
              "      background-color: #E8F0FE;\n",
              "      border: none;\n",
              "      border-radius: 50%;\n",
              "      cursor: pointer;\n",
              "      display: none;\n",
              "      fill: #1967D2;\n",
              "      height: 32px;\n",
              "      padding: 0 0 0 0;\n",
              "      width: 32px;\n",
              "    }\n",
              "\n",
              "    .colab-df-convert:hover {\n",
              "      background-color: #E2EBFA;\n",
              "      box-shadow: 0px 1px 2px rgba(60, 64, 67, 0.3), 0px 1px 3px 1px rgba(60, 64, 67, 0.15);\n",
              "      fill: #174EA6;\n",
              "    }\n",
              "\n",
              "    .colab-df-buttons div {\n",
              "      margin-bottom: 4px;\n",
              "    }\n",
              "\n",
              "    [theme=dark] .colab-df-convert {\n",
              "      background-color: #3B4455;\n",
              "      fill: #D2E3FC;\n",
              "    }\n",
              "\n",
              "    [theme=dark] .colab-df-convert:hover {\n",
              "      background-color: #434B5C;\n",
              "      box-shadow: 0px 1px 3px 1px rgba(0, 0, 0, 0.15);\n",
              "      filter: drop-shadow(0px 1px 2px rgba(0, 0, 0, 0.3));\n",
              "      fill: #FFFFFF;\n",
              "    }\n",
              "  </style>\n",
              "\n",
              "    <script>\n",
              "      const buttonEl =\n",
              "        document.querySelector('#df-fe235ccf-d020-41fd-9aaa-e3ef7dbdbfb9 button.colab-df-convert');\n",
              "      buttonEl.style.display =\n",
              "        google.colab.kernel.accessAllowed ? 'block' : 'none';\n",
              "\n",
              "      async function convertToInteractive(key) {\n",
              "        const element = document.querySelector('#df-fe235ccf-d020-41fd-9aaa-e3ef7dbdbfb9');\n",
              "        const dataTable =\n",
              "          await google.colab.kernel.invokeFunction('convertToInteractive',\n",
              "                                                    [key], {});\n",
              "        if (!dataTable) return;\n",
              "\n",
              "        const docLinkHtml = 'Like what you see? Visit the ' +\n",
              "          '<a target=\"_blank\" href=https://colab.research.google.com/notebooks/data_table.ipynb>data table notebook</a>'\n",
              "          + ' to learn more about interactive tables.';\n",
              "        element.innerHTML = '';\n",
              "        dataTable['output_type'] = 'display_data';\n",
              "        await google.colab.output.renderOutput(dataTable, element);\n",
              "        const docLink = document.createElement('div');\n",
              "        docLink.innerHTML = docLinkHtml;\n",
              "        element.appendChild(docLink);\n",
              "      }\n",
              "    </script>\n",
              "  </div>\n",
              "\n",
              "\n",
              "<div id=\"df-f0963f9b-61b7-454a-b3bd-8afe3936fda8\">\n",
              "  <button class=\"colab-df-quickchart\" onclick=\"quickchart('df-f0963f9b-61b7-454a-b3bd-8afe3936fda8')\"\n",
              "            title=\"Suggest charts\"\n",
              "            style=\"display:none;\">\n",
              "\n",
              "<svg xmlns=\"http://www.w3.org/2000/svg\" height=\"24px\"viewBox=\"0 0 24 24\"\n",
              "     width=\"24px\">\n",
              "    <g>\n",
              "        <path d=\"M19 3H5c-1.1 0-2 .9-2 2v14c0 1.1.9 2 2 2h14c1.1 0 2-.9 2-2V5c0-1.1-.9-2-2-2zM9 17H7v-7h2v7zm4 0h-2V7h2v10zm4 0h-2v-4h2v4z\"/>\n",
              "    </g>\n",
              "</svg>\n",
              "  </button>\n",
              "\n",
              "<style>\n",
              "  .colab-df-quickchart {\n",
              "      --bg-color: #E8F0FE;\n",
              "      --fill-color: #1967D2;\n",
              "      --hover-bg-color: #E2EBFA;\n",
              "      --hover-fill-color: #174EA6;\n",
              "      --disabled-fill-color: #AAA;\n",
              "      --disabled-bg-color: #DDD;\n",
              "  }\n",
              "\n",
              "  [theme=dark] .colab-df-quickchart {\n",
              "      --bg-color: #3B4455;\n",
              "      --fill-color: #D2E3FC;\n",
              "      --hover-bg-color: #434B5C;\n",
              "      --hover-fill-color: #FFFFFF;\n",
              "      --disabled-bg-color: #3B4455;\n",
              "      --disabled-fill-color: #666;\n",
              "  }\n",
              "\n",
              "  .colab-df-quickchart {\n",
              "    background-color: var(--bg-color);\n",
              "    border: none;\n",
              "    border-radius: 50%;\n",
              "    cursor: pointer;\n",
              "    display: none;\n",
              "    fill: var(--fill-color);\n",
              "    height: 32px;\n",
              "    padding: 0;\n",
              "    width: 32px;\n",
              "  }\n",
              "\n",
              "  .colab-df-quickchart:hover {\n",
              "    background-color: var(--hover-bg-color);\n",
              "    box-shadow: 0 1px 2px rgba(60, 64, 67, 0.3), 0 1px 3px 1px rgba(60, 64, 67, 0.15);\n",
              "    fill: var(--button-hover-fill-color);\n",
              "  }\n",
              "\n",
              "  .colab-df-quickchart-complete:disabled,\n",
              "  .colab-df-quickchart-complete:disabled:hover {\n",
              "    background-color: var(--disabled-bg-color);\n",
              "    fill: var(--disabled-fill-color);\n",
              "    box-shadow: none;\n",
              "  }\n",
              "\n",
              "  .colab-df-spinner {\n",
              "    border: 2px solid var(--fill-color);\n",
              "    border-color: transparent;\n",
              "    border-bottom-color: var(--fill-color);\n",
              "    animation:\n",
              "      spin 1s steps(1) infinite;\n",
              "  }\n",
              "\n",
              "  @keyframes spin {\n",
              "    0% {\n",
              "      border-color: transparent;\n",
              "      border-bottom-color: var(--fill-color);\n",
              "      border-left-color: var(--fill-color);\n",
              "    }\n",
              "    20% {\n",
              "      border-color: transparent;\n",
              "      border-left-color: var(--fill-color);\n",
              "      border-top-color: var(--fill-color);\n",
              "    }\n",
              "    30% {\n",
              "      border-color: transparent;\n",
              "      border-left-color: var(--fill-color);\n",
              "      border-top-color: var(--fill-color);\n",
              "      border-right-color: var(--fill-color);\n",
              "    }\n",
              "    40% {\n",
              "      border-color: transparent;\n",
              "      border-right-color: var(--fill-color);\n",
              "      border-top-color: var(--fill-color);\n",
              "    }\n",
              "    60% {\n",
              "      border-color: transparent;\n",
              "      border-right-color: var(--fill-color);\n",
              "    }\n",
              "    80% {\n",
              "      border-color: transparent;\n",
              "      border-right-color: var(--fill-color);\n",
              "      border-bottom-color: var(--fill-color);\n",
              "    }\n",
              "    90% {\n",
              "      border-color: transparent;\n",
              "      border-bottom-color: var(--fill-color);\n",
              "    }\n",
              "  }\n",
              "</style>\n",
              "\n",
              "  <script>\n",
              "    async function quickchart(key) {\n",
              "      const quickchartButtonEl =\n",
              "        document.querySelector('#' + key + ' button');\n",
              "      quickchartButtonEl.disabled = true;  // To prevent multiple clicks.\n",
              "      quickchartButtonEl.classList.add('colab-df-spinner');\n",
              "      try {\n",
              "        const charts = await google.colab.kernel.invokeFunction(\n",
              "            'suggestCharts', [key], {});\n",
              "      } catch (error) {\n",
              "        console.error('Error during call to suggestCharts:', error);\n",
              "      }\n",
              "      quickchartButtonEl.classList.remove('colab-df-spinner');\n",
              "      quickchartButtonEl.classList.add('colab-df-quickchart-complete');\n",
              "    }\n",
              "    (() => {\n",
              "      let quickchartButtonEl =\n",
              "        document.querySelector('#df-f0963f9b-61b7-454a-b3bd-8afe3936fda8 button');\n",
              "      quickchartButtonEl.style.display =\n",
              "        google.colab.kernel.accessAllowed ? 'block' : 'none';\n",
              "    })();\n",
              "  </script>\n",
              "</div>\n",
              "    </div>\n",
              "  </div>\n"
            ]
          },
          "metadata": {},
          "execution_count": 6
        }
      ],
      "source": [
        "data.tail()"
      ]
    },
    {
      "cell_type": "code",
      "execution_count": 7,
      "id": "0cb1706f-8ba0-412e-ad9d-21f05922d0b4",
      "metadata": {
        "colab": {
          "base_uri": "https://localhost:8080/"
        },
        "id": "0cb1706f-8ba0-412e-ad9d-21f05922d0b4",
        "outputId": "ef8b1e9e-d4cc-48af-a595-5444f968ba05"
      },
      "outputs": [
        {
          "output_type": "execute_result",
          "data": {
            "text/plain": [
              "(504, 7)"
            ]
          },
          "metadata": {},
          "execution_count": 7
        }
      ],
      "source": [
        "data.shape"
      ]
    },
    {
      "cell_type": "code",
      "execution_count": 8,
      "id": "44c5b29a-8b11-42d3-9bb3-64d0c8f94d86",
      "metadata": {
        "colab": {
          "base_uri": "https://localhost:8080/"
        },
        "id": "44c5b29a-8b11-42d3-9bb3-64d0c8f94d86",
        "outputId": "3c7a7bad-e80c-4592-fe92-7f0611d27b12"
      },
      "outputs": [
        {
          "output_type": "execute_result",
          "data": {
            "text/plain": [
              "Date         0\n",
              "Open         0\n",
              "High         0\n",
              "Low          0\n",
              "Close        0\n",
              "Adj Close    0\n",
              "Volume       0\n",
              "dtype: int64"
            ]
          },
          "metadata": {},
          "execution_count": 8
        }
      ],
      "source": [
        "data.isna().sum()"
      ]
    },
    {
      "cell_type": "code",
      "execution_count": 9,
      "id": "62e7df82-c195-4de3-8eb1-70bb7cf4f3b8",
      "metadata": {
        "id": "62e7df82-c195-4de3-8eb1-70bb7cf4f3b8"
      },
      "outputs": [],
      "source": [
        "data['Date'] = pd.to_datetime(data['Date'],format=\"%Y-%m-%d\")"
      ]
    },
    {
      "cell_type": "code",
      "execution_count": 10,
      "id": "76da079d-2720-4f9e-a80c-b22f59fd4d9a",
      "metadata": {
        "id": "76da079d-2720-4f9e-a80c-b22f59fd4d9a"
      },
      "outputs": [],
      "source": [
        "df_close = data[['Date','Adj Close']]"
      ]
    },
    {
      "cell_type": "code",
      "execution_count": 11,
      "id": "e010f9a9-dec3-4fb0-a870-0e98db38b889",
      "metadata": {
        "id": "e010f9a9-dec3-4fb0-a870-0e98db38b889"
      },
      "outputs": [],
      "source": [
        "df_close.columns = ['Date','y']"
      ]
    },
    {
      "cell_type": "code",
      "execution_count": 12,
      "id": "90734713-422c-4210-a52b-95068df2ddff",
      "metadata": {
        "id": "90734713-422c-4210-a52b-95068df2ddff"
      },
      "outputs": [],
      "source": [
        "df_close.sort_values(by='Date', inplace=True)"
      ]
    },
    {
      "cell_type": "code",
      "execution_count": 13,
      "id": "91f06292-fb4b-49db-a446-431eb613f87d",
      "metadata": {
        "colab": {
          "base_uri": "https://localhost:8080/",
          "height": 362
        },
        "id": "91f06292-fb4b-49db-a446-431eb613f87d",
        "outputId": "c413e764-7526-4fb5-bc91-e053e21bc42a"
      },
      "outputs": [
        {
          "output_type": "execute_result",
          "data": {
            "text/plain": [
              "        Date          y\n",
              "0 2020-08-27  81.716499\n",
              "1 2020-08-28  82.220497\n",
              "2 2020-08-31  81.709000\n",
              "3 2020-09-01  83.035500\n",
              "4 2020-09-02  86.414001\n",
              "5 2020-09-03  82.092003\n",
              "6 2020-09-04  79.552002\n",
              "7 2020-09-08  76.619499\n",
              "8 2020-09-09  77.848000\n",
              "9 2020-09-10  76.600998"
            ],
            "text/html": [
              "\n",
              "  <div id=\"df-7b625773-633b-49c1-9f97-c9ca7dabe2dc\" class=\"colab-df-container\">\n",
              "    <div>\n",
              "<style scoped>\n",
              "    .dataframe tbody tr th:only-of-type {\n",
              "        vertical-align: middle;\n",
              "    }\n",
              "\n",
              "    .dataframe tbody tr th {\n",
              "        vertical-align: top;\n",
              "    }\n",
              "\n",
              "    .dataframe thead th {\n",
              "        text-align: right;\n",
              "    }\n",
              "</style>\n",
              "<table border=\"1\" class=\"dataframe\">\n",
              "  <thead>\n",
              "    <tr style=\"text-align: right;\">\n",
              "      <th></th>\n",
              "      <th>Date</th>\n",
              "      <th>y</th>\n",
              "    </tr>\n",
              "  </thead>\n",
              "  <tbody>\n",
              "    <tr>\n",
              "      <th>0</th>\n",
              "      <td>2020-08-27</td>\n",
              "      <td>81.716499</td>\n",
              "    </tr>\n",
              "    <tr>\n",
              "      <th>1</th>\n",
              "      <td>2020-08-28</td>\n",
              "      <td>82.220497</td>\n",
              "    </tr>\n",
              "    <tr>\n",
              "      <th>2</th>\n",
              "      <td>2020-08-31</td>\n",
              "      <td>81.709000</td>\n",
              "    </tr>\n",
              "    <tr>\n",
              "      <th>3</th>\n",
              "      <td>2020-09-01</td>\n",
              "      <td>83.035500</td>\n",
              "    </tr>\n",
              "    <tr>\n",
              "      <th>4</th>\n",
              "      <td>2020-09-02</td>\n",
              "      <td>86.414001</td>\n",
              "    </tr>\n",
              "    <tr>\n",
              "      <th>5</th>\n",
              "      <td>2020-09-03</td>\n",
              "      <td>82.092003</td>\n",
              "    </tr>\n",
              "    <tr>\n",
              "      <th>6</th>\n",
              "      <td>2020-09-04</td>\n",
              "      <td>79.552002</td>\n",
              "    </tr>\n",
              "    <tr>\n",
              "      <th>7</th>\n",
              "      <td>2020-09-08</td>\n",
              "      <td>76.619499</td>\n",
              "    </tr>\n",
              "    <tr>\n",
              "      <th>8</th>\n",
              "      <td>2020-09-09</td>\n",
              "      <td>77.848000</td>\n",
              "    </tr>\n",
              "    <tr>\n",
              "      <th>9</th>\n",
              "      <td>2020-09-10</td>\n",
              "      <td>76.600998</td>\n",
              "    </tr>\n",
              "  </tbody>\n",
              "</table>\n",
              "</div>\n",
              "    <div class=\"colab-df-buttons\">\n",
              "\n",
              "  <div class=\"colab-df-container\">\n",
              "    <button class=\"colab-df-convert\" onclick=\"convertToInteractive('df-7b625773-633b-49c1-9f97-c9ca7dabe2dc')\"\n",
              "            title=\"Convert this dataframe to an interactive table.\"\n",
              "            style=\"display:none;\">\n",
              "\n",
              "  <svg xmlns=\"http://www.w3.org/2000/svg\" height=\"24px\" viewBox=\"0 -960 960 960\">\n",
              "    <path d=\"M120-120v-720h720v720H120Zm60-500h600v-160H180v160Zm220 220h160v-160H400v160Zm0 220h160v-160H400v160ZM180-400h160v-160H180v160Zm440 0h160v-160H620v160ZM180-180h160v-160H180v160Zm440 0h160v-160H620v160Z\"/>\n",
              "  </svg>\n",
              "    </button>\n",
              "\n",
              "  <style>\n",
              "    .colab-df-container {\n",
              "      display:flex;\n",
              "      gap: 12px;\n",
              "    }\n",
              "\n",
              "    .colab-df-convert {\n",
              "      background-color: #E8F0FE;\n",
              "      border: none;\n",
              "      border-radius: 50%;\n",
              "      cursor: pointer;\n",
              "      display: none;\n",
              "      fill: #1967D2;\n",
              "      height: 32px;\n",
              "      padding: 0 0 0 0;\n",
              "      width: 32px;\n",
              "    }\n",
              "\n",
              "    .colab-df-convert:hover {\n",
              "      background-color: #E2EBFA;\n",
              "      box-shadow: 0px 1px 2px rgba(60, 64, 67, 0.3), 0px 1px 3px 1px rgba(60, 64, 67, 0.15);\n",
              "      fill: #174EA6;\n",
              "    }\n",
              "\n",
              "    .colab-df-buttons div {\n",
              "      margin-bottom: 4px;\n",
              "    }\n",
              "\n",
              "    [theme=dark] .colab-df-convert {\n",
              "      background-color: #3B4455;\n",
              "      fill: #D2E3FC;\n",
              "    }\n",
              "\n",
              "    [theme=dark] .colab-df-convert:hover {\n",
              "      background-color: #434B5C;\n",
              "      box-shadow: 0px 1px 3px 1px rgba(0, 0, 0, 0.15);\n",
              "      filter: drop-shadow(0px 1px 2px rgba(0, 0, 0, 0.3));\n",
              "      fill: #FFFFFF;\n",
              "    }\n",
              "  </style>\n",
              "\n",
              "    <script>\n",
              "      const buttonEl =\n",
              "        document.querySelector('#df-7b625773-633b-49c1-9f97-c9ca7dabe2dc button.colab-df-convert');\n",
              "      buttonEl.style.display =\n",
              "        google.colab.kernel.accessAllowed ? 'block' : 'none';\n",
              "\n",
              "      async function convertToInteractive(key) {\n",
              "        const element = document.querySelector('#df-7b625773-633b-49c1-9f97-c9ca7dabe2dc');\n",
              "        const dataTable =\n",
              "          await google.colab.kernel.invokeFunction('convertToInteractive',\n",
              "                                                    [key], {});\n",
              "        if (!dataTable) return;\n",
              "\n",
              "        const docLinkHtml = 'Like what you see? Visit the ' +\n",
              "          '<a target=\"_blank\" href=https://colab.research.google.com/notebooks/data_table.ipynb>data table notebook</a>'\n",
              "          + ' to learn more about interactive tables.';\n",
              "        element.innerHTML = '';\n",
              "        dataTable['output_type'] = 'display_data';\n",
              "        await google.colab.output.renderOutput(dataTable, element);\n",
              "        const docLink = document.createElement('div');\n",
              "        docLink.innerHTML = docLinkHtml;\n",
              "        element.appendChild(docLink);\n",
              "      }\n",
              "    </script>\n",
              "  </div>\n",
              "\n",
              "\n",
              "<div id=\"df-b104bf01-f4fa-4e81-b65f-e4935d7db94f\">\n",
              "  <button class=\"colab-df-quickchart\" onclick=\"quickchart('df-b104bf01-f4fa-4e81-b65f-e4935d7db94f')\"\n",
              "            title=\"Suggest charts\"\n",
              "            style=\"display:none;\">\n",
              "\n",
              "<svg xmlns=\"http://www.w3.org/2000/svg\" height=\"24px\"viewBox=\"0 0 24 24\"\n",
              "     width=\"24px\">\n",
              "    <g>\n",
              "        <path d=\"M19 3H5c-1.1 0-2 .9-2 2v14c0 1.1.9 2 2 2h14c1.1 0 2-.9 2-2V5c0-1.1-.9-2-2-2zM9 17H7v-7h2v7zm4 0h-2V7h2v10zm4 0h-2v-4h2v4z\"/>\n",
              "    </g>\n",
              "</svg>\n",
              "  </button>\n",
              "\n",
              "<style>\n",
              "  .colab-df-quickchart {\n",
              "      --bg-color: #E8F0FE;\n",
              "      --fill-color: #1967D2;\n",
              "      --hover-bg-color: #E2EBFA;\n",
              "      --hover-fill-color: #174EA6;\n",
              "      --disabled-fill-color: #AAA;\n",
              "      --disabled-bg-color: #DDD;\n",
              "  }\n",
              "\n",
              "  [theme=dark] .colab-df-quickchart {\n",
              "      --bg-color: #3B4455;\n",
              "      --fill-color: #D2E3FC;\n",
              "      --hover-bg-color: #434B5C;\n",
              "      --hover-fill-color: #FFFFFF;\n",
              "      --disabled-bg-color: #3B4455;\n",
              "      --disabled-fill-color: #666;\n",
              "  }\n",
              "\n",
              "  .colab-df-quickchart {\n",
              "    background-color: var(--bg-color);\n",
              "    border: none;\n",
              "    border-radius: 50%;\n",
              "    cursor: pointer;\n",
              "    display: none;\n",
              "    fill: var(--fill-color);\n",
              "    height: 32px;\n",
              "    padding: 0;\n",
              "    width: 32px;\n",
              "  }\n",
              "\n",
              "  .colab-df-quickchart:hover {\n",
              "    background-color: var(--hover-bg-color);\n",
              "    box-shadow: 0 1px 2px rgba(60, 64, 67, 0.3), 0 1px 3px 1px rgba(60, 64, 67, 0.15);\n",
              "    fill: var(--button-hover-fill-color);\n",
              "  }\n",
              "\n",
              "  .colab-df-quickchart-complete:disabled,\n",
              "  .colab-df-quickchart-complete:disabled:hover {\n",
              "    background-color: var(--disabled-bg-color);\n",
              "    fill: var(--disabled-fill-color);\n",
              "    box-shadow: none;\n",
              "  }\n",
              "\n",
              "  .colab-df-spinner {\n",
              "    border: 2px solid var(--fill-color);\n",
              "    border-color: transparent;\n",
              "    border-bottom-color: var(--fill-color);\n",
              "    animation:\n",
              "      spin 1s steps(1) infinite;\n",
              "  }\n",
              "\n",
              "  @keyframes spin {\n",
              "    0% {\n",
              "      border-color: transparent;\n",
              "      border-bottom-color: var(--fill-color);\n",
              "      border-left-color: var(--fill-color);\n",
              "    }\n",
              "    20% {\n",
              "      border-color: transparent;\n",
              "      border-left-color: var(--fill-color);\n",
              "      border-top-color: var(--fill-color);\n",
              "    }\n",
              "    30% {\n",
              "      border-color: transparent;\n",
              "      border-left-color: var(--fill-color);\n",
              "      border-top-color: var(--fill-color);\n",
              "      border-right-color: var(--fill-color);\n",
              "    }\n",
              "    40% {\n",
              "      border-color: transparent;\n",
              "      border-right-color: var(--fill-color);\n",
              "      border-top-color: var(--fill-color);\n",
              "    }\n",
              "    60% {\n",
              "      border-color: transparent;\n",
              "      border-right-color: var(--fill-color);\n",
              "    }\n",
              "    80% {\n",
              "      border-color: transparent;\n",
              "      border-right-color: var(--fill-color);\n",
              "      border-bottom-color: var(--fill-color);\n",
              "    }\n",
              "    90% {\n",
              "      border-color: transparent;\n",
              "      border-bottom-color: var(--fill-color);\n",
              "    }\n",
              "  }\n",
              "</style>\n",
              "\n",
              "  <script>\n",
              "    async function quickchart(key) {\n",
              "      const quickchartButtonEl =\n",
              "        document.querySelector('#' + key + ' button');\n",
              "      quickchartButtonEl.disabled = true;  // To prevent multiple clicks.\n",
              "      quickchartButtonEl.classList.add('colab-df-spinner');\n",
              "      try {\n",
              "        const charts = await google.colab.kernel.invokeFunction(\n",
              "            'suggestCharts', [key], {});\n",
              "      } catch (error) {\n",
              "        console.error('Error during call to suggestCharts:', error);\n",
              "      }\n",
              "      quickchartButtonEl.classList.remove('colab-df-spinner');\n",
              "      quickchartButtonEl.classList.add('colab-df-quickchart-complete');\n",
              "    }\n",
              "    (() => {\n",
              "      let quickchartButtonEl =\n",
              "        document.querySelector('#df-b104bf01-f4fa-4e81-b65f-e4935d7db94f button');\n",
              "      quickchartButtonEl.style.display =\n",
              "        google.colab.kernel.accessAllowed ? 'block' : 'none';\n",
              "    })();\n",
              "  </script>\n",
              "</div>\n",
              "    </div>\n",
              "  </div>\n"
            ]
          },
          "metadata": {},
          "execution_count": 13
        }
      ],
      "source": [
        "df_close.head(10)"
      ]
    },
    {
      "cell_type": "code",
      "execution_count": 14,
      "id": "bdaf3a07-d949-465d-b30b-dbb20bf15b61",
      "metadata": {
        "colab": {
          "base_uri": "https://localhost:8080/",
          "height": 206
        },
        "id": "bdaf3a07-d949-465d-b30b-dbb20bf15b61",
        "outputId": "58fb3af2-38b3-4ba9-e611-c57c2f67fab4"
      },
      "outputs": [
        {
          "output_type": "execute_result",
          "data": {
            "text/plain": [
              "          Date           y\n",
              "499 2022-08-22  115.070000\n",
              "500 2022-08-23  114.769997\n",
              "501 2022-08-24  114.699997\n",
              "502 2022-08-25  117.699997\n",
              "503 2022-08-26  111.300003"
            ],
            "text/html": [
              "\n",
              "  <div id=\"df-0a676e21-9a96-4155-8469-68106b0a9ae1\" class=\"colab-df-container\">\n",
              "    <div>\n",
              "<style scoped>\n",
              "    .dataframe tbody tr th:only-of-type {\n",
              "        vertical-align: middle;\n",
              "    }\n",
              "\n",
              "    .dataframe tbody tr th {\n",
              "        vertical-align: top;\n",
              "    }\n",
              "\n",
              "    .dataframe thead th {\n",
              "        text-align: right;\n",
              "    }\n",
              "</style>\n",
              "<table border=\"1\" class=\"dataframe\">\n",
              "  <thead>\n",
              "    <tr style=\"text-align: right;\">\n",
              "      <th></th>\n",
              "      <th>Date</th>\n",
              "      <th>y</th>\n",
              "    </tr>\n",
              "  </thead>\n",
              "  <tbody>\n",
              "    <tr>\n",
              "      <th>499</th>\n",
              "      <td>2022-08-22</td>\n",
              "      <td>115.070000</td>\n",
              "    </tr>\n",
              "    <tr>\n",
              "      <th>500</th>\n",
              "      <td>2022-08-23</td>\n",
              "      <td>114.769997</td>\n",
              "    </tr>\n",
              "    <tr>\n",
              "      <th>501</th>\n",
              "      <td>2022-08-24</td>\n",
              "      <td>114.699997</td>\n",
              "    </tr>\n",
              "    <tr>\n",
              "      <th>502</th>\n",
              "      <td>2022-08-25</td>\n",
              "      <td>117.699997</td>\n",
              "    </tr>\n",
              "    <tr>\n",
              "      <th>503</th>\n",
              "      <td>2022-08-26</td>\n",
              "      <td>111.300003</td>\n",
              "    </tr>\n",
              "  </tbody>\n",
              "</table>\n",
              "</div>\n",
              "    <div class=\"colab-df-buttons\">\n",
              "\n",
              "  <div class=\"colab-df-container\">\n",
              "    <button class=\"colab-df-convert\" onclick=\"convertToInteractive('df-0a676e21-9a96-4155-8469-68106b0a9ae1')\"\n",
              "            title=\"Convert this dataframe to an interactive table.\"\n",
              "            style=\"display:none;\">\n",
              "\n",
              "  <svg xmlns=\"http://www.w3.org/2000/svg\" height=\"24px\" viewBox=\"0 -960 960 960\">\n",
              "    <path d=\"M120-120v-720h720v720H120Zm60-500h600v-160H180v160Zm220 220h160v-160H400v160Zm0 220h160v-160H400v160ZM180-400h160v-160H180v160Zm440 0h160v-160H620v160ZM180-180h160v-160H180v160Zm440 0h160v-160H620v160Z\"/>\n",
              "  </svg>\n",
              "    </button>\n",
              "\n",
              "  <style>\n",
              "    .colab-df-container {\n",
              "      display:flex;\n",
              "      gap: 12px;\n",
              "    }\n",
              "\n",
              "    .colab-df-convert {\n",
              "      background-color: #E8F0FE;\n",
              "      border: none;\n",
              "      border-radius: 50%;\n",
              "      cursor: pointer;\n",
              "      display: none;\n",
              "      fill: #1967D2;\n",
              "      height: 32px;\n",
              "      padding: 0 0 0 0;\n",
              "      width: 32px;\n",
              "    }\n",
              "\n",
              "    .colab-df-convert:hover {\n",
              "      background-color: #E2EBFA;\n",
              "      box-shadow: 0px 1px 2px rgba(60, 64, 67, 0.3), 0px 1px 3px 1px rgba(60, 64, 67, 0.15);\n",
              "      fill: #174EA6;\n",
              "    }\n",
              "\n",
              "    .colab-df-buttons div {\n",
              "      margin-bottom: 4px;\n",
              "    }\n",
              "\n",
              "    [theme=dark] .colab-df-convert {\n",
              "      background-color: #3B4455;\n",
              "      fill: #D2E3FC;\n",
              "    }\n",
              "\n",
              "    [theme=dark] .colab-df-convert:hover {\n",
              "      background-color: #434B5C;\n",
              "      box-shadow: 0px 1px 3px 1px rgba(0, 0, 0, 0.15);\n",
              "      filter: drop-shadow(0px 1px 2px rgba(0, 0, 0, 0.3));\n",
              "      fill: #FFFFFF;\n",
              "    }\n",
              "  </style>\n",
              "\n",
              "    <script>\n",
              "      const buttonEl =\n",
              "        document.querySelector('#df-0a676e21-9a96-4155-8469-68106b0a9ae1 button.colab-df-convert');\n",
              "      buttonEl.style.display =\n",
              "        google.colab.kernel.accessAllowed ? 'block' : 'none';\n",
              "\n",
              "      async function convertToInteractive(key) {\n",
              "        const element = document.querySelector('#df-0a676e21-9a96-4155-8469-68106b0a9ae1');\n",
              "        const dataTable =\n",
              "          await google.colab.kernel.invokeFunction('convertToInteractive',\n",
              "                                                    [key], {});\n",
              "        if (!dataTable) return;\n",
              "\n",
              "        const docLinkHtml = 'Like what you see? Visit the ' +\n",
              "          '<a target=\"_blank\" href=https://colab.research.google.com/notebooks/data_table.ipynb>data table notebook</a>'\n",
              "          + ' to learn more about interactive tables.';\n",
              "        element.innerHTML = '';\n",
              "        dataTable['output_type'] = 'display_data';\n",
              "        await google.colab.output.renderOutput(dataTable, element);\n",
              "        const docLink = document.createElement('div');\n",
              "        docLink.innerHTML = docLinkHtml;\n",
              "        element.appendChild(docLink);\n",
              "      }\n",
              "    </script>\n",
              "  </div>\n",
              "\n",
              "\n",
              "<div id=\"df-936da50f-4570-425d-9e55-8e54dd39df0a\">\n",
              "  <button class=\"colab-df-quickchart\" onclick=\"quickchart('df-936da50f-4570-425d-9e55-8e54dd39df0a')\"\n",
              "            title=\"Suggest charts\"\n",
              "            style=\"display:none;\">\n",
              "\n",
              "<svg xmlns=\"http://www.w3.org/2000/svg\" height=\"24px\"viewBox=\"0 0 24 24\"\n",
              "     width=\"24px\">\n",
              "    <g>\n",
              "        <path d=\"M19 3H5c-1.1 0-2 .9-2 2v14c0 1.1.9 2 2 2h14c1.1 0 2-.9 2-2V5c0-1.1-.9-2-2-2zM9 17H7v-7h2v7zm4 0h-2V7h2v10zm4 0h-2v-4h2v4z\"/>\n",
              "    </g>\n",
              "</svg>\n",
              "  </button>\n",
              "\n",
              "<style>\n",
              "  .colab-df-quickchart {\n",
              "      --bg-color: #E8F0FE;\n",
              "      --fill-color: #1967D2;\n",
              "      --hover-bg-color: #E2EBFA;\n",
              "      --hover-fill-color: #174EA6;\n",
              "      --disabled-fill-color: #AAA;\n",
              "      --disabled-bg-color: #DDD;\n",
              "  }\n",
              "\n",
              "  [theme=dark] .colab-df-quickchart {\n",
              "      --bg-color: #3B4455;\n",
              "      --fill-color: #D2E3FC;\n",
              "      --hover-bg-color: #434B5C;\n",
              "      --hover-fill-color: #FFFFFF;\n",
              "      --disabled-bg-color: #3B4455;\n",
              "      --disabled-fill-color: #666;\n",
              "  }\n",
              "\n",
              "  .colab-df-quickchart {\n",
              "    background-color: var(--bg-color);\n",
              "    border: none;\n",
              "    border-radius: 50%;\n",
              "    cursor: pointer;\n",
              "    display: none;\n",
              "    fill: var(--fill-color);\n",
              "    height: 32px;\n",
              "    padding: 0;\n",
              "    width: 32px;\n",
              "  }\n",
              "\n",
              "  .colab-df-quickchart:hover {\n",
              "    background-color: var(--hover-bg-color);\n",
              "    box-shadow: 0 1px 2px rgba(60, 64, 67, 0.3), 0 1px 3px 1px rgba(60, 64, 67, 0.15);\n",
              "    fill: var(--button-hover-fill-color);\n",
              "  }\n",
              "\n",
              "  .colab-df-quickchart-complete:disabled,\n",
              "  .colab-df-quickchart-complete:disabled:hover {\n",
              "    background-color: var(--disabled-bg-color);\n",
              "    fill: var(--disabled-fill-color);\n",
              "    box-shadow: none;\n",
              "  }\n",
              "\n",
              "  .colab-df-spinner {\n",
              "    border: 2px solid var(--fill-color);\n",
              "    border-color: transparent;\n",
              "    border-bottom-color: var(--fill-color);\n",
              "    animation:\n",
              "      spin 1s steps(1) infinite;\n",
              "  }\n",
              "\n",
              "  @keyframes spin {\n",
              "    0% {\n",
              "      border-color: transparent;\n",
              "      border-bottom-color: var(--fill-color);\n",
              "      border-left-color: var(--fill-color);\n",
              "    }\n",
              "    20% {\n",
              "      border-color: transparent;\n",
              "      border-left-color: var(--fill-color);\n",
              "      border-top-color: var(--fill-color);\n",
              "    }\n",
              "    30% {\n",
              "      border-color: transparent;\n",
              "      border-left-color: var(--fill-color);\n",
              "      border-top-color: var(--fill-color);\n",
              "      border-right-color: var(--fill-color);\n",
              "    }\n",
              "    40% {\n",
              "      border-color: transparent;\n",
              "      border-right-color: var(--fill-color);\n",
              "      border-top-color: var(--fill-color);\n",
              "    }\n",
              "    60% {\n",
              "      border-color: transparent;\n",
              "      border-right-color: var(--fill-color);\n",
              "    }\n",
              "    80% {\n",
              "      border-color: transparent;\n",
              "      border-right-color: var(--fill-color);\n",
              "      border-bottom-color: var(--fill-color);\n",
              "    }\n",
              "    90% {\n",
              "      border-color: transparent;\n",
              "      border-bottom-color: var(--fill-color);\n",
              "    }\n",
              "  }\n",
              "</style>\n",
              "\n",
              "  <script>\n",
              "    async function quickchart(key) {\n",
              "      const quickchartButtonEl =\n",
              "        document.querySelector('#' + key + ' button');\n",
              "      quickchartButtonEl.disabled = true;  // To prevent multiple clicks.\n",
              "      quickchartButtonEl.classList.add('colab-df-spinner');\n",
              "      try {\n",
              "        const charts = await google.colab.kernel.invokeFunction(\n",
              "            'suggestCharts', [key], {});\n",
              "      } catch (error) {\n",
              "        console.error('Error during call to suggestCharts:', error);\n",
              "      }\n",
              "      quickchartButtonEl.classList.remove('colab-df-spinner');\n",
              "      quickchartButtonEl.classList.add('colab-df-quickchart-complete');\n",
              "    }\n",
              "    (() => {\n",
              "      let quickchartButtonEl =\n",
              "        document.querySelector('#df-936da50f-4570-425d-9e55-8e54dd39df0a button');\n",
              "      quickchartButtonEl.style.display =\n",
              "        google.colab.kernel.accessAllowed ? 'block' : 'none';\n",
              "    })();\n",
              "  </script>\n",
              "</div>\n",
              "    </div>\n",
              "  </div>\n"
            ]
          },
          "metadata": {},
          "execution_count": 14
        }
      ],
      "source": [
        "df_close.tail(5)"
      ]
    },
    {
      "cell_type": "code",
      "execution_count": null,
      "id": "777400e7-2650-47e3-8ade-cf48c513a5f0",
      "metadata": {
        "id": "777400e7-2650-47e3-8ade-cf48c513a5f0"
      },
      "outputs": [],
      "source": [
        "import matplotlib.pyplot as plt\n",
        "import seaborn as sns\n",
        "plt.figure(figsize = (20,6))\n",
        "sns.lineplot(data=df_close, x='Date',y='y')\n",
        "plt.title('Google Stock Price from Aug 2020 to Aug 2022')\n",
        "plt.ylabel('Adjusted Closing Stock Price')\n",
        "plt.show()"
      ]
    },
    {
      "cell_type": "code",
      "execution_count": null,
      "id": "efdc3d59-2252-40de-8089-92e5cdb4712e",
      "metadata": {
        "id": "efdc3d59-2252-40de-8089-92e5cdb4712e"
      },
      "outputs": [],
      "source": [
        "# 1,2,3,4,5,6,7,8,9,10\n",
        "\n",
        "# 1,2,3,4 -> 5\n",
        "# 2,3,4,5 -> 6\n",
        "# 3,4,5,6 -> 7\n",
        "\n"
      ]
    },
    {
      "cell_type": "code",
      "execution_count": null,
      "id": "a67da21e-9560-4047-b94c-63e007f10643",
      "metadata": {
        "id": "a67da21e-9560-4047-b94c-63e007f10643"
      },
      "outputs": [],
      "source": [
        "window_size = 45\n",
        "for i in range(window_size):\n",
        "    df_close['y'+str(i+1)] = df_close['y'].shift(i+1)"
      ]
    },
    {
      "cell_type": "code",
      "execution_count": null,
      "id": "95abe6f5-a801-48cf-9f0a-07433c5dbcb3",
      "metadata": {
        "id": "95abe6f5-a801-48cf-9f0a-07433c5dbcb3"
      },
      "outputs": [],
      "source": [
        "df_close.iloc[0:5,:]"
      ]
    },
    {
      "cell_type": "code",
      "execution_count": null,
      "id": "1cd47bd6-3775-4f0a-b8f1-b5b33242e640",
      "metadata": {
        "id": "1cd47bd6-3775-4f0a-b8f1-b5b33242e640"
      },
      "outputs": [],
      "source": [
        "df_close.iloc[45:50,:]"
      ]
    },
    {
      "cell_type": "code",
      "execution_count": null,
      "id": "ba264829-f57a-4860-8fa2-fcd28648a7e6",
      "metadata": {
        "id": "ba264829-f57a-4860-8fa2-fcd28648a7e6"
      },
      "outputs": [],
      "source": [
        "df_close.shape"
      ]
    },
    {
      "cell_type": "code",
      "execution_count": null,
      "id": "0106cec5-456b-4514-8d1c-71739e46ba9c",
      "metadata": {
        "id": "0106cec5-456b-4514-8d1c-71739e46ba9c"
      },
      "outputs": [],
      "source": [
        "df_close.dropna(axis=0, inplace=True)"
      ]
    },
    {
      "cell_type": "code",
      "execution_count": null,
      "id": "8103083b-e7dd-4a11-859f-4b6d7f365e51",
      "metadata": {
        "id": "8103083b-e7dd-4a11-859f-4b6d7f365e51"
      },
      "outputs": [],
      "source": [
        "df_close.shape"
      ]
    },
    {
      "cell_type": "code",
      "execution_count": null,
      "id": "34dfb13c-3df5-4915-99fb-a07a3178dea4",
      "metadata": {
        "id": "34dfb13c-3df5-4915-99fb-a07a3178dea4"
      },
      "outputs": [],
      "source": [
        "df_train = df_close[df_close['Date'] <= pd.to_datetime('2022-08-14')]\n",
        "df_test = df_close[df_close['Date'] > pd.to_datetime('2022-08-14')]"
      ]
    },
    {
      "cell_type": "code",
      "execution_count": null,
      "id": "dd95d52f-58c8-4638-bf99-08fc65577ad9",
      "metadata": {
        "id": "dd95d52f-58c8-4638-bf99-08fc65577ad9"
      },
      "outputs": [],
      "source": [
        "print(f\" Training shape {df_train.shape} Testing Shape {df_test.shape}\")"
      ]
    },
    {
      "cell_type": "code",
      "execution_count": null,
      "id": "22aec13a-9266-44a5-87c8-151628e4f9a6",
      "metadata": {
        "id": "22aec13a-9266-44a5-87c8-151628e4f9a6"
      },
      "outputs": [],
      "source": [
        "df_train.tail()"
      ]
    },
    {
      "cell_type": "code",
      "execution_count": null,
      "id": "cd8029d4-6728-4e91-990b-b653061a22d2",
      "metadata": {
        "id": "cd8029d4-6728-4e91-990b-b653061a22d2"
      },
      "outputs": [],
      "source": [
        "df_test.head(10)"
      ]
    },
    {
      "cell_type": "code",
      "execution_count": null,
      "id": "b922860f-5356-459f-a854-78c545bcbf45",
      "metadata": {
        "id": "b922860f-5356-459f-a854-78c545bcbf45"
      },
      "outputs": [],
      "source": [
        "X_train = df_train.drop(['Date','y'],axis=1)\n",
        "y_train = df_train['y']\n",
        "\n",
        "X_test = df_test.drop(['Date','y'],axis=1)\n",
        "y_test = df_test['y']"
      ]
    },
    {
      "cell_type": "code",
      "execution_count": null,
      "id": "5e8bdb25-f831-455d-b013-492db43d20d3",
      "metadata": {
        "id": "5e8bdb25-f831-455d-b013-492db43d20d3"
      },
      "outputs": [],
      "source": [
        "print(f\" X Train Shape {X_train.shape} and X Test shape {X_test.shape}\")"
      ]
    },
    {
      "cell_type": "code",
      "execution_count": null,
      "id": "591a68c7-d3f6-4a6e-9d82-d16d749e7a54",
      "metadata": {
        "id": "591a68c7-d3f6-4a6e-9d82-d16d749e7a54"
      },
      "outputs": [],
      "source": [
        "from sklearn.preprocessing import StandardScaler\n",
        "scaler = StandardScaler()\n",
        "X_train = scaler.fit_transform(X_train)\n",
        "X_test = scaler.transform(X_test)"
      ]
    },
    {
      "cell_type": "code",
      "execution_count": null,
      "id": "f861140f-77a8-436a-b2a8-b2f65fc38625",
      "metadata": {
        "id": "f861140f-77a8-436a-b2a8-b2f65fc38625"
      },
      "outputs": [],
      "source": [
        "import tensorflow as tf\n",
        "\n",
        "from tensorflow.keras.models import Sequential\n",
        "from tensorflow.keras.layers import Dense, LSTM"
      ]
    },
    {
      "cell_type": "code",
      "execution_count": null,
      "id": "c7b6da9b-cb40-442e-9b36-f06ea05ea73e",
      "metadata": {
        "id": "c7b6da9b-cb40-442e-9b36-f06ea05ea73e"
      },
      "outputs": [],
      "source": [
        "tf.random.set_seed(12345)"
      ]
    },
    {
      "cell_type": "code",
      "execution_count": null,
      "id": "9f7a92a9-f1c7-44c7-b584-ae831a1b7e3c",
      "metadata": {
        "id": "9f7a92a9-f1c7-44c7-b584-ae831a1b7e3c"
      },
      "outputs": [],
      "source": [
        "X_train.shape"
      ]
    },
    {
      "cell_type": "code",
      "execution_count": null,
      "id": "3378c6dd-6bb1-458f-98ff-ae28336ad116",
      "metadata": {
        "id": "3378c6dd-6bb1-458f-98ff-ae28336ad116"
      },
      "outputs": [],
      "source": [
        "X_train = X_train.reshape(X_train.shape[0], X_train.shape[1],1)\n",
        "X_test = X_test.reshape(X_test.shape[0], X_test.shape[1],1)"
      ]
    },
    {
      "cell_type": "code",
      "execution_count": null,
      "id": "7041ec53-6956-4e06-a2f4-8c708332e2bf",
      "metadata": {
        "id": "7041ec53-6956-4e06-a2f4-8c708332e2bf"
      },
      "outputs": [],
      "source": [
        "print(X_train.shape)\n",
        "print(X_test.shape)"
      ]
    },
    {
      "cell_type": "code",
      "execution_count": null,
      "id": "e7d32ca0-e913-4c80-9f4c-8759ad5408a1",
      "metadata": {
        "id": "e7d32ca0-e913-4c80-9f4c-8759ad5408a1"
      },
      "outputs": [],
      "source": [
        "model = Sequential()"
      ]
    },
    {
      "cell_type": "code",
      "execution_count": null,
      "id": "a6cd2f3f-67dc-416b-868d-4e244d9c0197",
      "metadata": {
        "id": "a6cd2f3f-67dc-416b-868d-4e244d9c0197"
      },
      "outputs": [],
      "source": [
        "model.add(LSTM(128,\n",
        "               activation='relu',\n",
        "               return_sequences = True,\n",
        "               input_shape=(None,1)))"
      ]
    },
    {
      "cell_type": "code",
      "execution_count": null,
      "id": "f2013808-f27a-4838-bd5c-1ae2e87f7747",
      "metadata": {
        "id": "f2013808-f27a-4838-bd5c-1ae2e87f7747"
      },
      "outputs": [],
      "source": [
        "model.add(LSTM(128,\n",
        "               activation = 'relu'))"
      ]
    },
    {
      "cell_type": "code",
      "execution_count": null,
      "id": "c2f1d3b3-80af-475e-b22d-a01d38286747",
      "metadata": {
        "id": "c2f1d3b3-80af-475e-b22d-a01d38286747"
      },
      "outputs": [],
      "source": [
        "model.add(Dense(units = 1,\n",
        "                activation = 'linear'))"
      ]
    },
    {
      "cell_type": "code",
      "execution_count": null,
      "id": "1a9dc179-c038-4b7f-998e-feb8d64d5812",
      "metadata": {
        "id": "1a9dc179-c038-4b7f-998e-feb8d64d5812"
      },
      "outputs": [],
      "source": [
        "model.summary()"
      ]
    },
    {
      "cell_type": "code",
      "execution_count": null,
      "id": "d5a1e89d-0d3e-4d31-9019-f9a6ba57a3d7",
      "metadata": {
        "id": "d5a1e89d-0d3e-4d31-9019-f9a6ba57a3d7"
      },
      "outputs": [],
      "source": [
        "model.compile(optimizer='adam',\n",
        "              loss='huber' ,\n",
        "              metrics = 'mse')"
      ]
    },
    {
      "cell_type": "code",
      "execution_count": null,
      "id": "958675e8-c32a-4148-803b-3fe06b34b8e0",
      "metadata": {
        "id": "958675e8-c32a-4148-803b-3fe06b34b8e0"
      },
      "outputs": [],
      "source": [
        "# Mape = Avg(Abs(Actual - Predicted)/Actual)\n",
        "# 1 - MAPE = Accuracy"
      ]
    },
    {
      "cell_type": "code",
      "execution_count": null,
      "id": "f079a127-d158-4048-b5e1-90b564ec3285",
      "metadata": {
        "id": "f079a127-d158-4048-b5e1-90b564ec3285"
      },
      "outputs": [],
      "source": [
        "cp = tf.keras.callbacks.ModelCheckpoint('GoogModel.h5',\n",
        "                                        monitor='val_mse',\n",
        "                                        save_weights=True,\n",
        "                                        save_best_only = True,\n",
        "                                        verbose=1)"
      ]
    },
    {
      "cell_type": "code",
      "execution_count": null,
      "id": "9ccd30e2-1020-4836-8870-317ccb5f439b",
      "metadata": {
        "id": "9ccd30e2-1020-4836-8870-317ccb5f439b"
      },
      "outputs": [],
      "source": [
        "model.fit(X_train,\n",
        "          y_train,\n",
        "          validation_data = (X_test, y_test),\n",
        "          epochs = 200,\n",
        "          callbacks = [cp])"
      ]
    },
    {
      "cell_type": "code",
      "execution_count": null,
      "id": "c304872c-50f7-4036-8d48-7c385b3884b9",
      "metadata": {
        "id": "c304872c-50f7-4036-8d48-7c385b3884b9"
      },
      "outputs": [],
      "source": [
        "new_model = tf.keras.models.load_model('GoogModel.h5')"
      ]
    },
    {
      "cell_type": "code",
      "execution_count": null,
      "id": "8374884a-eaea-4dae-a2e0-cc2a957d0c4d",
      "metadata": {
        "id": "8374884a-eaea-4dae-a2e0-cc2a957d0c4d"
      },
      "outputs": [],
      "source": [
        "y_tr_pred = new_model.predict(X_train)"
      ]
    },
    {
      "cell_type": "code",
      "execution_count": null,
      "id": "4484e68e-611d-405b-8208-5873bc4b28a1",
      "metadata": {
        "id": "4484e68e-611d-405b-8208-5873bc4b28a1"
      },
      "outputs": [],
      "source": [
        "y_ts_pred = new_model.predict(X_test)"
      ]
    },
    {
      "cell_type": "code",
      "execution_count": null,
      "id": "dec2060d-c8a1-4e15-9206-2d8a987bd3ca",
      "metadata": {
        "id": "dec2060d-c8a1-4e15-9206-2d8a987bd3ca"
      },
      "outputs": [],
      "source": [
        "from sklearn.metrics import mean_absolute_percentage_error"
      ]
    },
    {
      "cell_type": "code",
      "execution_count": null,
      "id": "873c897c-d0b7-48f7-bce8-94f897461f4b",
      "metadata": {
        "id": "873c897c-d0b7-48f7-bce8-94f897461f4b"
      },
      "outputs": [],
      "source": [
        "# MAPE = np.mean(np.abs(actual - predicted)/actual)"
      ]
    },
    {
      "cell_type": "code",
      "execution_count": null,
      "id": "f7570746-06c5-46b5-849b-614394608c38",
      "metadata": {
        "id": "f7570746-06c5-46b5-849b-614394608c38"
      },
      "outputs": [],
      "source": [
        "print(f\"Training set accuracy : {np.round(100 - mean_absolute_percentage_error(y_true = y_train, y_pred = y_tr_pred)*100,2)}%\")"
      ]
    },
    {
      "cell_type": "code",
      "execution_count": null,
      "id": "048dbd1d-32a0-4b1d-9849-d5586c5c0259",
      "metadata": {
        "id": "048dbd1d-32a0-4b1d-9849-d5586c5c0259"
      },
      "outputs": [],
      "source": [
        "print(f\"Test set accuracy : {np.round(100 - mean_absolute_percentage_error(y_true = y_test, y_pred = y_ts_pred)*100,2)}%\")"
      ]
    },
    {
      "cell_type": "code",
      "execution_count": null,
      "id": "9db480d6-9291-4988-b0e3-28e419ab4cfb",
      "metadata": {
        "id": "9db480d6-9291-4988-b0e3-28e419ab4cfb"
      },
      "outputs": [],
      "source": [
        "df1 = df_train[['Date','y']]\n",
        "df1['Pred'] = y_tr_pred"
      ]
    },
    {
      "cell_type": "code",
      "execution_count": null,
      "id": "b949bf1e-e2e9-48eb-9f3c-70d88d9d6724",
      "metadata": {
        "id": "b949bf1e-e2e9-48eb-9f3c-70d88d9d6724"
      },
      "outputs": [],
      "source": [
        "df1.head()"
      ]
    },
    {
      "cell_type": "code",
      "execution_count": null,
      "id": "6f738193-01e0-42d9-84c7-1895572eeb31",
      "metadata": {
        "id": "6f738193-01e0-42d9-84c7-1895572eeb31"
      },
      "outputs": [],
      "source": [
        "plt.figure(figsize = (20,6))\n",
        "plt.plot(df1['Date'], df1['y'],color='blue', label='Actual')\n",
        "plt.plot(df1['Date'], df1['Pred'],color='red', label='Predicted')\n",
        "plt.title(\"Google Stock Price - Actual vs Predicted \" )\n",
        "plt.xlabel(\"Date\")\n",
        "plt.ylabel(\"Stock Price\")\n",
        "plt.legend()\n",
        "plt.show()"
      ]
    },
    {
      "cell_type": "code",
      "execution_count": null,
      "id": "44fbc4bd-ce4e-4054-abd4-e2adf0805093",
      "metadata": {
        "id": "44fbc4bd-ce4e-4054-abd4-e2adf0805093"
      },
      "outputs": [],
      "source": [
        "new_test_df = df_test[['Date','y']].copy()"
      ]
    },
    {
      "cell_type": "code",
      "execution_count": null,
      "id": "5cb24c31-21e9-41af-9627-e4189c29aeb6",
      "metadata": {
        "id": "5cb24c31-21e9-41af-9627-e4189c29aeb6"
      },
      "outputs": [],
      "source": [
        "new_test_df['yhat'] = y_ts_pred"
      ]
    },
    {
      "cell_type": "code",
      "execution_count": null,
      "id": "a7de9e1e-8f0e-4fc2-a504-ef67d8a03124",
      "metadata": {
        "id": "a7de9e1e-8f0e-4fc2-a504-ef67d8a03124"
      },
      "outputs": [],
      "source": [
        "new_test_df"
      ]
    },
    {
      "cell_type": "code",
      "execution_count": null,
      "id": "851d5618-9bd0-4a66-aabf-3c0c473b4fce",
      "metadata": {
        "id": "851d5618-9bd0-4a66-aabf-3c0c473b4fce"
      },
      "outputs": [],
      "source": [
        "plt.figure(figsize = (12,4))\n",
        "plt.plot(new_test_df['Date'], new_test_df['y'],color='blue', label='Actual')\n",
        "plt.plot(new_test_df['Date'], new_test_df['yhat'],color='red', label='Predicted')\n",
        "plt.title(\"Google Stock Price - Actual vs Predicted on Test Set\" )\n",
        "plt.xlabel(\"Date\")\n",
        "plt.ylabel(\"Stock Price\")\n",
        "plt.legend()\n",
        "plt.show()"
      ]
    },
    {
      "cell_type": "code",
      "execution_count": null,
      "id": "203d9078-187b-4504-a340-9b6b0aa7fc9d",
      "metadata": {
        "id": "203d9078-187b-4504-a340-9b6b0aa7fc9d"
      },
      "outputs": [],
      "source": [
        "new_test_df"
      ]
    },
    {
      "cell_type": "code",
      "source": [
        "df_close.tail()"
      ],
      "metadata": {
        "id": "GTXLJYLXOGPo"
      },
      "id": "GTXLJYLXOGPo",
      "execution_count": null,
      "outputs": []
    },
    {
      "cell_type": "code",
      "source": [],
      "metadata": {
        "id": "7LTxKZ-iOZL3"
      },
      "id": "7LTxKZ-iOZL3",
      "execution_count": null,
      "outputs": []
    }
  ],
  "metadata": {
    "kernelspec": {
      "display_name": "Python 3",
      "language": "python",
      "name": "python3"
    },
    "language_info": {
      "codemirror_mode": {
        "name": "ipython",
        "version": 3
      },
      "file_extension": ".py",
      "mimetype": "text/x-python",
      "name": "python",
      "nbconvert_exporter": "python",
      "pygments_lexer": "ipython3",
      "version": "3.7.6"
    },
    "colab": {
      "provenance": []
    }
  },
  "nbformat": 4,
  "nbformat_minor": 5
}