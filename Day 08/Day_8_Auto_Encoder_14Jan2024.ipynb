{
  "cells": [
    {
      "cell_type": "code",
      "execution_count": null,
      "id": "a40948a0-0472-4cf3-a5ae-169be8664b28",
      "metadata": {
        "id": "a40948a0-0472-4cf3-a5ae-169be8664b28"
      },
      "outputs": [],
      "source": [
        "import numpy as np\n",
        "import pandas as pd\n",
        "\n",
        "import tensorflow as tf"
      ]
    },
    {
      "cell_type": "code",
      "execution_count": null,
      "id": "10f88df5-dba9-4065-beb2-7203101992ab",
      "metadata": {
        "id": "10f88df5-dba9-4065-beb2-7203101992ab"
      },
      "outputs": [],
      "source": [
        "from tensorflow.keras.datasets import mnist"
      ]
    },
    {
      "cell_type": "code",
      "execution_count": null,
      "id": "225cfbfc-1952-4757-9cbe-aaa51d4fc77e",
      "metadata": {
        "id": "225cfbfc-1952-4757-9cbe-aaa51d4fc77e"
      },
      "outputs": [],
      "source": [
        "(X_train, y_train), (X_test, y_test) = mnist.load_data()"
      ]
    },
    {
      "cell_type": "code",
      "execution_count": null,
      "id": "fc533378-5209-488f-b029-227dee821391",
      "metadata": {
        "id": "fc533378-5209-488f-b029-227dee821391",
        "outputId": "3c177bb6-02b4-4eb2-fc4d-0e81b980aa79"
      },
      "outputs": [
        {
          "data": {
            "text/plain": [
              "((60000, 28, 28), (10000, 28, 28))"
            ]
          },
          "execution_count": 4,
          "metadata": {},
          "output_type": "execute_result"
        }
      ],
      "source": [
        "X_train.shape, X_test.shape"
      ]
    },
    {
      "cell_type": "code",
      "execution_count": null,
      "id": "18ea2355-1dc4-4182-8c7f-488c3246284d",
      "metadata": {
        "id": "18ea2355-1dc4-4182-8c7f-488c3246284d"
      },
      "outputs": [],
      "source": [
        "X_train = X_train/255\n",
        "X_test = X_test/255"
      ]
    },
    {
      "cell_type": "code",
      "execution_count": null,
      "id": "07e96ce4-7239-4904-897d-045edc7f8d45",
      "metadata": {
        "id": "07e96ce4-7239-4904-897d-045edc7f8d45",
        "outputId": "639e9ca5-e86c-4f53-9266-0a4be0c1d6ac"
      },
      "outputs": [
        {
          "name": "stdout",
          "output_type": "stream",
          "text": [
            "(60000, 784)\n",
            "(10000, 784)\n"
          ]
        }
      ],
      "source": [
        "X_train = X_train.reshape((X_train.shape[0], 784))\n",
        "X_test = X_test.reshape((X_test.shape[0], 784))\n",
        "print(X_train.shape)\n",
        "print(X_test.shape)"
      ]
    },
    {
      "cell_type": "code",
      "execution_count": null,
      "id": "91b8dc8f-771c-46c6-86ff-088bc27a7eaf",
      "metadata": {
        "id": "91b8dc8f-771c-46c6-86ff-088bc27a7eaf"
      },
      "outputs": [],
      "source": [
        "from tensorflow.keras.models import Model"
      ]
    },
    {
      "cell_type": "code",
      "execution_count": null,
      "id": "d2a611c3-6373-46d4-a622-994d67fc0888",
      "metadata": {
        "id": "d2a611c3-6373-46d4-a622-994d67fc0888"
      },
      "outputs": [],
      "source": [
        "from tensorflow.keras.layers import Dense,Input"
      ]
    },
    {
      "cell_type": "code",
      "execution_count": null,
      "id": "513fb1e4-f597-43fd-a66e-1c245732d140",
      "metadata": {
        "id": "513fb1e4-f597-43fd-a66e-1c245732d140"
      },
      "outputs": [],
      "source": [
        "# Define the Input Layer\n",
        "input_layer = Input(shape=(784,))"
      ]
    },
    {
      "cell_type": "code",
      "execution_count": null,
      "id": "af6b87f8-367f-4173-afe3-a66e209bcc3d",
      "metadata": {
        "id": "af6b87f8-367f-4173-afe3-a66e209bcc3d"
      },
      "outputs": [],
      "source": [
        "# Encoding Layer\n",
        "encoder_layer = Dense(64, activation='relu')(input_layer) #bottleneck"
      ]
    },
    {
      "cell_type": "code",
      "execution_count": null,
      "id": "15909407-0a41-495f-a570-4f134f0dd2c8",
      "metadata": {
        "id": "15909407-0a41-495f-a570-4f134f0dd2c8"
      },
      "outputs": [],
      "source": [
        "# Decode Layer\n",
        "decoder_layer = Dense(784, activation='sigmoid')(encoder_layer)"
      ]
    },
    {
      "cell_type": "code",
      "execution_count": null,
      "id": "f5c5e34c-7f59-4639-bc1d-32a9d8882e17",
      "metadata": {
        "id": "f5c5e34c-7f59-4639-bc1d-32a9d8882e17"
      },
      "outputs": [],
      "source": [
        "# Create the AutoEncoder Model\n",
        "autoencoder = Model(input_layer, decoder_layer)"
      ]
    },
    {
      "cell_type": "code",
      "execution_count": null,
      "id": "ad1a4066-29cf-4426-961d-0d1135f35a1a",
      "metadata": {
        "id": "ad1a4066-29cf-4426-961d-0d1135f35a1a"
      },
      "outputs": [],
      "source": [
        "encoder_model = Model(input_layer, encoder_layer)"
      ]
    },
    {
      "cell_type": "code",
      "execution_count": null,
      "id": "7693cdf1-b2fe-4da8-8280-5098d0d5cce0",
      "metadata": {
        "id": "7693cdf1-b2fe-4da8-8280-5098d0d5cce0"
      },
      "outputs": [],
      "source": [
        "# 64 neuron input layer for the Decoder\n",
        "encoded_input = Input(shape=(64,))\n",
        "\n",
        "# Retrieve the last layer of the autoencoder model\n",
        "decoded_layer = autoencoder.layers[-1]\n",
        "\n",
        "# Create the decoder model\n",
        "decoder = Model(encoded_input, decoded_layer(encoded_input))"
      ]
    },
    {
      "cell_type": "code",
      "execution_count": null,
      "id": "5d13ab5b-395f-45a7-b598-ea38d50906c4",
      "metadata": {
        "id": "5d13ab5b-395f-45a7-b598-ea38d50906c4"
      },
      "outputs": [],
      "source": [
        "autoencoder.compile(optimizer='adam',\n",
        "                    loss='binary_crossentropy')"
      ]
    },
    {
      "cell_type": "code",
      "execution_count": null,
      "id": "46c20f64-67af-432e-af09-b74145596e98",
      "metadata": {
        "id": "46c20f64-67af-432e-af09-b74145596e98",
        "outputId": "75d576da-9ea4-4d13-a717-00bb8be54f43"
      },
      "outputs": [
        {
          "name": "stdout",
          "output_type": "stream",
          "text": [
            "Epoch 1/20\n",
            "1875/1875 [==============================] - 6s 3ms/step - loss: 0.1357 - val_loss: 0.0911\n",
            "Epoch 2/20\n",
            "1875/1875 [==============================] - 6s 3ms/step - loss: 0.0834 - val_loss: 0.0777\n",
            "Epoch 3/20\n",
            "1875/1875 [==============================] - 6s 3ms/step - loss: 0.0771 - val_loss: 0.0751\n",
            "Epoch 4/20\n",
            "1875/1875 [==============================] - 6s 3ms/step - loss: 0.0754 - val_loss: 0.0743\n",
            "Epoch 5/20\n",
            "1875/1875 [==============================] - 6s 3ms/step - loss: 0.0748 - val_loss: 0.0740\n",
            "Epoch 6/20\n",
            "1875/1875 [==============================] - 6s 3ms/step - loss: 0.0744 - val_loss: 0.0736\n",
            "Epoch 7/20\n",
            "1875/1875 [==============================] - 6s 3ms/step - loss: 0.0742 - val_loss: 0.0733\n",
            "Epoch 8/20\n",
            "1875/1875 [==============================] - 6s 3ms/step - loss: 0.0740 - val_loss: 0.0733\n",
            "Epoch 9/20\n",
            "1875/1875 [==============================] - 6s 3ms/step - loss: 0.0739 - val_loss: 0.0732\n",
            "Epoch 10/20\n",
            "1875/1875 [==============================] - 6s 3ms/step - loss: 0.0738 - val_loss: 0.0733\n",
            "Epoch 11/20\n",
            "1875/1875 [==============================] - 6s 3ms/step - loss: 0.0737 - val_loss: 0.0730\n",
            "Epoch 12/20\n",
            "1875/1875 [==============================] - 6s 3ms/step - loss: 0.0736 - val_loss: 0.0730\n",
            "Epoch 13/20\n",
            "1875/1875 [==============================] - 6s 3ms/step - loss: 0.0736 - val_loss: 0.0730\n",
            "Epoch 14/20\n",
            "1875/1875 [==============================] - 6s 3ms/step - loss: 0.0735 - val_loss: 0.0730\n",
            "Epoch 15/20\n",
            "1875/1875 [==============================] - 6s 3ms/step - loss: 0.0735 - val_loss: 0.0729\n",
            "Epoch 16/20\n",
            "1875/1875 [==============================] - 6s 3ms/step - loss: 0.0734 - val_loss: 0.0729\n",
            "Epoch 17/20\n",
            "1875/1875 [==============================] - 6s 3ms/step - loss: 0.0734 - val_loss: 0.0730\n",
            "Epoch 18/20\n",
            "1875/1875 [==============================] - 6s 3ms/step - loss: 0.0734 - val_loss: 0.0728\n",
            "Epoch 19/20\n",
            "1875/1875 [==============================] - 6s 3ms/step - loss: 0.0734 - val_loss: 0.0729\n",
            "Epoch 20/20\n",
            "1875/1875 [==============================] - 6s 3ms/step - loss: 0.0733 - val_loss: 0.0729\n"
          ]
        },
        {
          "data": {
            "text/plain": [
              "<keras.callbacks.History at 0x7fb2f71b8110>"
            ]
          },
          "execution_count": 16,
          "metadata": {},
          "output_type": "execute_result"
        }
      ],
      "source": [
        "autoencoder.fit(X_train, X_train,\n",
        "                epochs=20,\n",
        "                shuffle=True,\n",
        "                validation_data=(X_test, X_test))"
      ]
    },
    {
      "cell_type": "code",
      "execution_count": null,
      "id": "ff465213-a890-4663-a16d-d36df1a66a6d",
      "metadata": {
        "id": "ff465213-a890-4663-a16d-d36df1a66a6d"
      },
      "outputs": [],
      "source": [
        "# We will use the X_test and the encoder model to Encode the images\n",
        "encoded_imgs = encoder_model.predict(X_test)"
      ]
    },
    {
      "cell_type": "code",
      "execution_count": null,
      "id": "f87f434c-212f-46db-a351-1f0f44061ac2",
      "metadata": {
        "id": "f87f434c-212f-46db-a351-1f0f44061ac2"
      },
      "outputs": [],
      "source": [
        "import matplotlib.pyplot as plt"
      ]
    },
    {
      "cell_type": "code",
      "execution_count": null,
      "id": "16dc9dd2-75e8-492e-8c2b-125037428b89",
      "metadata": {
        "id": "16dc9dd2-75e8-492e-8c2b-125037428b89",
        "outputId": "bcb34357-9101-42bd-d2b4-078d8760a99d"
      },
      "outputs": [
        {
          "data": {
            "text/plain": [
              "<matplotlib.image.AxesImage at 0x7fb2a1a3bd10>"
            ]
          },
          "execution_count": 19,
          "metadata": {},
          "output_type": "execute_result"
        },
        {
          "data": {
            "image/png": "[encoded data removed]",
            "text/plain": [
              "<Figure size 432x288 with 1 Axes>"
            ]
          },
          "metadata": {
            "needs_background": "light"
          },
          "output_type": "display_data"
        }
      ],
      "source": [
        "plt.imshow(encoded_imgs[1].reshape(8,8), cmap='gray')"
      ]
    },
    {
      "cell_type": "code",
      "execution_count": null,
      "id": "2a05a9ca-ddf2-47a6-a625-0c57d4a4436f",
      "metadata": {
        "id": "2a05a9ca-ddf2-47a6-a625-0c57d4a4436f",
        "outputId": "47089262-d22f-40e1-8327-158793be41b4"
      },
      "outputs": [
        {
          "data": {
            "text/plain": [
              "<matplotlib.image.AxesImage at 0x7fb2a153bd50>"
            ]
          },
          "execution_count": 20,
          "metadata": {},
          "output_type": "execute_result"
        },
        {
          "data": {
            "image/png": "[encoded data removed]",
            "text/plain": [
              "<Figure size 432x288 with 1 Axes>"
            ]
          },
          "metadata": {
            "needs_background": "light"
          },
          "output_type": "display_data"
        }
      ],
      "source": [
        "plt.imshow(X_test[1].reshape(28,28), cmap='gray')"
      ]
    },
    {
      "cell_type": "code",
      "execution_count": null,
      "id": "171a3c07-90f6-44b4-961a-696154382afb",
      "metadata": {
        "id": "171a3c07-90f6-44b4-961a-696154382afb",
        "outputId": "eb4d41fb-92b3-4e76-d392-889ed7621e17"
      },
      "outputs": [
        {
          "data": {
            "text/plain": [
              "2"
            ]
          },
          "execution_count": 21,
          "metadata": {},
          "output_type": "execute_result"
        }
      ],
      "source": [
        "y_test[1]"
      ]
    },
    {
      "cell_type": "code",
      "execution_count": null,
      "id": "f1a8accd-b230-4f0b-a21c-bce1a598bfd8",
      "metadata": {
        "id": "f1a8accd-b230-4f0b-a21c-bce1a598bfd8",
        "outputId": "db85bce3-a862-4267-b006-5544f699ddf3"
      },
      "outputs": [
        {
          "data": {
            "text/plain": [
              "(64,)"
            ]
          },
          "execution_count": 22,
          "metadata": {},
          "output_type": "execute_result"
        }
      ],
      "source": [
        "encoded_imgs[0].shape"
      ]
    },
    {
      "cell_type": "code",
      "execution_count": null,
      "id": "17c6ff44-d98c-4686-9bdd-2374f6617430",
      "metadata": {
        "id": "17c6ff44-d98c-4686-9bdd-2374f6617430"
      },
      "outputs": [],
      "source": [
        "decoded_imgs = decoder.predict(encoded_imgs) # Use the decoder model to decode the encoded images"
      ]
    },
    {
      "cell_type": "code",
      "execution_count": null,
      "id": "ca2536c7-1c3a-446b-bef2-7b40838b7137",
      "metadata": {
        "id": "ca2536c7-1c3a-446b-bef2-7b40838b7137",
        "outputId": "6e33a7e7-e211-4455-d47f-29e22b706db7"
      },
      "outputs": [
        {
          "data": {
            "image/png": "[encoded data removed]",
            "text/plain": [
              "<Figure size 1440x360 with 20 Axes>"
            ]
          },
          "metadata": {
            "needs_background": "light"
          },
          "output_type": "display_data"
        }
      ],
      "source": [
        "import matplotlib.pyplot as plt\n",
        "\n",
        "n = 10\n",
        "plt.figure(figsize=(20, 5))\n",
        "for i in range(n):\n",
        "    # Original Images\n",
        "    ax = plt.subplot(2, n, i + 1)\n",
        "    plt.imshow(X_test[i].reshape(28, 28), cmap='gray')\n",
        "    ax.get_xaxis().set_visible(False)\n",
        "    ax.get_yaxis().set_visible(False)\n",
        "\n",
        "    # Reconstructed Layers\n",
        "    ax = plt.subplot(2, n, i + 1 + n)\n",
        "    plt.imshow(decoded_imgs[i].reshape(28, 28), cmap='gray')\n",
        "    ax.get_xaxis().set_visible(False)\n",
        "    ax.get_yaxis().set_visible(False)\n",
        "plt.show()"
      ]
    },
    {
      "cell_type": "code",
      "execution_count": null,
      "id": "0b788544-a51b-4adc-a144-d0261e02e995",
      "metadata": {
        "id": "0b788544-a51b-4adc-a144-d0261e02e995",
        "outputId": "d9fe697e-5f29-4bed-de6d-e0cea72b33e3"
      },
      "outputs": [
        {
          "name": "stdout",
          "output_type": "stream",
          "text": [
            "Model: \"model\"\n",
            "_________________________________________________________________\n",
            " Layer (type)                Output Shape              Param #   \n",
            "=================================================================\n",
            " input_1 (InputLayer)        [(None, 784)]             0         \n",
            "                                                                 \n",
            " dense (Dense)               (None, 64)                50240     \n",
            "                                                                 \n",
            " dense_1 (Dense)             (None, 784)               50960     \n",
            "                                                                 \n",
            "=================================================================\n",
            "Total params: 101,200\n",
            "Trainable params: 101,200\n",
            "Non-trainable params: 0\n",
            "_________________________________________________________________\n"
          ]
        }
      ],
      "source": [
        "autoencoder.summary()"
      ]
    },
    {
      "cell_type": "code",
      "execution_count": null,
      "id": "62f1c58b-ed54-4cd2-b471-409028446674",
      "metadata": {
        "id": "62f1c58b-ed54-4cd2-b471-409028446674",
        "outputId": "e624d11f-4979-42d7-c4b8-da65d230d993"
      },
      "outputs": [
        {
          "name": "stdout",
          "output_type": "stream",
          "text": [
            "Model: \"model_1\"\n",
            "_________________________________________________________________\n",
            " Layer (type)                Output Shape              Param #   \n",
            "=================================================================\n",
            " input_1 (InputLayer)        [(None, 784)]             0         \n",
            "                                                                 \n",
            " dense (Dense)               (None, 64)                50240     \n",
            "                                                                 \n",
            "=================================================================\n",
            "Total params: 50,240\n",
            "Trainable params: 50,240\n",
            "Non-trainable params: 0\n",
            "_________________________________________________________________\n"
          ]
        }
      ],
      "source": [
        "encoder_model.summary()"
      ]
    },
    {
      "cell_type": "code",
      "execution_count": null,
      "id": "5f284ee9-2220-4e0b-b536-8bc3b4845e6d",
      "metadata": {
        "id": "5f284ee9-2220-4e0b-b536-8bc3b4845e6d",
        "outputId": "fb615ca3-e202-4304-8b92-484ab96d8e8e"
      },
      "outputs": [
        {
          "name": "stdout",
          "output_type": "stream",
          "text": [
            "Model: \"model_2\"\n",
            "_________________________________________________________________\n",
            " Layer (type)                Output Shape              Param #   \n",
            "=================================================================\n",
            " input_2 (InputLayer)        [(None, 64)]              0         \n",
            "                                                                 \n",
            " dense_1 (Dense)             (None, 784)               50960     \n",
            "                                                                 \n",
            "=================================================================\n",
            "Total params: 50,960\n",
            "Trainable params: 50,960\n",
            "Non-trainable params: 0\n",
            "_________________________________________________________________\n"
          ]
        }
      ],
      "source": [
        "decoder.summary()"
      ]
    },
    {
      "cell_type": "code",
      "execution_count": null,
      "id": "84f96d01-2c85-4b4e-9706-3d32bcaf5526",
      "metadata": {
        "id": "84f96d01-2c85-4b4e-9706-3d32bcaf5526"
      },
      "outputs": [],
      "source": []
    },
    {
      "cell_type": "code",
      "execution_count": null,
      "id": "a90da545-33cc-47f7-9338-1a09c0f38f47",
      "metadata": {
        "id": "a90da545-33cc-47f7-9338-1a09c0f38f47"
      },
      "outputs": [],
      "source": []
    }
  ],
  "metadata": {
    "kernelspec": {
      "display_name": "Python 3",
      "language": "python",
      "name": "python3"
    },
    "language_info": {
      "codemirror_mode": {
        "name": "ipython",
        "version": 3
      },
      "file_extension": ".py",
      "mimetype": "text/x-python",
      "name": "python",
      "nbconvert_exporter": "python",
      "pygments_lexer": "ipython3",
      "version": "3.7.6"
    },
    "colab": {
      "provenance": []
    }
  },
  "nbformat": 4,
  "nbformat_minor": 5
}