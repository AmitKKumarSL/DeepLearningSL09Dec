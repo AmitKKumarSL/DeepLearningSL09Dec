{
  "nbformat": 4,
  "nbformat_minor": 0,
  "metadata": {
    "colab": {
      "provenance": []
    },
    "kernelspec": {
      "name": "python3",
      "display_name": "Python 3"
    },
    "language_info": {
      "name": "python"
    }
  },
  "cells": [
    {
      "cell_type": "code",
      "source": [
        "!pip install transformers"
      ],
      "metadata": {
        "id": "u-moZVo2atfS"
      },
      "execution_count": null,
      "outputs": []
    },
    {
      "cell_type": "markdown",
      "source": [
        "### **Question Answers**"
      ],
      "metadata": {
        "id": "WJHaQ6TVdNhi"
      }
    },
    {
      "cell_type": "code",
      "source": [
        "t_text = \"Life coaches say that in order to truly create something valuable and inspiring, you need to concentrate on one thing at a time. It requires simplicity, an art of reducing something to its essence, so that you couldn't take anything away without making it substantially less. In other words, simplicity is only reached, if you have taken everything away that is not essential. Simplicity creates a more simple life; it also effectively reduces stress. It is about stepping back and gently focusing. And as Seneca says, to be everywhere is to be nowhere.\""
      ],
      "metadata": {
        "id": "-FkhffNfbAiG"
      },
      "execution_count": null,
      "outputs": []
    },
    {
      "cell_type": "code",
      "source": [
        "t_text"
      ],
      "metadata": {
        "id": "BzNEShwl9MFC"
      },
      "execution_count": null,
      "outputs": []
    },
    {
      "cell_type": "code",
      "execution_count": null,
      "metadata": {
        "id": "2gjFXHDAaqB0"
      },
      "outputs": [],
      "source": [
        "from transformers import pipeline\n",
        "\n",
        "model_name = \"deepset/roberta-base-squad2\""
      ]
    },
    {
      "cell_type": "code",
      "source": [
        "nlp = pipeline('question-answering', model=model_name, tokenizer=model_name)"
      ],
      "metadata": {
        "id": "Q8PYgw7WbGA_"
      },
      "execution_count": null,
      "outputs": []
    },
    {
      "cell_type": "code",
      "source": [
        "question_input = {\n",
        "    'question': 'How can you reach simplicity?',\n",
        "    'context': t_text\n",
        "}\n",
        "\n",
        "#\"What do life coaches say?\",\n",
        "#\"What does Zen master say?\","
      ],
      "metadata": {
        "id": "HuKJYLvdbKSZ"
      },
      "execution_count": null,
      "outputs": []
    },
    {
      "cell_type": "code",
      "source": [
        "res = nlp(question_input)"
      ],
      "metadata": {
        "id": "RW21DpqfbRgb"
      },
      "execution_count": null,
      "outputs": []
    },
    {
      "cell_type": "code",
      "source": [
        "res.get('answer')"
      ],
      "metadata": {
        "id": "XoVG-KsFbU_U"
      },
      "execution_count": null,
      "outputs": []
    },
    {
      "cell_type": "markdown",
      "source": [
        "### **Text Generation**"
      ],
      "metadata": {
        "id": "ED9OhU30dSbq"
      }
    },
    {
      "cell_type": "code",
      "source": [
        "generator = pipeline('text-generation', model='EleutherAI/pythia-160M')"
      ],
      "metadata": {
        "id": "goyxoHHyceYF"
      },
      "execution_count": null,
      "outputs": []
    },
    {
      "cell_type": "code",
      "source": [
        "res = generator(\"The Woods are lovely dark and deep\", do_sample=True, min_length=20, max_length=100)"
      ],
      "metadata": {
        "id": "bM2LNGnTd7xJ"
      },
      "execution_count": null,
      "outputs": []
    },
    {
      "cell_type": "code",
      "source": [
        "print(res[0].get('generated_text'))"
      ],
      "metadata": {
        "id": "aopERv3md_EV"
      },
      "execution_count": null,
      "outputs": []
    },
    {
      "cell_type": "code",
      "source": [],
      "metadata": {
        "id": "PI9rfnU6eL3w"
      },
      "execution_count": null,
      "outputs": []
    }
  ]
}